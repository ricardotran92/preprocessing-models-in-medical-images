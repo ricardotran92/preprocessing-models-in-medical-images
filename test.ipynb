{
 "cells": [
  {
   "cell_type": "code",
   "execution_count": 1,
   "metadata": {},
   "outputs": [],
   "source": [
    "image = 'D:\\repos\\preprocessing-models-in-medical-images\\medical_testsets\\origin\\COVID19_Pneumonia_Normal_Chest_Xray_PA\\covid\\004.jpeg'"
   ]
  },
  {
   "cell_type": "code",
   "execution_count": 4,
   "metadata": {},
   "outputs": [
    {
     "name": "stdout",
     "output_type": "stream",
     "text": [
      "WARNING:tensorflow:From c:\\Python310\\lib\\site-packages\\tf_keras\\src\\backend.py:1400: The name tf.executing_eagerly_outside_functions is deprecated. Please use tf.compat.v1.executing_eagerly_outside_functions instead.\n",
      "\n",
      "WARNING:tensorflow:From c:\\Python310\\lib\\site-packages\\tf_keras\\src\\layers\\normalization\\batch_normalization.py:979: The name tf.nn.fused_batch_norm is deprecated. Please use tf.compat.v1.nn.fused_batch_norm instead.\n",
      "\n",
      "1/1 [==============================] - 2s 2s/step\n",
      "Predicted class: Normal\n"
     ]
    }
   ],
   "source": [
    "# Manual upload an local image to predict\n",
    "from keras.preprocessing import image\n",
    "import tf_keras\n",
    "import numpy as np\n",
    "\n",
    "# # Upload the image\n",
    "# uploaded = files.upload()\n",
    "\n",
    "# # Load the image\n",
    "# for fn in uploaded.keys():\n",
    "#     path = fn\n",
    "#     img = image.load_img(path, target_size=(224, 224))\n",
    "#     x = image.img_to_array(img)\n",
    "#     x = np.expand_dims(x, axis=0)\n",
    "\n",
    "img = image.load_img('medical_testsets/pred_analysis/pred_img/unsharp_masking_bilateral_filter/Brain-Stroke-CT-Image-Dataset\\Stroke/88 (16).jpg', target_size=(224, 224))\n",
    "x = image.img_to_array(img)\n",
    "x = np.expand_dims(x, axis=0)\n",
    "\n",
    "# Now you can use the image array 'x' for prediction\n",
    "model = tf_keras.models.load_model('models/09_07/09_07_05/best_model_val_acc.h5')\n",
    "prediction = model.predict(x)\n",
    "\n",
    "# Get the predicted class index\n",
    "predicted_class_index = np.argmax(prediction, axis=-1)\n",
    "\n",
    "# Get the class names from the training dataset\n",
    "# class_names = ['covid', 'normal', 'pneumonia']\n",
    "class_names = ['Normal', 'Stroke']\n",
    "\n",
    "# Get the predicted class name\n",
    "predicted_class_name = class_names[predicted_class_index[0]]\n",
    "\n",
    "print(\"Predicted class:\", predicted_class_name)"
   ]
  },
  {
   "cell_type": "code",
   "execution_count": 1,
   "metadata": {},
   "outputs": [
    {
     "name": "stdout",
     "output_type": "stream",
     "text": [
      "0\n"
     ]
    }
   ],
   "source": [
    "import numpy as np\n",
    "print(np.argmax([0.5, 0.2, 0.1]))"
   ]
  },
  {
   "cell_type": "markdown",
   "metadata": {},
   "source": [
    "### Copy"
   ]
  },
  {
   "cell_type": "code",
   "execution_count": 8,
   "metadata": {},
   "outputs": [
    {
     "name": "stdout",
     "output_type": "stream",
     "text": [
      "copy \"medical_testsets\\preprocessed\\Ultrasound-Breast-Images-for-Breast-Cancer_unsharpMasking_bilateralfilter\\malignant/malignant (1)-sharpened-sharpened-rotated2.png\" \"medical_testsets\\pred_analysis\\pred_img\\preprocessing_group\\unsharp_masking_bilateral_filter\\Ultrasound-Breast-Images-for-Breast-Cancer\\malignant/malignant (1)-sharpened-sharpened-rotated2.png\"\n",
      "copy \"medical_testsets\\preprocessed\\Ultrasound-Breast-Images-for-Breast-Cancer_unsharpMasking_bilateralfilter\\malignant/malignant (11)-rotated1-rotated2.png\" \"medical_testsets\\pred_analysis\\pred_img\\preprocessing_group\\unsharp_masking_bilateral_filter\\Ultrasound-Breast-Images-for-Breast-Cancer\\malignant/malignant (11)-rotated1-rotated2.png\"\n",
      "copy \"medical_testsets\\preprocessed\\Ultrasound-Breast-Images-for-Breast-Cancer_unsharpMasking_bilateralfilter\\malignant/malignant (11)-rotated1-rotated32.png\" \"medical_testsets\\pred_analysis\\pred_img\\preprocessing_group\\unsharp_masking_bilateral_filter\\Ultrasound-Breast-Images-for-Breast-Cancer\\malignant/malignant (11)-rotated1-rotated32.png\"\n",
      "copy \"medical_testsets\\preprocessed\\Ultrasound-Breast-Images-for-Breast-Cancer_unsharpMasking_bilateralfilter\\malignant/malignant (11)-rotated1-sharpened.png\" \"medical_testsets\\pred_analysis\\pred_img\\preprocessing_group\\unsharp_masking_bilateral_filter\\Ultrasound-Breast-Images-for-Breast-Cancer\\malignant/malignant (11)-rotated1-sharpened.png\"\n",
      "copy \"medical_testsets\\preprocessed\\Ultrasound-Breast-Images-for-Breast-Cancer_unsharpMasking_bilateralfilter\\malignant/malignant (11)-rotated1.png\" \"medical_testsets\\pred_analysis\\pred_img\\preprocessing_group\\unsharp_masking_bilateral_filter\\Ultrasound-Breast-Images-for-Breast-Cancer\\malignant/malignant (11)-rotated1.png\"\n",
      "copy \"medical_testsets\\preprocessed\\Ultrasound-Breast-Images-for-Breast-Cancer_unsharpMasking_bilateralfilter\\malignant/malignant (11)-rotated32-rotated1.png\" \"medical_testsets\\pred_analysis\\pred_img\\preprocessing_group\\unsharp_masking_bilateral_filter\\Ultrasound-Breast-Images-for-Breast-Cancer\\malignant/malignant (11)-rotated32-rotated1.png\"\n",
      "copy \"medical_testsets\\preprocessed\\Ultrasound-Breast-Images-for-Breast-Cancer_unsharpMasking_bilateralfilter\\malignant/malignant (11)-sharpened-rotated1.png\" \"medical_testsets\\pred_analysis\\pred_img\\preprocessing_group\\unsharp_masking_bilateral_filter\\Ultrasound-Breast-Images-for-Breast-Cancer\\malignant/malignant (11)-sharpened-rotated1.png\"\n",
      "copy \"medical_testsets\\preprocessed\\Ultrasound-Breast-Images-for-Breast-Cancer_unsharpMasking_bilateralfilter\\malignant/malignant (11)-sharpened-rotated2.png\" \"medical_testsets\\pred_analysis\\pred_img\\preprocessing_group\\unsharp_masking_bilateral_filter\\Ultrasound-Breast-Images-for-Breast-Cancer\\malignant/malignant (11)-sharpened-rotated2.png\"\n",
      "copy \"medical_testsets\\preprocessed\\Ultrasound-Breast-Images-for-Breast-Cancer_unsharpMasking_bilateralfilter\\malignant/malignant (11)-sharpened.png\" \"medical_testsets\\pred_analysis\\pred_img\\preprocessing_group\\unsharp_masking_bilateral_filter\\Ultrasound-Breast-Images-for-Breast-Cancer\\malignant/malignant (11)-sharpened.png\"\n",
      "copy \"medical_testsets\\preprocessed\\Ultrasound-Breast-Images-for-Breast-Cancer_unsharpMasking_bilateralfilter\\malignant/malignant (11).png\" \"medical_testsets\\pred_analysis\\pred_img\\preprocessing_group\\unsharp_masking_bilateral_filter\\Ultrasound-Breast-Images-for-Breast-Cancer\\malignant/malignant (11).png\"\n",
      "copy \"medical_testsets\\preprocessed\\Ultrasound-Breast-Images-for-Breast-Cancer_unsharpMasking_bilateralfilter\\malignant/malignant (12)-rotated2-rotated32.png\" \"medical_testsets\\pred_analysis\\pred_img\\preprocessing_group\\unsharp_masking_bilateral_filter\\Ultrasound-Breast-Images-for-Breast-Cancer\\malignant/malignant (12)-rotated2-rotated32.png\"\n",
      "copy \"medical_testsets\\preprocessed\\Ultrasound-Breast-Images-for-Breast-Cancer_unsharpMasking_bilateralfilter\\malignant/malignant (12)-rotated2-sharpened.png\" \"medical_testsets\\pred_analysis\\pred_img\\preprocessing_group\\unsharp_masking_bilateral_filter\\Ultrasound-Breast-Images-for-Breast-Cancer\\malignant/malignant (12)-rotated2-sharpened.png\"\n"
     ]
    }
   ],
   "source": [
    "import os\n",
    "import shutil\n",
    "\n",
    "copy_files = [\n",
    "    'malignant/malignant (1)-sharpened-sharpened-rotated2.png',\n",
    "    'malignant/malignant (11)-rotated1-rotated2.png',\n",
    "    'malignant/malignant (11)-rotated1-rotated32.png',\n",
    "    'malignant/malignant (11)-rotated1-sharpened.png',\n",
    "    'malignant/malignant (11)-rotated1.png',\n",
    "    'malignant/malignant (11)-rotated32-rotated1.png',\n",
    "    'malignant/malignant (11)-sharpened-rotated1.png',\n",
    "    'malignant/malignant (11)-sharpened-rotated2.png',\n",
    "    'malignant/malignant (11)-sharpened.png',\n",
    "    'malignant/malignant (11).png',\n",
    "    'malignant/malignant (12)-rotated2-rotated32.png',\n",
    "    'malignant/malignant (12)-rotated2-sharpened.png',\n",
    "]\n",
    "\n",
    "source_path = r'medical_testsets\\preprocessed\\Ultrasound-Breast-Images-for-Breast-Cancer_unsharpMasking_bilateralfilter'\n",
    "dest_path = r'medical_testsets\\pred_analysis\\pred_img\\preprocessing_group\\unsharp_masking_bilateral_filter\\Ultrasound-Breast-Images-for-Breast-Cancer'\n",
    "\n",
    "for file in copy_files:\n",
    "    source_file = os.path.join(source_path, file)\n",
    "    dest_file = os.path.join(dest_path, file)\n",
    "    os.makedirs(os.path.dirname(dest_file), exist_ok=True)\n",
    "    shutil.copyfile(source_file, dest_file)\n",
    "    print(f'copy \"{source_file}\" \"{dest_file}\"')"
   ]
  }
 ],
 "metadata": {
  "kernelspec": {
   "display_name": "Python 3",
   "language": "python",
   "name": "python3"
  },
  "language_info": {
   "codemirror_mode": {
    "name": "ipython",
    "version": 3
   },
   "file_extension": ".py",
   "mimetype": "text/x-python",
   "name": "python",
   "nbconvert_exporter": "python",
   "pygments_lexer": "ipython3",
   "version": "3.10.11"
  }
 },
 "nbformat": 4,
 "nbformat_minor": 2
}
