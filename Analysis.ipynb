{
  "cells": [
    {
      "cell_type": "code",
      "execution_count": 2,
      "metadata": {
        "id": "7GiDFdSyTUbb",
        "colab": {
          "base_uri": "https://localhost:8080/"
        },
        "outputId": "efb1f3d0-0a0d-4d3d-e8ca-2ed81498f458"
      },
      "outputs": [
        {
          "output_type": "stream",
          "name": "stdout",
          "text": [
            "Mounted at /content/drive\n"
          ]
        }
      ],
      "source": [
        "from google.colab import drive\n",
        "drive.mount('/content/drive')"
      ]
    },
    {
      "cell_type": "markdown",
      "metadata": {
        "id": "mV_uskEhhocN"
      },
      "source": [
        "### 1.COVID19_Pneumonia_Normal_Chest_Xray"
      ]
    },
    {
      "cell_type": "code",
      "execution_count": null,
      "metadata": {
        "colab": {
          "base_uri": "https://localhost:8080/"
        },
        "id": "EdTrCUxbUgll",
        "outputId": "20fcb643-ae57-4b69-cfdc-dd8a2441f156"
      },
      "outputs": [
        {
          "output_type": "stream",
          "name": "stdout",
          "text": [
            "/content\n",
            "Cloning into 'COVID19_Pneumonia_Normal_Chest_Xray_PA_USM3'...\n",
            "remote: Enumerating objects: 6803, done.\u001b[K\n",
            "remote: Total 6803 (delta 0), reused 0 (delta 0), pack-reused 6803 (from 1)\u001b[K\n",
            "Receiving objects: 100% (6803/6803), 958.51 MiB | 24.37 MiB/s, done.\n",
            "Updating files: 100% (7000/7000), done.\n"
          ]
        }
      ],
      "source": [
        "%cd '/content'\n",
        "# !git clone https://github.com/ricardotran92/COVID19_Pneumonia_Normal_Chest_Xray_PA_Median.git\n",
        "# !git clone https://github.com/ricardotran92/COVID19_Pneumonia_Normal_Chest_Xray_PA.git\n",
        "# !git clone https://github.com/ricardotran92/COVID19_Pneumonia_Normal_Chest_Xray_PA_CLAHE_Butterworth.git\n",
        "# !git clone https://github.com/ALong202/COVID19_Pneumonia_Normal_Chest_Xray_PA_DWT2.git\n",
        "# !git clone https://github.com/ricardotran92/COVID19_Pneumonia_Normal_Chest_Xray_PA_CLAHE_medianF3x3_jpg.git\n",
        "# !git clone https://github.com/ricardotran92/COVID19_Pneumonia_Normal_Chest_Xray_PA_Median.git\n",
        "!git clone https://github.com/ALong202/COVID19_Pneumonia_Normal_Chest_Xray_PA_USM3.git"
      ]
    },
    {
      "cell_type": "code",
      "execution_count": null,
      "metadata": {
        "colab": {
          "base_uri": "https://localhost:8080/"
        },
        "id": "keaB_FZhUU1y",
        "outputId": "34909b23-97e9-4d59-a4b2-0c3bd5399e05"
      },
      "outputs": [
        {
          "output_type": "stream",
          "name": "stdout",
          "text": [
            "/content/COVID19_Pneumonia_Normal_Chest_Xray_PA_USM3\n"
          ]
        }
      ],
      "source": [
        "# %cd '/content/COVID19_Pneumonia_Normal_Chest_Xray_PA_Median'\n",
        "# %cd '/content/COVID19_Pneumonia_Normal_Chest_Xray_PA'\n",
        "# %cd '/content/COVID19_Pneumonia_Normal_Chest_Xray_PA_CLAHE_Butterworth'\n",
        "# %cd '/content/COVID19_Pneumonia_Normal_Chest_Xray_PA_DWT2'\n",
        "# %cd '/content/COVID19_Pneumonia_Normal_Chest_Xray_PA_CLAHE_medianF3x3_jpg'\n",
        "# %cd '/content/COVID19_Pneumonia_Normal_Chest_Xray_PA_Median'\n",
        "%cd '/content/COVID19_Pneumonia_Normal_Chest_Xray_PA_USM3'"
      ]
    },
    {
      "cell_type": "code",
      "execution_count": null,
      "metadata": {
        "id": "GhBC-4hlWCRA"
      },
      "outputs": [],
      "source": [
        "# dataset_path = '/content/COVID19_Pneumonia_Normal_Chest_Xray_PA_Median/dataset'\n",
        "# dataset_path = '/content/COVID19_Pneumonia_Normal_Chest_Xray_PA/dataset'\n",
        "# dataset_path = '/content/COVID19_Pneumonia_Normal_Chest_Xray_PA_CLAHE_Butterworth/dataset'\n",
        "# dataset_path = '/content/COVID19_Pneumonia_Normal_Chest_Xray_PA_DWT2/dataset'\n",
        "# dataset_path = '/content/COVID19_Pneumonia_Normal_Chest_Xray_PA_CLAHE_medianF3x3_jpg/dataset'\n",
        "# dataset_path = '/content/COVID19_Pneumonia_Normal_Chest_Xray_PA_Median/dataset'\n",
        "dataset_path = '/content/COVID19_Pneumonia_Normal_Chest_Xray_PA_USM3/dataset'"
      ]
    },
    {
      "cell_type": "markdown",
      "metadata": {
        "id": "YtZZuClL4iDh"
      },
      "source": [
        "#### Load dataset"
      ]
    },
    {
      "cell_type": "code",
      "execution_count": null,
      "metadata": {
        "id": "p9RHXZnCN51N"
      },
      "outputs": [],
      "source": [
        "# Convert strange format supported format with Tensorflow (JPEG, PNG, BMP, GIF)\n",
        "from PIL import Image\n",
        "import os\n",
        "\n",
        "# dataset_path = 'path_to_your_dataset'\n",
        "\n",
        "for foldername in os.listdir(dataset_path):\n",
        "    folder_path = os.path.join(dataset_path, foldername)\n",
        "    for filename in os.listdir(folder_path):\n",
        "        if filename.endswith(('.jfif', '.tiff', '.tif')):\n",
        "            print(f\"Reformatting {filename} to JPG format...\")\n",
        "            img = Image.open(os.path.join(folder_path, filename))\n",
        "            # Remove the extension from the filename\n",
        "            base_filename = os.path.splitext(filename)[0]\n",
        "            img.save(os.path.join(folder_path, base_filename + '.jpg'))\n",
        "            print(f\"Reformatted {filename} to JPG format.\")"
      ]
    },
    {
      "cell_type": "code",
      "execution_count": null,
      "metadata": {
        "colab": {
          "base_uri": "https://localhost:8080/"
        },
        "id": "xBqbfk0KgYdd",
        "outputId": "4008ee2f-6707-41ff-f792-f1827fe86c4f"
      },
      "outputs": [
        {
          "output_type": "stream",
          "name": "stdout",
          "text": [
            "Class names: ['covid', 'normal', 'pneumonia']\n",
            "Found 6939 files belonging to 3 classes.\n",
            "Using 5552 files for training.\n",
            "Found 6939 files belonging to 3 classes.\n",
            "Using 1387 files for validation.\n",
            "Class names: ['covid', 'normal', 'pneumonia']\n",
            "Number of classes:  3\n"
          ]
        }
      ],
      "source": [
        "# Load image with image_dataset_from_directory\n",
        "import tensorflow as tf\n",
        "from tensorflow.keras.preprocessing import image_dataset_from_directory\n",
        "\n",
        "# Define the parameters: image size, colors\n",
        "image_size = (224,224)\n",
        "batch_size=32\n",
        "color_mode = 'rgb'\n",
        "label_mode = \"categorical\"\n",
        "class_names = sorted(os.listdir(dataset_path))\n",
        "print(\"Class names:\", class_names)\n",
        "\n",
        "# Load the dataset\n",
        "train_dataset = image_dataset_from_directory(\n",
        "    directory= dataset_path,\n",
        "    labels=\"inferred\",\n",
        "    label_mode=label_mode,\n",
        "    class_names=class_names,\n",
        "    color_mode=color_mode,\n",
        "    batch_size=batch_size,\n",
        "    image_size=image_size,\n",
        "    # shuffle=True,\n",
        "    seed=42,\n",
        "    validation_split=0.2,\n",
        "    subset=\"training\",\n",
        "    interpolation=\"bilinear\",\n",
        "    # follow_links=False,\n",
        "    # crop_to_aspect_ratio=False,\n",
        "    # data_format=None,\n",
        ")\n",
        "\n",
        "# Load the dataset\n",
        "test_dataset = image_dataset_from_directory(\n",
        "    directory= dataset_path,\n",
        "    labels=\"inferred\",\n",
        "    label_mode=label_mode,\n",
        "    # class_names=None,\n",
        "    color_mode=color_mode,\n",
        "    batch_size=batch_size,\n",
        "    image_size=image_size,\n",
        "    # shuffle=True,\n",
        "    seed=42,\n",
        "    validation_split=0.2,\n",
        "    subset=\"validation\",\n",
        "    interpolation=\"bilinear\",\n",
        "    # follow_links=False,\n",
        "    # crop_to_aspect_ratio=False,\n",
        "    # data_format=None,\n",
        ")\n",
        "\n",
        "# Get the class names\n",
        "# class_names = train_dataset.class_names\n",
        "num_classes = len(class_names)\n",
        "\n",
        "print(\"Class names:\", train_dataset.class_names)\n",
        "print(\"Number of classes: \", num_classes)"
      ]
    },
    {
      "cell_type": "markdown",
      "metadata": {
        "id": "kOxukHY8XIOK"
      },
      "source": [
        "#### Copy the test_dataset into a independent folder"
      ]
    },
    {
      "cell_type": "code",
      "execution_count": null,
      "metadata": {
        "colab": {
          "base_uri": "https://localhost:8080/"
        },
        "id": "jgPkZ3cmXAjZ",
        "outputId": "95aed46b-c6c8-4646-e266-29cc054cd21a"
      },
      "outputs": [
        {
          "output_type": "stream",
          "name": "stdout",
          "text": [
            "new_directory:/content/drive/MyDrive/Colab Notebooks/Thesis/Analysis/test_dataset/01/01_08\n"
          ]
        }
      ],
      "source": [
        "import shutil\n",
        "import os\n",
        "\n",
        "# Define a new directory to store the images\n",
        "# new_directory = '/content/drive/MyDrive/Colab Notebooks/Thesis/Analysis/test_dataset' + '/' + os.path.basename(os.path.dirname(dataset_path))\n",
        "# new_directory = '/content/drive/MyDrive/Colab Notebooks/Thesis/Analysis/test_dataset_origin' + '/' + os.path.basename(os.path.dirname(dataset_path))\n",
        "# new_directory = '/content/drive/MyDrive/Colab Notebooks/Thesis/Analysis/test_dataset/01_00'\n",
        "# new_directory = '/content/drive/MyDrive/Colab Notebooks/Thesis/Analysis/test_dataset/01_02'\n",
        "# new_directory = '/content/drive/MyDrive/Colab Notebooks/Thesis/Analysis/test_dataset/01_03'\n",
        "# new_directory = '/content/drive/MyDrive/Colab Notebooks/Thesis/Analysis/test_dataset/01_04'\n",
        "# new_directory = '/content/drive/MyDrive/Colab Notebooks/Thesis/Analysis/test_dataset/01_07'\n",
        "new_directory = '/content/drive/MyDrive/Colab Notebooks/Thesis/Analysis/test_dataset/01_08'\n",
        "\n",
        "print('new_directory:' + new_directory)\n",
        "\n",
        "# Create the new directory if it doesn't exist\n",
        "if not os.path.exists(new_directory):\n",
        "    os.makedirs(new_directory)\n",
        "\n",
        "# Get the file paths from the original test_dataset\n",
        "file_paths = test_dataset.file_paths\n",
        "\n",
        "# Copy the images to the new directory\n",
        "for file_path in file_paths:\n",
        "    # Get the class name and image name from the file path\n",
        "    class_name = os.path.basename(os.path.dirname(file_path))\n",
        "    image_name = os.path.basename(file_path)\n",
        "\n",
        "    # Create a new directory for the class if it doesn't exist\n",
        "    class_directory = os.path.join(new_directory, class_name)\n",
        "    if not os.path.exists(class_directory):\n",
        "        os.makedirs(class_directory)\n",
        "\n",
        "    # Copy the image to the new directory\n",
        "    shutil.copy(file_path, os.path.join(class_directory, image_name))\n"
      ]
    },
    {
      "cell_type": "code",
      "execution_count": null,
      "metadata": {
        "colab": {
          "base_uri": "https://localhost:8080/"
        },
        "id": "Sd_bkl_dZdI4",
        "outputId": "8dd69ae4-9738-49f9-82ba-aebcd572a18f"
      },
      "outputs": [
        {
          "name": "stdout",
          "output_type": "stream",
          "text": [
            "Found 1387 files belonging to 3 classes.\n",
            "Class names: ['covid', 'normal', 'pneumonia']\n",
            "Number of classes:  3\n"
          ]
        }
      ],
      "source": [
        "# Load the dataset from new independent test_dataset folder\n",
        "test_dataset = image_dataset_from_directory(\n",
        "    directory= new_directory,\n",
        "    labels=\"inferred\",\n",
        "    label_mode=label_mode,\n",
        "    class_names=class_names,\n",
        "    color_mode=color_mode,\n",
        "    batch_size=batch_size,\n",
        "    image_size=image_size,\n",
        "    shuffle=False,\n",
        "    seed=42,\n",
        "    # validation_split=0.2,\n",
        "    # subset=\"validation\",\n",
        "    interpolation=\"bilinear\",\n",
        "    # follow_links=False,\n",
        "    # crop_to_aspect_ratio=False,\n",
        "    # data_format=None,\n",
        ")\n",
        "\n",
        "# Get the class names\n",
        "# class_names = train_dataset.class_names\n",
        "num_classes = len(class_names)\n",
        "\n",
        "print(\"Class names:\", test_dataset.class_names)\n",
        "print(\"Number of classes: \", num_classes)"
      ]
    },
    {
      "cell_type": "markdown",
      "metadata": {
        "id": "CzPd9e4Vicsl"
      },
      "source": [
        "### 4.Brain-Tumor-MRI_Median-Mean-Hybrid_Filter"
      ]
    },
    {
      "cell_type": "code",
      "execution_count": null,
      "metadata": {
        "colab": {
          "base_uri": "https://localhost:8080/"
        },
        "id": "rP35j0_AiPYH",
        "outputId": "6e67e7b5-8352-4815-86e8-a3c5a47482d9"
      },
      "outputs": [
        {
          "output_type": "stream",
          "name": "stdout",
          "text": [
            "/content\n",
            "Cloning into 'Brain-Tumor-MRI_Unsharp-Masking_Bilateral_Filter'...\n",
            "remote: Enumerating objects: 6622, done.\u001b[K\n",
            "remote: Total 6622 (delta 0), reused 0 (delta 0), pack-reused 6622 (from 1)\u001b[K\n",
            "Receiving objects: 100% (6622/6622), 248.55 MiB | 23.76 MiB/s, done.\n",
            "Resolving deltas: 100% (4/4), done.\n",
            "Updating files: 100% (7184/7184), done.\n"
          ]
        }
      ],
      "source": [
        "%cd '/content'\n",
        "# !git clone https://github.com/ricardotran92/Brain-Tumor-MRI_Median-Mean-Hybrid_Filter.git\n",
        "# !git clone https://github.com/ricardotran92/Brain-Tumor-MRI-Dataset.git\n",
        "# !git clone https://github.com/ricardotran92/Brain-Tumor-MRI_CLAHE_Butterworth.git\n",
        "# !git clone https://github.com/ricardotran92/Brain-Tumor-MRI_DWT.git\n",
        "# !git clone https://github.com/ricardotran92/Brain-Tumor-MRI_CLAHE_medianF3x3.git\n",
        "# !git clone https://github.com/ricardotran92/Brain-Tumor-MRI_Median-Mean-Hybrid_Filter.git\n",
        "!git clone https://github.com/ricardotran92/Brain-Tumor-MRI_Unsharp-Masking_Bilateral_Filter.git"
      ]
    },
    {
      "cell_type": "code",
      "execution_count": null,
      "metadata": {
        "colab": {
          "base_uri": "https://localhost:8080/"
        },
        "id": "ir3INbNMiPYJ",
        "outputId": "0b48dd21-ba97-4589-c711-31097fc22519"
      },
      "outputs": [
        {
          "output_type": "stream",
          "name": "stdout",
          "text": [
            "/content/Brain-Tumor-MRI_Unsharp-Masking_Bilateral_Filter\n"
          ]
        }
      ],
      "source": [
        "# %cd '/content/Brain-Tumor-MRI_Median-Mean-Hybrid_Filter'\n",
        "# %cd '/content/Brain-Tumor-MRI-Dataset'\n",
        "# %cd '/content/Brain-Tumor-MRI_CLAHE_Butterworth'\n",
        "# %cd '/content/Brain-Tumor-MRI_DWT'\n",
        "# %cd '/content/Brain-Tumor-MRI_CLAHE_medianF3x3'\n",
        "# %cd '/content/Brain-Tumor-MRI_Median-Mean-Hybrid_Filter'\n",
        "%cd '/content/Brain-Tumor-MRI_Unsharp-Masking_Bilateral_Filter'"
      ]
    },
    {
      "cell_type": "code",
      "execution_count": null,
      "metadata": {
        "id": "Wac7YIY6iPYK"
      },
      "outputs": [],
      "source": [
        "# dataset_path = '/content/Brain-Tumor-MRI_Median-Mean-Hybrid_Filter/dataset'\n",
        "# dataset_path = '/content/Brain-Tumor-MRI-Dataset/dataset'\n",
        "# dataset_path = '/content/Brain-Tumor-MRI_CLAHE_Butterworth/dataset'\n",
        "# dataset_path = '/content/Brain-Tumor-MRI_DWT/dataset'\n",
        "# dataset_path = '/content/Brain-Tumor-MRI_CLAHE_medianF3x3/dataset'\n",
        "# dataset_path = '/content/Brain-Tumor-MRI_Median-Mean-Hybrid_Filter/dataset'\n",
        "dataset_path = '/content/Brain-Tumor-MRI_Unsharp-Masking_Bilateral_Filter/dataset'"
      ]
    },
    {
      "cell_type": "markdown",
      "metadata": {
        "id": "_ZSXUqHIiPYK"
      },
      "source": [
        "#### Load dataset"
      ]
    },
    {
      "cell_type": "code",
      "execution_count": null,
      "metadata": {
        "id": "Wk8T4WOXiPYK"
      },
      "outputs": [],
      "source": [
        "# Convert strange format supported format with Tensorflow (JPEG, PNG, BMP, GIF)\n",
        "from PIL import Image\n",
        "import os\n",
        "\n",
        "# dataset_path = 'path_to_your_dataset'\n",
        "\n",
        "for foldername in os.listdir(dataset_path):\n",
        "    folder_path = os.path.join(dataset_path, foldername)\n",
        "    for filename in os.listdir(folder_path):\n",
        "        if filename.endswith(('.jfif', '.tiff', '.tif')):\n",
        "            print(f\"Reformatting {filename} to JPG format...\")\n",
        "            img = Image.open(os.path.join(folder_path, filename))\n",
        "            # Remove the extension from the filename\n",
        "            base_filename = os.path.splitext(filename)[0]\n",
        "            img.save(os.path.join(folder_path, base_filename + '.jpg'))\n",
        "            print(f\"Reformatted {filename} to JPG format.\")"
      ]
    },
    {
      "cell_type": "code",
      "execution_count": null,
      "metadata": {
        "colab": {
          "base_uri": "https://localhost:8080/"
        },
        "id": "oRWuiqEZiPYK",
        "outputId": "a563b12a-3314-4816-b295-3916f760d137"
      },
      "outputs": [
        {
          "output_type": "stream",
          "name": "stdout",
          "text": [
            "Found 5712 files belonging to 4 classes.\n",
            "Found 1311 files belonging to 4 classes.\n",
            "Class names:  ['glioma', 'meningioma', 'notumor', 'pituitary']\n",
            "Number of classes:  4\n"
          ]
        }
      ],
      "source": [
        "# Load image with image_dataset_from_directory\n",
        "import tensorflow as tf\n",
        "from tensorflow.keras.preprocessing import image_dataset_from_directory\n",
        "\n",
        "# Define the parameters: image size, colors\n",
        "image_size = (380,380)\n",
        "batch_size=32\n",
        "color_mode = 'rgb'\n",
        "label_mode = \"categorical\"\n",
        "\n",
        "# Load the dataset\n",
        "train_dataset = image_dataset_from_directory(\n",
        "    directory= dataset_path + '/Training',\n",
        "    labels=\"inferred\",\n",
        "    label_mode=label_mode,\n",
        "    # class_names=None,\n",
        "    color_mode=color_mode,\n",
        "    batch_size=batch_size,\n",
        "    image_size=image_size,\n",
        "    # shuffle=True,\n",
        "    seed=42,\n",
        "    # validation_split=0.2,\n",
        "    # subset=\"training\",\n",
        "    interpolation=\"bilinear\",\n",
        "    # follow_links=False,\n",
        "    # crop_to_aspect_ratio=False,\n",
        "    # data_format=None,\n",
        ")\n",
        "\n",
        "# Load the dataset\n",
        "test_dataset = image_dataset_from_directory(\n",
        "    directory= dataset_path + '/Testing',\n",
        "    labels=\"inferred\",\n",
        "    label_mode=label_mode,\n",
        "    # class_names=None,\n",
        "    color_mode=color_mode,\n",
        "    batch_size=batch_size,\n",
        "    image_size=image_size,\n",
        "    # shuffle=True,\n",
        "    seed=42,\n",
        "    # validation_split=0.2,\n",
        "    # subset=\"validation\",\n",
        "    interpolation=\"bilinear\",\n",
        "    # follow_links=False,\n",
        "    # crop_to_aspect_ratio=False,\n",
        "    # data_format=None,\n",
        ")\n",
        "\n",
        "# Get the class names\n",
        "class_names = test_dataset.class_names\n",
        "num_classes = len(class_names)\n",
        "\n",
        "print(\"Class names: \", class_names)\n",
        "print(\"Number of classes: \", num_classes)"
      ]
    },
    {
      "cell_type": "markdown",
      "metadata": {
        "id": "QH0hhC71iPYK"
      },
      "source": [
        "#### Copy the test_dataset into a independent folder"
      ]
    },
    {
      "cell_type": "code",
      "execution_count": null,
      "metadata": {
        "colab": {
          "base_uri": "https://localhost:8080/"
        },
        "id": "UfDoxZMPiPYK",
        "outputId": "177d43c2-a1bb-4e4c-e353-b784d951a22e"
      },
      "outputs": [
        {
          "output_type": "stream",
          "name": "stdout",
          "text": [
            "new_directory:/content/drive/MyDrive/Colab Notebooks/Thesis/Analysis/test_dataset/04_08\n"
          ]
        }
      ],
      "source": [
        "import shutil\n",
        "import os\n",
        "\n",
        "# Define a new directory to store the images\n",
        "# new_directory = '/content/drive/MyDrive/Colab Notebooks/Thesis/Analysis/test_dataset' + '/' + os.path.basename(os.path.dirname(dataset_path))\n",
        "# new_directory = '/content/drive/MyDrive/Colab Notebooks/Thesis/Analysis/test_dataset_origin' + '/' + os.path.basename(os.path.dirname(dataset_path))\n",
        "# new_directory = '/content/drive/MyDrive/Colab Notebooks/Thesis/Analysis/test_dataset/04_00'\n",
        "# new_directory = '/content/drive/MyDrive/Colab Notebooks/Thesis/Analysis/test_dataset/04_02'\n",
        "# new_directory = '/content/drive/MyDrive/Colab Notebooks/Thesis/Analysis/test_dataset/04_03'\n",
        "# new_directory = '/content/drive/MyDrive/Colab Notebooks/Thesis/Analysis/test_dataset/04_04'\n",
        "# new_directory = '/content/drive/MyDrive/Colab Notebooks/Thesis/Analysis/test_dataset/04_07'\n",
        "new_directory = '/content/drive/MyDrive/Colab Notebooks/Thesis/Analysis/test_dataset/04_08'\n",
        "\n",
        "\n",
        "\n",
        "print('new_directory:' + new_directory)\n",
        "\n",
        "# Create the new directory if it doesn't exist\n",
        "if not os.path.exists(new_directory):\n",
        "    os.makedirs(new_directory)\n",
        "\n",
        "# Get the file paths from the original test_dataset\n",
        "file_paths = test_dataset.file_paths\n",
        "\n",
        "# Copy the images to the new directory\n",
        "for file_path in file_paths:\n",
        "    # Get the class name and image name from the file path\n",
        "    class_name = os.path.basename(os.path.dirname(file_path))\n",
        "    image_name = os.path.basename(file_path)\n",
        "\n",
        "    # Create a new directory for the class if it doesn't exist\n",
        "    class_directory = os.path.join(new_directory, class_name)\n",
        "    if not os.path.exists(class_directory):\n",
        "        os.makedirs(class_directory)\n",
        "\n",
        "    # Copy the image to the new directory\n",
        "    shutil.copy(file_path, os.path.join(class_directory, image_name))\n"
      ]
    },
    {
      "cell_type": "code",
      "execution_count": null,
      "metadata": {
        "colab": {
          "base_uri": "https://localhost:8080/"
        },
        "id": "eeWkS_cKiPYL",
        "outputId": "5e2b0371-1f04-4c65-e427-2a64f314ba77"
      },
      "outputs": [
        {
          "name": "stdout",
          "output_type": "stream",
          "text": [
            "Found 1311 files belonging to 4 classes.\n",
            "Class names: ['glioma', 'meningioma', 'notumor', 'pituitary']\n",
            "Number of classes:  4\n"
          ]
        }
      ],
      "source": [
        "# Load the dataset from new independent test_dataset folder\n",
        "test_dataset = image_dataset_from_directory(\n",
        "    directory= new_directory,\n",
        "    labels=\"inferred\",\n",
        "    label_mode=label_mode,\n",
        "    class_names=class_names,\n",
        "    color_mode=color_mode,\n",
        "    batch_size=batch_size,\n",
        "    image_size=image_size,\n",
        "    shuffle=False,\n",
        "    seed=42,\n",
        "    # validation_split=0.2,\n",
        "    # subset=\"validation\",\n",
        "    interpolation=\"bilinear\",\n",
        "    # follow_links=False,\n",
        "    # crop_to_aspect_ratio=False,\n",
        "    # data_format=None,\n",
        ")\n",
        "\n",
        "# Get the class names\n",
        "# class_names = train_dataset.class_names\n",
        "num_classes = len(class_names)\n",
        "\n",
        "print(\"Class names:\", test_dataset.class_names)\n",
        "print(\"Number of classes: \", num_classes)"
      ]
    },
    {
      "cell_type": "markdown",
      "metadata": {
        "id": "fWRlx6AcjsLp"
      },
      "source": [
        "### 3.Chest-CT-Scan-images_DWT"
      ]
    },
    {
      "cell_type": "code",
      "execution_count": null,
      "metadata": {
        "colab": {
          "base_uri": "https://localhost:8080/"
        },
        "id": "32KdEEexjsLp",
        "outputId": "93acaf6f-c6ba-4cb3-c926-28589b14e29b"
      },
      "outputs": [
        {
          "output_type": "stream",
          "name": "stdout",
          "text": [
            "/content\n",
            "Cloning into 'Chest-CT-Scan-images_unsharpMasking_bilateralfilter'...\n",
            "remote: Enumerating objects: 879, done.\u001b[K\n",
            "remote: Total 879 (delta 0), reused 0 (delta 0), pack-reused 879 (from 1)\u001b[K\n",
            "Receiving objects: 100% (879/879), 83.53 MiB | 17.78 MiB/s, done.\n",
            "Resolving deltas: 100% (11/11), done.\n",
            "Updating files: 100% (1229/1229), done.\n"
          ]
        }
      ],
      "source": [
        "%cd '/content'\n",
        "# !git clone https://github.com/ricardotran92/Chest-CT-Scan-images_DWT.git\n",
        "# !git clone https://github.com/ricardotran92/Chest-CT-Scan-images-Dataset.git\n",
        "# !git clone https://github.com/ricardotran92/Chest-CT-Scan-images_CLAHE_Butterworth.git\n",
        "# !git clone https://github.com/ricardotran92/Chest-CT-Scan-images_DWT.git\n",
        "# !git clone https://github.com/ricardotran92/Chest-CT-Scan-images_CLAHE_medianF3x3.git\n",
        "# !git clone https://github.com/ricardotran92/Chest-CT-Scan-images_Median-Mean-Hybrid-Filter.git\n",
        "!git clone https://github.com/ricardotran92/Chest-CT-Scan-images_unsharpMasking_bilateralfilter.git"
      ]
    },
    {
      "cell_type": "code",
      "execution_count": null,
      "metadata": {
        "colab": {
          "base_uri": "https://localhost:8080/"
        },
        "id": "4BhgFTtpjsLq",
        "outputId": "90cead71-c49f-44b2-dc99-9508272b014f"
      },
      "outputs": [
        {
          "output_type": "stream",
          "name": "stdout",
          "text": [
            "/content/Chest-CT-Scan-images_unsharpMasking_bilateralfilter\n"
          ]
        }
      ],
      "source": [
        "# %cd '/content/Chest-CT-Scan-images_DWT'\n",
        "# %cd '/content/Chest-CT-Scan-images-Dataset'\n",
        "# %cd '/content/Chest-CT-Scan-images_CLAHE_Butterworth'\n",
        "# %cd '/content/Chest-CT-Scan-images_DWT'\n",
        "# %cd '/content/Chest-CT-Scan-images_CLAHE_medianF3x3'\n",
        "# %cd '/content/Chest-CT-Scan-images_Median-Mean-Hybrid-Filter'\n",
        "%cd '/content/Chest-CT-Scan-images_unsharpMasking_bilateralfilter'"
      ]
    },
    {
      "cell_type": "code",
      "execution_count": null,
      "metadata": {
        "id": "FYsS6h8TjsLq"
      },
      "outputs": [],
      "source": [
        "# dataset_path = '/content/Chest-CT-Scan-images_DWT/dataset'\n",
        "# dataset_path = '/content/Chest-CT-Scan-images-Dataset/dataset'\n",
        "# dataset_path = '/content/Chest-CT-Scan-images_CLAHE_Butterworth/dataset'\n",
        "# dataset_path = '/content/Chest-CT-Scan-images_DWT/dataset'\n",
        "# dataset_path = '/content/Chest-CT-Scan-images_CLAHE_medianF3x3/dataset'\n",
        "# dataset_path = '/content/Chest-CT-Scan-images_Median-Mean-Hybrid-Filter/dataset'\n",
        "dataset_path = '/content/Chest-CT-Scan-images_unsharpMasking_bilateralfilter/dataset'"
      ]
    },
    {
      "cell_type": "markdown",
      "metadata": {
        "id": "4qKemF-gjsLq"
      },
      "source": [
        "#### Load dataset"
      ]
    },
    {
      "cell_type": "code",
      "execution_count": null,
      "metadata": {
        "id": "EEsEAigdjsLy"
      },
      "outputs": [],
      "source": [
        "# Convert strange format supported format with Tensorflow (JPEG, PNG, BMP, GIF)\n",
        "from PIL import Image\n",
        "import os\n",
        "\n",
        "# dataset_path = 'path_to_your_dataset'\n",
        "\n",
        "for foldername in os.listdir(dataset_path):\n",
        "    folder_path = os.path.join(dataset_path, foldername)\n",
        "    for filename in os.listdir(folder_path):\n",
        "        if filename.endswith(('.jfif', '.tiff', '.tif')):\n",
        "            print(f\"Reformatting {filename} to JPG format...\")\n",
        "            img = Image.open(os.path.join(folder_path, filename))\n",
        "            # Remove the extension from the filename\n",
        "            base_filename = os.path.splitext(filename)[0]\n",
        "            img.save(os.path.join(folder_path, base_filename + '.jpg'))\n",
        "            print(f\"Reformatted {filename} to JPG format.\")"
      ]
    },
    {
      "cell_type": "code",
      "execution_count": null,
      "metadata": {
        "colab": {
          "base_uri": "https://localhost:8080/"
        },
        "id": "KDbksKRCjsLy",
        "outputId": "056600f0-3e37-4f60-e810-7f7881e6d3f3"
      },
      "outputs": [
        {
          "output_type": "stream",
          "name": "stdout",
          "text": [
            "Found 613 files belonging to 4 classes.\n",
            "Found 72 files belonging to 4 classes.\n",
            "Found 315 files belonging to 4 classes.\n",
            "Class names:  ['adenocarcinoma_left.lower.lobe_T2_N0_M0_Ib', 'large.cell.carcinoma_left.hilum_T2_N2_M0_IIIa', 'normal', 'squamous.cell.carcinoma_left.hilum_T1_N2_M0_IIIa']\n",
            "Number of classes:  4\n"
          ]
        }
      ],
      "source": [
        "# Load image with image_dataset_from_directory\n",
        "import tensorflow as tf\n",
        "from tensorflow.keras.preprocessing import image_dataset_from_directory\n",
        "\n",
        "# Define the parameters: image size, colors\n",
        "image_size = (380,380)\n",
        "batch_size=32\n",
        "color_mode = 'rgb'\n",
        "label_mode = \"categorical\"\n",
        "\n",
        "# Load the train dataset\n",
        "train_dataset = image_dataset_from_directory(\n",
        "    directory= dataset_path + '/train',\n",
        "    labels=\"inferred\",\n",
        "    label_mode=label_mode,\n",
        "    # class_names=None,\n",
        "    color_mode=color_mode,\n",
        "    batch_size=batch_size,\n",
        "    image_size=image_size,\n",
        "    # shuffle=True,\n",
        "    seed=42,\n",
        "    # validation_split=0.2,\n",
        "    # subset=\"training\",\n",
        "    interpolation=\"bilinear\",\n",
        "    # follow_links=False,\n",
        "    # crop_to_aspect_ratio=False,\n",
        "    # data_format=None,\n",
        ")\n",
        "\n",
        "# Load the valid dataset\n",
        "val_dataset = image_dataset_from_directory(\n",
        "    directory= dataset_path + '/valid',\n",
        "    labels=\"inferred\",\n",
        "    label_mode=label_mode,\n",
        "    # class_names=None,\n",
        "    color_mode=color_mode,\n",
        "    batch_size=batch_size,\n",
        "    image_size=image_size,\n",
        "    # shuffle=True,\n",
        "    seed=42,\n",
        "    # validation_split=0.2,\n",
        "    # subset=\"validation\",\n",
        "    interpolation=\"bilinear\",\n",
        "    # follow_links=False,\n",
        "    # crop_to_aspect_ratio=False,\n",
        "    # data_format=None,\n",
        ")\n",
        "\n",
        "# Load the test dataset\n",
        "test_dataset = image_dataset_from_directory(\n",
        "    directory= dataset_path + '/test',\n",
        "    labels=\"inferred\",\n",
        "    label_mode=label_mode,\n",
        "    # class_names=None,\n",
        "    color_mode=color_mode,\n",
        "    batch_size=batch_size,\n",
        "    image_size=image_size,\n",
        "    # shuffle=True,\n",
        "    seed=42,\n",
        "    # validation_split=0.2,\n",
        "    # subset=\"validation\",\n",
        "    interpolation=\"bilinear\",\n",
        "    # follow_links=False,\n",
        "    # crop_to_aspect_ratio=False,\n",
        "    # data_format=None,\n",
        ")\n",
        "\n",
        "# Get the class names\n",
        "class_names = train_dataset.class_names\n",
        "num_classes = len(class_names)\n",
        "\n",
        "print(\"Class names: \", class_names)\n",
        "print(\"Number of classes: \", num_classes)"
      ]
    },
    {
      "cell_type": "markdown",
      "metadata": {
        "id": "VznvjVsSjsLy"
      },
      "source": [
        "#### Copy the test_dataset into a independent folder"
      ]
    },
    {
      "cell_type": "code",
      "execution_count": null,
      "metadata": {
        "colab": {
          "base_uri": "https://localhost:8080/"
        },
        "id": "kcmYSeG_jsLy",
        "outputId": "0b12dbb3-87e7-4f6a-a4cb-06abed4d7655"
      },
      "outputs": [
        {
          "output_type": "stream",
          "name": "stdout",
          "text": [
            "new_directory:/content/drive/MyDrive/Colab Notebooks/Thesis/Analysis/test_dataset/03_08\n"
          ]
        }
      ],
      "source": [
        "import shutil\n",
        "import os\n",
        "\n",
        "# Define a new directory to store the images\n",
        "# new_directory = '/content/drive/MyDrive/Colab Notebooks/Thesis/Analysis/test_dataset' + '/' + os.path.basename(os.path.dirname(dataset_path))\n",
        "# new_directory = '/content/drive/MyDrive/Colab Notebooks/Thesis/Analysis/test_dataset_origin' + '/' + os.path.basename(os.path.dirname(dataset_path))\n",
        "# new_directory = '/content/drive/MyDrive/Colab Notebooks/Thesis/Analysis/test_dataset/03_00'\n",
        "# new_directory = '/content/drive/MyDrive/Colab Notebooks/Thesis/Analysis/test_dataset/03_02'\n",
        "# new_directory = '/content/drive/MyDrive/Colab Notebooks/Thesis/Analysis/test_dataset/03_03'\n",
        "# new_directory = '/content/drive/MyDrive/Colab Notebooks/Thesis/Analysis/test_dataset/03_04'\n",
        "# new_directory = '/content/drive/MyDrive/Colab Notebooks/Thesis/Analysis/test_dataset/03_07'\n",
        "new_directory = '/content/drive/MyDrive/Colab Notebooks/Thesis/Analysis/test_dataset/03_08'\n",
        "\n",
        "print('new_directory:' + new_directory)\n",
        "\n",
        "# Create the new directory if it doesn't exist\n",
        "if not os.path.exists(new_directory):\n",
        "    os.makedirs(new_directory)\n",
        "\n",
        "# Get the file paths from the original test_dataset\n",
        "file_paths = test_dataset.file_paths\n",
        "\n",
        "# Copy the images to the new directory\n",
        "for file_path in file_paths:\n",
        "    # Get the class name and image name from the file path\n",
        "    class_name = os.path.basename(os.path.dirname(file_path))\n",
        "    image_name = os.path.basename(file_path)\n",
        "\n",
        "    # Create a new directory for the class if it doesn't exist\n",
        "    class_directory = os.path.join(new_directory, class_name)\n",
        "    if not os.path.exists(class_directory):\n",
        "        os.makedirs(class_directory)\n",
        "\n",
        "    # Copy the image to the new directory\n",
        "    shutil.copy(file_path, os.path.join(class_directory, image_name))\n"
      ]
    },
    {
      "cell_type": "code",
      "execution_count": null,
      "metadata": {
        "colab": {
          "base_uri": "https://localhost:8080/"
        },
        "id": "2QBV30hTjsLz",
        "outputId": "5eea9609-1bd8-4051-c5db-6cd72e5cc46d"
      },
      "outputs": [
        {
          "name": "stdout",
          "output_type": "stream",
          "text": [
            "Found 315 files belonging to 5 classes.\n",
            "Class names: ['adenocarcinoma_left.lower.lobe_T2_N0_M0_Ib', 'large.cell.carcinoma_left.hilum_T2_N2_M0_IIIa', 'normal', 'squamous.cell.carcinoma', 'squamous.cell.carcinoma_left.hilum_T1_N2_M0_IIIa']\n",
            "Number of classes:  4\n"
          ]
        }
      ],
      "source": [
        "# Load the dataset from new independent test_dataset folder\n",
        "test_dataset = image_dataset_from_directory(\n",
        "    directory= new_directory,\n",
        "    labels=\"inferred\",\n",
        "    label_mode=label_mode,\n",
        "    # class_names=class_names,\n",
        "    color_mode=color_mode,\n",
        "    batch_size=batch_size,\n",
        "    image_size=image_size,\n",
        "    shuffle=False,\n",
        "    seed=42,\n",
        "    # validation_split=0.2,\n",
        "    # subset=\"validation\",\n",
        "    interpolation=\"bilinear\",\n",
        "    # follow_links=False,\n",
        "    # crop_to_aspect_ratio=False,\n",
        "    # data_format=None,\n",
        ")\n",
        "\n",
        "# Get the class names\n",
        "# class_names = train_dataset.class_names\n",
        "num_classes = len(class_names)\n",
        "\n",
        "print(\"Class names:\", test_dataset.class_names)\n",
        "print(\"Number of classes: \", num_classes)"
      ]
    },
    {
      "cell_type": "markdown",
      "metadata": {
        "id": "ehRJmG1xk_nn"
      },
      "source": [
        "### 5.Ultrasound-Breast-Images-for-Breast-Cancer_unsharpMasking_bilateralfilter"
      ]
    },
    {
      "cell_type": "code",
      "execution_count": null,
      "metadata": {
        "colab": {
          "base_uri": "https://localhost:8080/"
        },
        "id": "H9y-14UTk_no",
        "outputId": "40e65968-c7bd-4992-ebb2-6ce49c7e2874"
      },
      "outputs": [
        {
          "output_type": "stream",
          "name": "stdout",
          "text": [
            "/content\n",
            "Cloning into 'Ultrasound-Breast-Images-for-Breast-Cancer_unsharpMasking_bilateralfilter'...\n",
            "remote: Enumerating objects: 8797, done.\u001b[K\n",
            "remote: Total 8797 (delta 0), reused 0 (delta 0), pack-reused 8797 (from 1)\u001b[K\n",
            "Receiving objects: 100% (8797/8797), 494.12 MiB | 25.42 MiB/s, done.\n",
            "Resolving deltas: 100% (2/2), done.\n",
            "Updating files: 100% (9097/9097), done.\n"
          ]
        }
      ],
      "source": [
        "%cd '/content'\n",
        "# !git clone https://github.com/ricardotran92/Ultrasound-Breast-Images-for-Breast-Cancer_unsharpMasking_bilateralfilter.git\n",
        "# !git clone https://github.com/ricardotran92/Ultrasound-Breast-Images-for-Breast-Cancer.git\n",
        "# !git clone https://github.com/ricardotran92/Ultrasound-Breast-Images-for-Breast-Cancer_CLAHE_Butterworth.git\n",
        "# !git clone https://github.com/ricardotran92/Ultrasound-Breast-Images-for-Breast-Cancer_DWT.git\n",
        "# !git clone https://github.com/ricardotran92/Ultrasound-Breast-Images-for-Breast-Cancer_CLAHE_medianF3x3.git\n",
        "# !git clone https://github.com/ricardotran92/Ultrasound-Breast-Images-for-Breast-Cancer_Median-Mean-Hybrid-Filter.git\n",
        "!git clone https://github.com/ricardotran92/Ultrasound-Breast-Images-for-Breast-Cancer_unsharpMasking_bilateralfilter.git"
      ]
    },
    {
      "cell_type": "code",
      "execution_count": null,
      "metadata": {
        "colab": {
          "base_uri": "https://localhost:8080/"
        },
        "id": "K43aarr0k_no",
        "outputId": "fef97504-9474-49f7-fbab-89ba3af49a4e"
      },
      "outputs": [
        {
          "output_type": "stream",
          "name": "stdout",
          "text": [
            "/content/Ultrasound-Breast-Images-for-Breast-Cancer_unsharpMasking_bilateralfilter\n"
          ]
        }
      ],
      "source": [
        "# %cd '/content/Ultrasound-Breast-Images-for-Breast-Cancer_unsharpMasking_bilateralfilter'\n",
        "# %cd '/content/Ultrasound-Breast-Images-for-Breast-Cancer'\n",
        "# %cd '/content/Ultrasound-Breast-Images-for-Breast-Cancer_CLAHE_Butterworth'\n",
        "# %cd '/content/Ultrasound-Breast-Images-for-Breast-Cancer_DWT'\n",
        "# %cd '/content/Ultrasound-Breast-Images-for-Breast-Cancer_CLAHE_medianF3x3'\n",
        "# %cd '/content/Ultrasound-Breast-Images-for-Breast-Cancer_Median-Mean-Hybrid-Filter'\n",
        "%cd '/content/Ultrasound-Breast-Images-for-Breast-Cancer_unsharpMasking_bilateralfilter'"
      ]
    },
    {
      "cell_type": "code",
      "execution_count": null,
      "metadata": {
        "id": "XflwiIAlk_no"
      },
      "outputs": [],
      "source": [
        "# dataset_path = '/content/Ultrasound-Breast-Images-for-Breast-Cancer_unsharpMasking_bilateralfilter/dataset'\n",
        "# dataset_path = '/content/Ultrasound-Breast-Images-for-Breast-Cancer/dataset'\n",
        "# dataset_path = '/content/Ultrasound-Breast-Images-for-Breast-Cancer_CLAHE_Butterworth/dataset'\n",
        "# dataset_path = '/content/Ultrasound-Breast-Images-for-Breast-Cancer_DWT/dataset'\n",
        "# dataset_path = '/content/Ultrasound-Breast-Images-for-Breast-Cancer_CLAHE_medianF3x3/dataset'\n",
        "# dataset_path = '/content/Ultrasound-Breast-Images-for-Breast-Cancer_Median-Mean-Hybrid-Filter/dataset'\n",
        "dataset_path = '/content/Ultrasound-Breast-Images-for-Breast-Cancer_unsharpMasking_bilateralfilter/dataset'"
      ]
    },
    {
      "cell_type": "markdown",
      "metadata": {
        "id": "A4fm35J0k_np"
      },
      "source": [
        "#### Load dataset"
      ]
    },
    {
      "cell_type": "code",
      "execution_count": null,
      "metadata": {
        "id": "v6O7xo6lk_np"
      },
      "outputs": [],
      "source": [
        "# Convert strange format supported format with Tensorflow (JPEG, PNG, BMP, GIF)\n",
        "from PIL import Image\n",
        "import os\n",
        "\n",
        "# dataset_path = 'path_to_your_dataset'\n",
        "\n",
        "for foldername in os.listdir(dataset_path):\n",
        "    folder_path = os.path.join(dataset_path, foldername)\n",
        "    for filename in os.listdir(folder_path):\n",
        "        if filename.endswith(('.jfif', '.tiff', '.tif')):\n",
        "            print(f\"Reformatting {filename} to JPG format...\")\n",
        "            img = Image.open(os.path.join(folder_path, filename))\n",
        "            # Remove the extension from the filename\n",
        "            base_filename = os.path.splitext(filename)[0]\n",
        "            img.save(os.path.join(folder_path, base_filename + '.jpg'))\n",
        "            print(f\"Reformatted {filename} to JPG format.\")"
      ]
    },
    {
      "cell_type": "code",
      "execution_count": null,
      "metadata": {
        "colab": {
          "base_uri": "https://localhost:8080/"
        },
        "id": "0EIsUyJlk_np",
        "outputId": "783b7e33-5324-417a-93bb-6a55228c9d00"
      },
      "outputs": [
        {
          "output_type": "stream",
          "name": "stdout",
          "text": [
            "Class names: ['benign', 'malignant']\n",
            "Found 8116 files belonging to 2 classes.\n",
            "Found 900 files belonging to 2 classes.\n",
            "Class names: ['benign', 'malignant']\n",
            "Number of classes:  2\n"
          ]
        }
      ],
      "source": [
        "# Load image with image_dataset_from_directory\n",
        "import tensorflow as tf\n",
        "from tensorflow.keras.preprocessing import image_dataset_from_directory\n",
        "\n",
        "# Define the parameters: image size, colors\n",
        "image_size = (380,380)\n",
        "batch_size=32\n",
        "color_mode = 'rgb'\n",
        "label_mode = \"binary\"\n",
        "class_names = sorted(os.listdir(dataset_path + '/train'))\n",
        "print(\"Class names:\", class_names)\n",
        "\n",
        "# Load the train dataset\n",
        "train_dataset = image_dataset_from_directory(\n",
        "    directory= dataset_path + '/train',\n",
        "    labels=\"inferred\",\n",
        "    label_mode=label_mode,\n",
        "    class_names=class_names,\n",
        "    color_mode=color_mode,\n",
        "    batch_size=batch_size,\n",
        "    image_size=image_size,\n",
        "    # shuffle=True,\n",
        "    seed=42,\n",
        "    # validation_split=0.2,\n",
        "    # subset=\"training\",\n",
        "    interpolation=\"bilinear\",\n",
        "    # follow_links=False,\n",
        "    # crop_to_aspect_ratio=False,\n",
        "    # data_format=None,\n",
        ")\n",
        "\n",
        "# Load the test dataset\n",
        "val_dataset = image_dataset_from_directory(\n",
        "    directory= dataset_path + '/val',\n",
        "    labels=\"inferred\",\n",
        "    label_mode=label_mode,\n",
        "    class_names=class_names,\n",
        "    color_mode=color_mode,\n",
        "    batch_size=batch_size,\n",
        "    image_size=image_size,\n",
        "    # shuffle=True,\n",
        "    seed=42,\n",
        "    # validation_split=0.2,\n",
        "    # subset=\"validation\",\n",
        "    interpolation=\"bilinear\",\n",
        "    # follow_links=False,\n",
        "    # crop_to_aspect_ratio=False,\n",
        "    # data_format=None,\n",
        ")\n",
        "\n",
        "# Get the class names\n",
        "# class_names = train_dataset.class_names\n",
        "num_classes = len(class_names)\n",
        "\n",
        "print(\"Class names:\", train_dataset.class_names)\n",
        "print(\"Number of classes: \", num_classes)"
      ]
    },
    {
      "cell_type": "markdown",
      "metadata": {
        "id": "ap-4W3pkk_np"
      },
      "source": [
        "#### Copy the test_dataset into a independent folder"
      ]
    },
    {
      "cell_type": "code",
      "execution_count": null,
      "metadata": {
        "colab": {
          "base_uri": "https://localhost:8080/"
        },
        "id": "sDRwUVrzk_np",
        "outputId": "4b1a280e-79cc-47cd-ced1-80917c10d086"
      },
      "outputs": [
        {
          "output_type": "stream",
          "name": "stdout",
          "text": [
            "new_directory:/content/drive/MyDrive/Colab Notebooks/Thesis/Analysis/test_dataset/05_08\n"
          ]
        }
      ],
      "source": [
        "import shutil\n",
        "import os\n",
        "\n",
        "# Define a new directory to store the images\n",
        "# new_directory = '/content/drive/MyDrive/Colab Notebooks/Thesis/Analysis/test_dataset' + '/' + os.path.basename(os.path.dirname(dataset_path))\n",
        "# new_directory = '/content/drive/MyDrive/Colab Notebooks/Thesis/Analysis/test_dataset_origin' + '/' + os.path.basename(os.path.dirname(dataset_path))\n",
        "# new_directory = '/content/drive/MyDrive/Colab Notebooks/Thesis/Analysis/test_dataset/05_00'\n",
        "# new_directory = '/content/drive/MyDrive/Colab Notebooks/Thesis/Analysis/test_dataset/05_02'\n",
        "# new_directory = '/content/drive/MyDrive/Colab Notebooks/Thesis/Analysis/test_dataset/05_03'\n",
        "# new_directory = '/content/drive/MyDrive/Colab Notebooks/Thesis/Analysis/test_dataset/05_04'\n",
        "# new_directory = '/content/drive/MyDrive/Colab Notebooks/Thesis/Analysis/test_dataset/05_07'\n",
        "new_directory = '/content/drive/MyDrive/Colab Notebooks/Thesis/Analysis/test_dataset/05_08'\n",
        "\n",
        "\n",
        "print('new_directory:' + new_directory)\n",
        "\n",
        "# Create the new directory if it doesn't exist\n",
        "if not os.path.exists(new_directory):\n",
        "    os.makedirs(new_directory)\n",
        "\n",
        "# Get the file paths from the original test_dataset\n",
        "file_paths = val_dataset.file_paths\n",
        "\n",
        "# Copy the images to the new directory\n",
        "for file_path in file_paths:\n",
        "    # Get the class name and image name from the file path\n",
        "    class_name = os.path.basename(os.path.dirname(file_path))\n",
        "    image_name = os.path.basename(file_path)\n",
        "\n",
        "    # Create a new directory for the class if it doesn't exist\n",
        "    class_directory = os.path.join(new_directory, class_name)\n",
        "    if not os.path.exists(class_directory):\n",
        "        os.makedirs(class_directory)\n",
        "\n",
        "    # Copy the image to the new directory\n",
        "    shutil.copy(file_path, os.path.join(class_directory, image_name))\n"
      ]
    },
    {
      "cell_type": "code",
      "execution_count": null,
      "metadata": {
        "colab": {
          "base_uri": "https://localhost:8080/"
        },
        "id": "1l3W6WHuk_nq",
        "outputId": "fd6a3c61-9a7c-4d7a-8bfb-7eff0118e7a3"
      },
      "outputs": [
        {
          "name": "stdout",
          "output_type": "stream",
          "text": [
            "Found 900 files belonging to 2 classes.\n",
            "Class names: ['benign', 'malignant']\n",
            "Number of classes:  2\n"
          ]
        }
      ],
      "source": [
        "# Load the dataset from new independent test_dataset folder\n",
        "test_dataset = image_dataset_from_directory(\n",
        "    directory= new_directory,\n",
        "    labels=\"inferred\",\n",
        "    label_mode=label_mode,\n",
        "    class_names=class_names,\n",
        "    color_mode=color_mode,\n",
        "    batch_size=batch_size,\n",
        "    image_size=image_size,\n",
        "    shuffle=False,\n",
        "    seed=42,\n",
        "    # validation_split=0.2,\n",
        "    # subset=\"validation\",\n",
        "    interpolation=\"bilinear\",\n",
        "    # follow_links=False,\n",
        "    # crop_to_aspect_ratio=False,\n",
        "    # data_format=None,\n",
        ")\n",
        "\n",
        "# Get the class names\n",
        "# class_names = train_dataset.class_names\n",
        "num_classes = len(class_names)\n",
        "\n",
        "print(\"Class names:\", test_dataset.class_names)\n",
        "print(\"Number of classes: \", num_classes)"
      ]
    },
    {
      "cell_type": "markdown",
      "metadata": {
        "id": "5e9gLt4eq0zJ"
      },
      "source": [
        "### 2.Osteoporosis-Knee-Xray_unsharpMasking"
      ]
    },
    {
      "cell_type": "code",
      "execution_count": null,
      "metadata": {
        "colab": {
          "base_uri": "https://localhost:8080/"
        },
        "id": "pPqPJTffq0zK",
        "outputId": "2ca5d7d6-8406-4493-ddc7-c88aa23f6751"
      },
      "outputs": [
        {
          "output_type": "stream",
          "name": "stdout",
          "text": [
            "/content\n",
            "Cloning into 'Osteoporosis-Knee-Xray_unsharpMasking'...\n",
            "remote: Enumerating objects: 364, done.\u001b[K\n",
            "remote: Total 364 (delta 0), reused 0 (delta 0), pack-reused 364 (from 1)\u001b[K\n",
            "Receiving objects: 100% (364/364), 68.81 MiB | 22.27 MiB/s, done.\n",
            "Resolving deltas: 100% (2/2), done.\n"
          ]
        }
      ],
      "source": [
        "%cd '/content'\n",
        "# !git clone https://github.com/ricardotran92/Osteoporosis-Knee-Xray_unsharpMasking.git\n",
        "# !git clone https://github.com/ricardotran92/Osteoporosis-Knee-Xray-Dataset.git\n",
        "# !git clone https://github.com/ricardotran92/Osteoporosis-Knee-Xray_CLAHE_Butterworth.git\n",
        "# !git clone https://github.com/ricardotran92/Osteoporosis-Knee-Xray_DWT.git\n",
        "# !git clone https://github.com/ricardotran92/Osteoporosis-Knee-Xray_CLAHE_medianF3x3.git\n",
        "# !git clone https://github.com/ricardotran92/Osteoporosis-Knee-Xray_Median-Mean-Hybrid-Filter_5x5.git\n",
        "!git clone https://github.com/ricardotran92/Osteoporosis-Knee-Xray_unsharpMasking.git"
      ]
    },
    {
      "cell_type": "code",
      "execution_count": null,
      "metadata": {
        "colab": {
          "base_uri": "https://localhost:8080/"
        },
        "id": "fdXQ14fGq0zK",
        "outputId": "f43246a1-27aa-426c-fdb5-6f13ca352a09"
      },
      "outputs": [
        {
          "output_type": "stream",
          "name": "stdout",
          "text": [
            "/content/Osteoporosis-Knee-Xray_unsharpMasking\n"
          ]
        }
      ],
      "source": [
        "# %cd '/content/Osteoporosis-Knee-Xray_unsharpMasking'\n",
        "# %cd '/content/Osteoporosis-Knee-Xray-Dataset'\n",
        "# %cd '/content/Osteoporosis-Knee-Xray_CLAHE_Butterworth'\n",
        "# %cd '/content/Osteoporosis-Knee-Xray_DWT'\n",
        "# %cd '/content/Osteoporosis-Knee-Xray_CLAHE_medianF3x3'\n",
        "# %cd '/content/Osteoporosis-Knee-Xray_Median-Mean-Hybrid-Filter_5x5'\n",
        "%cd '/content/Osteoporosis-Knee-Xray_unsharpMasking'"
      ]
    },
    {
      "cell_type": "code",
      "execution_count": null,
      "metadata": {
        "id": "Lv8Muu-uq0zK"
      },
      "outputs": [],
      "source": [
        "# dataset_path = '/content/Osteoporosis-Knee-Xray_unsharpMasking/dataset'\n",
        "# dataset_path = '/content/Osteoporosis-Knee-Xray-Dataset/dataset'\n",
        "# dataset_path = '/content/Osteoporosis-Knee-Xray_CLAHE_Butterworth/dataset'\n",
        "# dataset_path = '/content/Osteoporosis-Knee-Xray_DWT/dataset'\n",
        "# dataset_path = '/content/Osteoporosis-Knee-Xray_CLAHE_medianF3x3/dataset'\n",
        "# dataset_path = '/content/Osteoporosis-Knee-Xray_Median-Mean-Hybrid-Filter_5x5/dataset'\n",
        "dataset_path = '/content/Osteoporosis-Knee-Xray_unsharpMasking/dataset'"
      ]
    },
    {
      "cell_type": "markdown",
      "metadata": {
        "id": "pLtdRswGq0zK"
      },
      "source": [
        "#### Load dataset"
      ]
    },
    {
      "cell_type": "code",
      "execution_count": null,
      "metadata": {
        "id": "J1NtwAJCq0zK"
      },
      "outputs": [],
      "source": [
        "# Convert strange format supported format with Tensorflow (JPEG, PNG, BMP, GIF)\n",
        "from PIL import Image\n",
        "import os\n",
        "\n",
        "# dataset_path = 'path_to_your_dataset'\n",
        "\n",
        "for foldername in os.listdir(dataset_path):\n",
        "    folder_path = os.path.join(dataset_path, foldername)\n",
        "    for filename in os.listdir(folder_path):\n",
        "        if filename.endswith(('.jfif', '.tiff', '.tif')):\n",
        "            print(f\"Reformatting {filename} to JPG format...\")\n",
        "            img = Image.open(os.path.join(folder_path, filename))\n",
        "            # Remove the extension from the filename\n",
        "            base_filename = os.path.splitext(filename)[0]\n",
        "            img.save(os.path.join(folder_path, base_filename + '.jpg'))\n",
        "            print(f\"Reformatted {filename} to JPG format.\")"
      ]
    },
    {
      "cell_type": "code",
      "execution_count": null,
      "metadata": {
        "colab": {
          "base_uri": "https://localhost:8080/"
        },
        "id": "sjJdHnixq0zL",
        "outputId": "bd06d5f3-c6ee-4d20-f895-62cd46e8a688"
      },
      "outputs": [
        {
          "output_type": "stream",
          "name": "stdout",
          "text": [
            "Class names: ['normal', 'osteoporosis']\n",
            "Found 372 files belonging to 2 classes.\n",
            "Using 298 files for training.\n",
            "Found 372 files belonging to 2 classes.\n",
            "Using 74 files for validation.\n",
            "Class names: ['normal', 'osteoporosis']\n",
            "Number of classes:  2\n"
          ]
        }
      ],
      "source": [
        "# Load image with image_dataset_from_directory\n",
        "import tensorflow as tf\n",
        "from tensorflow.keras.preprocessing import image_dataset_from_directory\n",
        "\n",
        "# Define the parameters: image size, colors\n",
        "image_size = (224,224)\n",
        "batch_size = 32\n",
        "color_mode = 'rgb'\n",
        "label_mode = \"binary\"\n",
        "class_names = sorted(os.listdir(dataset_path))\n",
        "print(\"Class names:\", class_names)\n",
        "\n",
        "# Load the train dataset\n",
        "train_dataset = image_dataset_from_directory(\n",
        "    directory= dataset_path,\n",
        "    labels=\"inferred\",\n",
        "    label_mode=label_mode,\n",
        "    class_names=class_names,\n",
        "    color_mode=color_mode,\n",
        "    batch_size=batch_size,\n",
        "    image_size=image_size,\n",
        "    # shuffle=True,\n",
        "    seed=42,\n",
        "    validation_split=0.2,\n",
        "    subset=\"training\",\n",
        "    interpolation=\"bilinear\",\n",
        "    # follow_links=False,\n",
        "    # crop_to_aspect_ratio=False,\n",
        "    # data_format=None,\n",
        ")\n",
        "\n",
        "# Load the test dataset\n",
        "test_dataset = image_dataset_from_directory(\n",
        "    directory= dataset_path,\n",
        "    labels=\"inferred\",\n",
        "    label_mode=label_mode,\n",
        "    class_names=class_names,\n",
        "    color_mode=color_mode,\n",
        "    batch_size=batch_size,\n",
        "    image_size=image_size,\n",
        "    # shuffle=True,\n",
        "    seed=42,\n",
        "    validation_split=0.2,\n",
        "    subset=\"validation\",\n",
        "    interpolation=\"bilinear\",\n",
        "    # follow_links=False,\n",
        "    # crop_to_aspect_ratio=False,\n",
        "    # data_format=None,\n",
        ")\n",
        "\n",
        "# Get the class names\n",
        "# class_names = train_dataset.class_names\n",
        "num_classes = len(class_names)\n",
        "\n",
        "print(\"Class names:\", train_dataset.class_names)\n",
        "print(\"Number of classes: \", num_classes)"
      ]
    },
    {
      "cell_type": "markdown",
      "metadata": {
        "id": "ScSyVbqhq0zL"
      },
      "source": [
        "#### Copy the test_dataset into a independent folder"
      ]
    },
    {
      "cell_type": "code",
      "execution_count": null,
      "metadata": {
        "colab": {
          "base_uri": "https://localhost:8080/"
        },
        "id": "4uF1Yq0iq0zL",
        "outputId": "c86a618a-3414-494d-e5a0-1208b93d5bca"
      },
      "outputs": [
        {
          "output_type": "stream",
          "name": "stdout",
          "text": [
            "new_directory:/content/drive/MyDrive/Colab Notebooks/Thesis/Analysis/test_dataset/02_08\n"
          ]
        }
      ],
      "source": [
        "import shutil\n",
        "import os\n",
        "\n",
        "# Define a new directory to store the images\n",
        "# new_directory = '/content/drive/MyDrive/Colab Notebooks/Thesis/Analysis/test_dataset' + '/' + os.path.basename(os.path.dirname(dataset_path))\n",
        "# new_directory = '/content/drive/MyDrive/Colab Notebooks/Thesis/Analysis/test_dataset_origin' + '/' + os.path.basename(os.path.dirname(dataset_path))\n",
        "# new_directory = '/content/drive/MyDrive/Colab Notebooks/Thesis/Analysis/test_dataset/02_00'\n",
        "# new_directory = '/content/drive/MyDrive/Colab Notebooks/Thesis/Analysis/test_dataset/02_02'\n",
        "# new_directory = '/content/drive/MyDrive/Colab Notebooks/Thesis/Analysis/test_dataset/02_03'\n",
        "# new_directory = '/content/drive/MyDrive/Colab Notebooks/Thesis/Analysis/test_dataset/02_04'\n",
        "# new_directory = '/content/drive/MyDrive/Colab Notebooks/Thesis/Analysis/test_dataset/02_07'\n",
        "new_directory = '/content/drive/MyDrive/Colab Notebooks/Thesis/Analysis/test_dataset/02_08'\n",
        "\n",
        "print('new_directory:' + new_directory)\n",
        "\n",
        "# Create the new directory if it doesn't exist\n",
        "if not os.path.exists(new_directory):\n",
        "    os.makedirs(new_directory)\n",
        "\n",
        "# Get the file paths from the original test_dataset\n",
        "file_paths = test_dataset.file_paths\n",
        "\n",
        "# Copy the images to the new directory\n",
        "for file_path in file_paths:\n",
        "    # Get the class name and image name from the file path\n",
        "    class_name = os.path.basename(os.path.dirname(file_path))\n",
        "    image_name = os.path.basename(file_path)\n",
        "\n",
        "    # Create a new directory for the class if it doesn't exist\n",
        "    class_directory = os.path.join(new_directory, class_name)\n",
        "    if not os.path.exists(class_directory):\n",
        "        os.makedirs(class_directory)\n",
        "\n",
        "    # Copy the image to the new directory\n",
        "    shutil.copy(file_path, os.path.join(class_directory, image_name))\n"
      ]
    },
    {
      "cell_type": "code",
      "execution_count": null,
      "metadata": {
        "colab": {
          "base_uri": "https://localhost:8080/"
        },
        "id": "AiuLcgtyq0zL",
        "outputId": "1390025f-a0fd-496a-b2dd-7bda63ff2ed2"
      },
      "outputs": [
        {
          "name": "stdout",
          "output_type": "stream",
          "text": [
            "Found 74 files belonging to 2 classes.\n",
            "Class names: ['normal', 'osteoporosis']\n",
            "Number of classes:  2\n"
          ]
        }
      ],
      "source": [
        "# Load the dataset from new independent test_dataset folder\n",
        "test_dataset = image_dataset_from_directory(\n",
        "    directory= new_directory,\n",
        "    labels=\"inferred\",\n",
        "    label_mode=label_mode,\n",
        "    class_names=class_names,\n",
        "    color_mode=color_mode,\n",
        "    batch_size=batch_size,\n",
        "    image_size=image_size,\n",
        "    shuffle=False,\n",
        "    seed=42,\n",
        "    # validation_split=0.2,\n",
        "    # subset=\"validation\",\n",
        "    interpolation=\"bilinear\",\n",
        "    # follow_links=False,\n",
        "    # crop_to_aspect_ratio=False,\n",
        "    # data_format=None,\n",
        ")\n",
        "\n",
        "# Get the class names\n",
        "# class_names = train_dataset.class_names\n",
        "num_classes = len(class_names)\n",
        "\n",
        "print(\"Class names:\", test_dataset.class_names)\n",
        "print(\"Number of classes: \", num_classes)"
      ]
    },
    {
      "cell_type": "markdown",
      "metadata": {
        "id": "SC1YrPO1r0_K"
      },
      "source": [
        "### 7.Breast-Cancer-Patients-MRI_unsharpMasking_bilateralfilter"
      ]
    },
    {
      "cell_type": "code",
      "execution_count": null,
      "metadata": {
        "colab": {
          "base_uri": "https://localhost:8080/"
        },
        "id": "ITnMNSpGr0_L",
        "outputId": "900e0b5c-4d45-4b2f-c151-819b29b49ccb"
      },
      "outputs": [
        {
          "output_type": "stream",
          "name": "stdout",
          "text": [
            "/content\n",
            "Cloning into 'Breast-Cancer-Patients-MRI_unsharpMasking_bilateralfilter'...\n",
            "remote: Enumerating objects: 1453, done.\u001b[K\n",
            "remote: Counting objects: 100% (1453/1453), done.\u001b[K\n",
            "remote: Compressing objects: 100% (1451/1451), done.\u001b[K\n",
            "remote: Total 1453 (delta 2), reused 1453 (delta 2), pack-reused 0 (from 0)\u001b[K\n",
            "Receiving objects: 100% (1453/1453), 22.43 MiB | 23.15 MiB/s, done.\n",
            "Resolving deltas: 100% (2/2), done.\n"
          ]
        }
      ],
      "source": [
        "%cd '/content'\n",
        "# !git clone https://github.com/ricardotran92/Breast-Cancer-Patients-MRI_unsharpMasking_bilateralfilter.git\n",
        "# !git clone https://github.com/ricardotran92/Breast-Cancer-Patients-MRI.git\n",
        "# !git clone https://github.com/ricardotran92/Breast-Cancer-Patients-MRI_CLAHE_Butterworth.git\n",
        "# !git clone https://github.com/ricardotran92/Breast-Cancer-Patients-MRI_DWT_PreProcessing.git\n",
        "# !git clone https://github.com/ricardotran92/Breast-Cancer-Patients-MRI_CLAHE_medianF3x3.git\n",
        "# !git clone https://github.com/ricardotran92/Breast-Cancer-Patients-MRI_Median-Mean-Hybrid_Filter.git\n",
        "!git clone https://github.com/ricardotran92/Breast-Cancer-Patients-MRI_unsharpMasking_bilateralfilter.git"
      ]
    },
    {
      "cell_type": "code",
      "execution_count": null,
      "metadata": {
        "colab": {
          "base_uri": "https://localhost:8080/"
        },
        "id": "k4dBd-F1r0_M",
        "outputId": "3ac18237-d5b6-4405-97e3-c44075a088e7"
      },
      "outputs": [
        {
          "output_type": "stream",
          "name": "stdout",
          "text": [
            "/content/Breast-Cancer-Patients-MRI_unsharpMasking_bilateralfilter\n"
          ]
        }
      ],
      "source": [
        "# %cd '/content/Breast-Cancer-Patients-MRI_unsharpMasking_bilateralfilter'\n",
        "# %cd '/content/Breast-Cancer-Patients-MRI'\n",
        "# %cd '/content/Breast-Cancer-Patients-MRI_CLAHE_Butterworth'\n",
        "# %cd '/content/Breast-Cancer-Patients-MRI_DWT_PreProcessing'\n",
        "# %cd '/content/Breast-Cancer-Patients-MRI_CLAHE_medianF3x3'\n",
        "# %cd '/content/Breast-Cancer-Patients-MRI_Median-Mean-Hybrid_Filter'\n",
        "%cd '/content/Breast-Cancer-Patients-MRI_unsharpMasking_bilateralfilter'"
      ]
    },
    {
      "cell_type": "code",
      "execution_count": null,
      "metadata": {
        "id": "2w_LVe6gr0_M"
      },
      "outputs": [],
      "source": [
        "# dataset_path = '/content/Breast-Cancer-Patients-MRI_unsharpMasking_bilateralfilter/dataset'\n",
        "# dataset_path = '/content/Breast-Cancer-Patients-MRI/dataset'\n",
        "# dataset_path = '/content/Breast-Cancer-Patients-MRI_CLAHE_Butterworth/dataset'\n",
        "# dataset_path = '/content/Breast-Cancer-Patients-MRI_DWT_PreProcessing/dataset'\n",
        "# dataset_path = '/content/Breast-Cancer-Patients-MRI_CLAHE_medianF3x3/dataset'\n",
        "# dataset_path = '/content/Breast-Cancer-Patients-MRI_Median-Mean-Hybrid_Filter/dataset'\n",
        "dataset_path = '/content/Breast-Cancer-Patients-MRI_unsharpMasking_bilateralfilter/dataset'"
      ]
    },
    {
      "cell_type": "markdown",
      "metadata": {
        "id": "mMDJhU48r0_M"
      },
      "source": [
        "#### Load dataset"
      ]
    },
    {
      "cell_type": "code",
      "execution_count": null,
      "metadata": {
        "id": "wqmU3Cvbr0_M"
      },
      "outputs": [],
      "source": [
        "# Convert strange format supported format with Tensorflow (JPEG, PNG, BMP, GIF)\n",
        "from PIL import Image\n",
        "import os\n",
        "\n",
        "# dataset_path = 'path_to_your_dataset'\n",
        "\n",
        "for foldername in os.listdir(dataset_path):\n",
        "    folder_path = os.path.join(dataset_path, foldername)\n",
        "    for filename in os.listdir(folder_path):\n",
        "        if filename.endswith(('.jfif', '.tiff', '.tif')):\n",
        "            print(f\"Reformatting {filename} to JPG format...\")\n",
        "            img = Image.open(os.path.join(folder_path, filename))\n",
        "            # Remove the extension from the filename\n",
        "            base_filename = os.path.splitext(filename)[0]\n",
        "            img.save(os.path.join(folder_path, base_filename + '.jpg'))\n",
        "            print(f\"Reformatted {filename} to JPG format.\")"
      ]
    },
    {
      "cell_type": "code",
      "execution_count": null,
      "metadata": {
        "colab": {
          "base_uri": "https://localhost:8080/"
        },
        "id": "HQ402RkOr0_M",
        "outputId": "e5bc6358-a960-4f30-c691-85734dab3afc"
      },
      "outputs": [
        {
          "output_type": "stream",
          "name": "stdout",
          "text": [
            "Class names: ['Healthy', 'Sick']\n",
            "Found 1400 files belonging to 2 classes.\n",
            "Found 80 files belonging to 2 classes.\n",
            "Class names: ['Healthy', 'Sick']\n",
            "Number of classes:  2\n"
          ]
        }
      ],
      "source": [
        "# Load image with image_dataset_from_directory\n",
        "import tensorflow as tf\n",
        "from tensorflow.keras.preprocessing import image_dataset_from_directory\n",
        "\n",
        "# Define the parameters: image size, colors\n",
        "image_size = (224,224)\n",
        "batch_size=32\n",
        "color_mode = 'rgb'\n",
        "label_mode = \"binary\"\n",
        "class_names = sorted(os.listdir(dataset_path + '/train'))\n",
        "print(\"Class names:\", class_names)\n",
        "\n",
        "# Load the train dataset\n",
        "train_dataset = image_dataset_from_directory(\n",
        "    directory= dataset_path + '/train',\n",
        "    labels=\"inferred\",\n",
        "    label_mode=label_mode,\n",
        "    class_names=class_names,\n",
        "    color_mode=color_mode,\n",
        "    batch_size=batch_size,\n",
        "    image_size=image_size,\n",
        "    # shuffle=True,\n",
        "    seed=42,\n",
        "    # validation_split=0.2,\n",
        "    # subset=\"training\",\n",
        "    interpolation=\"bilinear\",\n",
        "    # follow_links=False,\n",
        "    # crop_to_aspect_ratio=False,\n",
        "    # data_format=None,\n",
        ")\n",
        "\n",
        "# Load the test dataset\n",
        "val_dataset = image_dataset_from_directory(\n",
        "    directory= dataset_path + '/validation',\n",
        "    labels=\"inferred\",\n",
        "    label_mode=label_mode,\n",
        "    class_names=class_names,\n",
        "    color_mode=color_mode,\n",
        "    batch_size=batch_size,\n",
        "    image_size=image_size,\n",
        "    # shuffle=True,\n",
        "    seed=42,\n",
        "    # validation_split=0.2,\n",
        "    # subset=\"validation\",\n",
        "    interpolation=\"bilinear\",\n",
        "    # follow_links=False,\n",
        "    # crop_to_aspect_ratio=False,\n",
        "    # data_format=None,\n",
        ")\n",
        "\n",
        "# Get the class names\n",
        "# class_names = train_dataset.class_names\n",
        "num_classes = len(class_names)\n",
        "\n",
        "print(\"Class names:\", train_dataset.class_names)\n",
        "print(\"Number of classes: \", num_classes)"
      ]
    },
    {
      "cell_type": "markdown",
      "metadata": {
        "id": "mb9enNXnr0_N"
      },
      "source": [
        "#### Copy the test_dataset into a independent folder"
      ]
    },
    {
      "cell_type": "code",
      "execution_count": null,
      "metadata": {
        "colab": {
          "base_uri": "https://localhost:8080/"
        },
        "id": "MnwELtJOr0_N",
        "outputId": "d3e8a484-7700-4c22-b921-6b021e881dce"
      },
      "outputs": [
        {
          "output_type": "stream",
          "name": "stdout",
          "text": [
            "new_directory:/content/drive/MyDrive/Colab Notebooks/Thesis/Analysis/test_dataset/07_08\n"
          ]
        }
      ],
      "source": [
        "import shutil\n",
        "import os\n",
        "\n",
        "# Define a new directory to store the images\n",
        "# new_directory = '/content/drive/MyDrive/Colab Notebooks/Thesis/Analysis/test_dataset' + '/' + os.path.basename(os.path.dirname(dataset_path))\n",
        "# new_directory = '/content/drive/MyDrive/Colab Notebooks/Thesis/Analysis/test_dataset_origin' + '/' + os.path.basename(os.path.dirname(dataset_path))\n",
        "# new_directory = '/content/drive/MyDrive/Colab Notebooks/Thesis/Analysis/test_dataset/07_00'\n",
        "# new_directory = '/content/drive/MyDrive/Colab Notebooks/Thesis/Analysis/test_dataset/07_02'\n",
        "# new_directory = '/content/drive/MyDrive/Colab Notebooks/Thesis/Analysis/test_dataset/07_03'\n",
        "# new_directory = '/content/drive/MyDrive/Colab Notebooks/Thesis/Analysis/test_dataset/07_04'\n",
        "# new_directory = '/content/drive/MyDrive/Colab Notebooks/Thesis/Analysis/test_dataset/07_07'\n",
        "new_directory = '/content/drive/MyDrive/Colab Notebooks/Thesis/Analysis/test_dataset/07_08'\n",
        "\n",
        "print('new_directory:' + new_directory)\n",
        "\n",
        "# Create the new directory if it doesn't exist\n",
        "if not os.path.exists(new_directory):\n",
        "    os.makedirs(new_directory)\n",
        "\n",
        "# Get the file paths from the original test_dataset\n",
        "file_paths = val_dataset.file_paths\n",
        "\n",
        "# Copy the images to the new directory\n",
        "for file_path in file_paths:\n",
        "    # Get the class name and image name from the file path\n",
        "    class_name = os.path.basename(os.path.dirname(file_path))\n",
        "    image_name = os.path.basename(file_path)\n",
        "\n",
        "    # Create a new directory for the class if it doesn't exist\n",
        "    class_directory = os.path.join(new_directory, class_name)\n",
        "    if not os.path.exists(class_directory):\n",
        "        os.makedirs(class_directory)\n",
        "\n",
        "    # Copy the image to the new directory\n",
        "    shutil.copy(file_path, os.path.join(class_directory, image_name))\n"
      ]
    },
    {
      "cell_type": "code",
      "execution_count": null,
      "metadata": {
        "colab": {
          "base_uri": "https://localhost:8080/"
        },
        "id": "s1Jnec-Sr0_N",
        "outputId": "e79f6b5c-e734-4887-af3e-67aa03f6d5ec"
      },
      "outputs": [
        {
          "name": "stdout",
          "output_type": "stream",
          "text": [
            "Found 80 files belonging to 2 classes.\n",
            "Class names: ['Healthy', 'Sick']\n",
            "Number of classes:  2\n"
          ]
        }
      ],
      "source": [
        "# Load the dataset from new independent test_dataset folder\n",
        "test_dataset = image_dataset_from_directory(\n",
        "    directory= new_directory,\n",
        "    labels=\"inferred\",\n",
        "    label_mode=label_mode,\n",
        "    class_names=class_names,\n",
        "    color_mode=color_mode,\n",
        "    batch_size=batch_size,\n",
        "    image_size=image_size,\n",
        "    shuffle=False,\n",
        "    seed=42,\n",
        "    # validation_split=0.2,\n",
        "    # subset=\"validation\",\n",
        "    interpolation=\"bilinear\",\n",
        "    # follow_links=False,\n",
        "    # crop_to_aspect_ratio=False,\n",
        "    # data_format=None,\n",
        ")\n",
        "\n",
        "# Get the class names\n",
        "# class_names = train_dataset.class_names\n",
        "num_classes = len(class_names)\n",
        "\n",
        "print(\"Class names:\", test_dataset.class_names)\n",
        "print(\"Number of classes: \", num_classes)"
      ]
    },
    {
      "cell_type": "markdown",
      "metadata": {
        "id": "npa0PjkdJiRX"
      },
      "source": [
        "### 8.MT-Small-Dataset_Unsharp-Masking_Bilateral_Filter"
      ]
    },
    {
      "cell_type": "code",
      "execution_count": null,
      "metadata": {
        "colab": {
          "base_uri": "https://localhost:8080/"
        },
        "id": "ccfkl5tgJiRX",
        "outputId": "42c8c363-3034-447a-db4f-ef0244c2f344"
      },
      "outputs": [
        {
          "output_type": "stream",
          "name": "stdout",
          "text": [
            "/content\n",
            "Cloning into 'MT-Small-Dataset_Unsharp-Masking_Bilateral_Filter'...\n",
            "remote: Enumerating objects: 409, done.\u001b[K\n",
            "remote: Counting objects: 100% (409/409), done.\u001b[K\n",
            "remote: Compressing objects: 100% (407/407), done.\u001b[K\n",
            "remote: Total 409 (delta 2), reused 409 (delta 2), pack-reused 0 (from 0)\u001b[K\n",
            "Receiving objects: 100% (409/409), 3.51 MiB | 14.21 MiB/s, done.\n",
            "Resolving deltas: 100% (2/2), done.\n"
          ]
        }
      ],
      "source": [
        "%cd '/content'\n",
        "# !git clone https://github.com/ricardotran92/MT-Small-Dataset_Unsharp-Masking_Bilateral_Filter.git\n",
        "# !git clone https://github.com/ricardotran92/MT-Small-Dataset.git\n",
        "# !git clone https://github.com/ricardotran92/MT-Small-Dataset_CLAHE_Butterworth.git\n",
        "# !git clone https://github.com/ricardotran92/MT-Small-Dataset_DWT.git\n",
        "# !git clone https://github.com/ricardotran92/MT-Small-Dataset_CLAHE_medianF3x3.git\n",
        "# !git clone https://github.com/ricardotran92/MT-Small-Dataset_Median-Mean-Hybrid-Filter.git\n",
        "!git clone https://github.com/ricardotran92/MT-Small-Dataset_Unsharp-Masking_Bilateral_Filter.git"
      ]
    },
    {
      "cell_type": "code",
      "execution_count": null,
      "metadata": {
        "colab": {
          "base_uri": "https://localhost:8080/"
        },
        "id": "ijiOreqCJiRY",
        "outputId": "56423b71-19bb-4868-fdd0-d13a79660699"
      },
      "outputs": [
        {
          "output_type": "stream",
          "name": "stdout",
          "text": [
            "/content/MT-Small-Dataset_Unsharp-Masking_Bilateral_Filter\n"
          ]
        }
      ],
      "source": [
        "# %cd '/content/MT-Small-Dataset_Unsharp-Masking_Bilateral_Filter'\n",
        "# %cd '/content/MT-Small-Dataset'\n",
        "# %cd '/content/MT-Small-Dataset_CLAHE_Butterworth'\n",
        "# %cd '/content/MT-Small-Dataset_DWT'\n",
        "# %cd '/content/MT-Small-Dataset_CLAHE_medianF3x3'\n",
        "# %cd '/content/MT-Small-Dataset_Median-Mean-Hybrid-Filter'\n",
        "%cd '/content/MT-Small-Dataset_Unsharp-Masking_Bilateral_Filter'"
      ]
    },
    {
      "cell_type": "code",
      "execution_count": null,
      "metadata": {
        "id": "o3C5Nx-MJiRY"
      },
      "outputs": [],
      "source": [
        "# dataset_path = '/content/MT-Small-Dataset_Unsharp-Masking_Bilateral_Filter/dataset'\n",
        "# dataset_path = '/content/MT-Small-Dataset/dataset'\n",
        "# dataset_path = '/content/MT-Small-Dataset_CLAHE_Butterworth/dataset'\n",
        "# dataset_path = '/content/MT-Small-Dataset_DWT/dataset'\n",
        "# dataset_path = '/content/MT-Small-Dataset_CLAHE_medianF3x3/dataset'\n",
        "# dataset_path = '/content/MT-Small-Dataset_Median-Mean-Hybrid-Filter/dataset'\n",
        "dataset_path = '/content/MT-Small-Dataset_Unsharp-Masking_Bilateral_Filter/dataset'"
      ]
    },
    {
      "cell_type": "markdown",
      "metadata": {
        "id": "h7QCx1loJiRY"
      },
      "source": [
        "#### Load dataset"
      ]
    },
    {
      "cell_type": "code",
      "execution_count": null,
      "metadata": {
        "id": "sV0FVSwXJiRY"
      },
      "outputs": [],
      "source": [
        "# Convert strange format supported format with Tensorflow (JPEG, PNG, BMP, GIF)\n",
        "from PIL import Image\n",
        "import os\n",
        "\n",
        "# dataset_path = 'path_to_your_dataset'\n",
        "\n",
        "for foldername in os.listdir(dataset_path):\n",
        "    folder_path = os.path.join(dataset_path, foldername)\n",
        "    for filename in os.listdir(folder_path):\n",
        "        if filename.endswith(('.jfif', '.tiff', '.tif')):\n",
        "            print(f\"Reformatting {filename} to JPG format...\")\n",
        "            img = Image.open(os.path.join(folder_path, filename))\n",
        "            # Remove the extension from the filename\n",
        "            base_filename = os.path.splitext(filename)[0]\n",
        "            img.save(os.path.join(folder_path, base_filename + '.jpg'))\n",
        "            print(f\"Reformatted {filename} to JPG format.\")"
      ]
    },
    {
      "cell_type": "code",
      "execution_count": null,
      "metadata": {
        "colab": {
          "base_uri": "https://localhost:8080/"
        },
        "id": "FiJ8sLg0JiRY",
        "outputId": "93516a7b-2ef1-4f8f-b3da-b5c308515947"
      },
      "outputs": [
        {
          "output_type": "stream",
          "name": "stdout",
          "text": [
            "Class names: ['Benign', 'Malignant']\n",
            "Found 400 files belonging to 2 classes.\n",
            "Using 320 files for training.\n",
            "Found 400 files belonging to 2 classes.\n",
            "Using 80 files for validation.\n",
            "Class names: ['Benign', 'Malignant']\n",
            "Number of classes:  2\n"
          ]
        }
      ],
      "source": [
        "# Load image with image_dataset_from_directory\n",
        "import tensorflow as tf\n",
        "from tensorflow.keras.preprocessing import image_dataset_from_directory\n",
        "\n",
        "# Define the parameters: image size, colors\n",
        "image_size = (380,380)\n",
        "batch_size=32\n",
        "color_mode = 'rgb'\n",
        "label_mode = \"binary\"\n",
        "class_names = sorted(os.listdir(dataset_path))\n",
        "print(\"Class names:\", class_names)\n",
        "\n",
        "# Load the train dataset\n",
        "train_dataset = image_dataset_from_directory(\n",
        "    directory= dataset_path,\n",
        "    labels=\"inferred\",\n",
        "    label_mode=label_mode,\n",
        "    class_names=class_names,\n",
        "    color_mode=color_mode,\n",
        "    batch_size=batch_size,\n",
        "    image_size=image_size,\n",
        "    # shuffle=True,\n",
        "    seed=42,\n",
        "    validation_split=0.2,\n",
        "    subset=\"training\",\n",
        "    interpolation=\"bilinear\",\n",
        "    # follow_links=False,\n",
        "    # crop_to_aspect_ratio=False,\n",
        "    # data_format=None,\n",
        ")\n",
        "\n",
        "# Load the test dataset\n",
        "val_dataset = image_dataset_from_directory(\n",
        "    directory= dataset_path,\n",
        "    labels=\"inferred\",\n",
        "    label_mode=label_mode,\n",
        "    class_names=class_names,\n",
        "    color_mode=color_mode,\n",
        "    batch_size=batch_size,\n",
        "    image_size=image_size,\n",
        "    # shuffle=True,\n",
        "    seed=42,\n",
        "    validation_split=0.2,\n",
        "    subset=\"validation\",\n",
        "    interpolation=\"bilinear\",\n",
        "    # follow_links=False,\n",
        "    # crop_to_aspect_ratio=False,\n",
        "    # data_format=None,\n",
        ")\n",
        "\n",
        "# Get the class names\n",
        "# class_names = train_dataset.class_names\n",
        "num_classes = len(class_names)\n",
        "\n",
        "print(\"Class names:\", train_dataset.class_names)\n",
        "print(\"Number of classes: \", num_classes)"
      ]
    },
    {
      "cell_type": "markdown",
      "metadata": {
        "id": "azkgtikHJiRZ"
      },
      "source": [
        "#### Copy the test_dataset into a independent folder"
      ]
    },
    {
      "cell_type": "code",
      "execution_count": null,
      "metadata": {
        "colab": {
          "base_uri": "https://localhost:8080/"
        },
        "id": "aT5ealzoJiRZ",
        "outputId": "646468ad-97d8-4cd2-9aeb-47eb3f6f0551"
      },
      "outputs": [
        {
          "output_type": "stream",
          "name": "stdout",
          "text": [
            "new_directory:/content/drive/MyDrive/Colab Notebooks/Thesis/Analysis/test_dataset/08_08\n"
          ]
        }
      ],
      "source": [
        "import shutil\n",
        "import os\n",
        "\n",
        "# Define a new directory to store the images\n",
        "# new_directory = '/content/drive/MyDrive/Colab Notebooks/Thesis/Analysis/test_dataset' + '/' + os.path.basename(os.path.dirname(dataset_path))\n",
        "# new_directory = '/content/drive/MyDrive/Colab Notebooks/Thesis/Analysis/test_dataset_origin' + '/' + os.path.basename(os.path.dirname(dataset_path))\n",
        "# new_directory = '/content/drive/MyDrive/Colab Notebooks/Thesis/Analysis/test_dataset/08_00'\n",
        "# new_directory = '/content/drive/MyDrive/Colab Notebooks/Thesis/Analysis/test_dataset/08_02'\n",
        "# new_directory = '/content/drive/MyDrive/Colab Notebooks/Thesis/Analysis/test_dataset/08_03'\n",
        "# new_directory = '/content/drive/MyDrive/Colab Notebooks/Thesis/Analysis/test_dataset/08_04'\n",
        "# new_directory = '/content/drive/MyDrive/Colab Notebooks/Thesis/Analysis/test_dataset/08_07'\n",
        "new_directory = '/content/drive/MyDrive/Colab Notebooks/Thesis/Analysis/test_dataset/08_08'\n",
        "\n",
        "print('new_directory:' + new_directory)\n",
        "\n",
        "# Create the new directory if it doesn't exist\n",
        "if not os.path.exists(new_directory):\n",
        "    os.makedirs(new_directory)\n",
        "\n",
        "# Get the file paths from the original test_dataset\n",
        "file_paths = val_dataset.file_paths\n",
        "\n",
        "# Copy the images to the new directory\n",
        "for file_path in file_paths:\n",
        "    # Get the class name and image name from the file path\n",
        "    class_name = os.path.basename(os.path.dirname(file_path))\n",
        "    image_name = os.path.basename(file_path)\n",
        "\n",
        "    # Create a new directory for the class if it doesn't exist\n",
        "    class_directory = os.path.join(new_directory, class_name)\n",
        "    if not os.path.exists(class_directory):\n",
        "        os.makedirs(class_directory)\n",
        "\n",
        "    # Copy the image to the new directory\n",
        "    shutil.copy(file_path, os.path.join(class_directory, image_name))\n"
      ]
    },
    {
      "cell_type": "code",
      "execution_count": null,
      "metadata": {
        "colab": {
          "base_uri": "https://localhost:8080/"
        },
        "id": "Lzez3e6-JiRZ",
        "outputId": "f09f0c57-69aa-422b-cf60-38f007d4fd62"
      },
      "outputs": [
        {
          "name": "stdout",
          "output_type": "stream",
          "text": [
            "Found 80 files belonging to 2 classes.\n",
            "Class names: ['Benign', 'Malignant']\n",
            "Number of classes:  2\n"
          ]
        }
      ],
      "source": [
        "# Load the dataset from new independent test_dataset folder\n",
        "test_dataset = image_dataset_from_directory(\n",
        "    directory= new_directory,\n",
        "    labels=\"inferred\",\n",
        "    label_mode=label_mode,\n",
        "    class_names=class_names,\n",
        "    color_mode=color_mode,\n",
        "    batch_size=batch_size,\n",
        "    image_size=image_size,\n",
        "    shuffle=False,\n",
        "    seed=42,\n",
        "    # validation_split=0.2,\n",
        "    # subset=\"validation\",\n",
        "    interpolation=\"bilinear\",\n",
        "    # follow_links=False,\n",
        "    # crop_to_aspect_ratio=False,\n",
        "    # data_format=None,\n",
        ")\n",
        "\n",
        "# Get the class names\n",
        "# class_names = train_dataset.class_names\n",
        "num_classes = len(class_names)\n",
        "\n",
        "print(\"Class names:\", test_dataset.class_names)\n",
        "print(\"Number of classes: \", num_classes)"
      ]
    },
    {
      "cell_type": "markdown",
      "metadata": {
        "id": "MbQ9ypUzKRJx"
      },
      "source": [
        "### 9.Brain-Stroke-CT-Image-Dataset_Median-Mean-Hybrid-Filter"
      ]
    },
    {
      "cell_type": "code",
      "execution_count": null,
      "metadata": {
        "colab": {
          "base_uri": "https://localhost:8080/"
        },
        "id": "AU0t-cfpKRJy",
        "outputId": "a5bfb031-4611-4843-d6c1-9e69c4c808ea"
      },
      "outputs": [
        {
          "output_type": "stream",
          "name": "stdout",
          "text": [
            "/content\n",
            "Cloning into 'Brain-Stroke-CT-Image-Dataset_unsharpMasking_bilateralfilter'...\n",
            "remote: Enumerating objects: 2510, done.\u001b[K\n",
            "remote: Total 2510 (delta 0), reused 0 (delta 0), pack-reused 2510 (from 1)\u001b[K\n",
            "Receiving objects: 100% (2510/2510), 123.41 MiB | 30.70 MiB/s, done.\n",
            "Updating files: 100% (2542/2542), done.\n"
          ]
        }
      ],
      "source": [
        "%cd '/content'\n",
        "# !git clone https://github.com/ricardotran92/Brain-Stroke-CT-Image-Dataset_Median-Mean-Hybrid-Filter.git\n",
        "# !git clone https://github.com/ricardotran92/Brain-Stroke-CT-Image-Dataset.git\n",
        "# !git clone https://github.com/ricardotran92/Brain-Stroke-CT-Image-Dataset_CLAHE_Butterworth.git\n",
        "# !git clone https://github.com/ricardotran92/Brain-Stroke-CT-Image-Dataset_DWT.git\n",
        "# !git clone https://github.com/ricardotran92/Brain-Stroke-CT-Image-Dataset_CLAHE_medianF3x3.git\n",
        "# !git clone https://github.com/ricardotran92/Brain-Stroke-CT-Image-Dataset_Median-Mean-Hybrid-Filter.git\n",
        "!git clone https://github.com/ricardotran92/Brain-Stroke-CT-Image-Dataset_unsharpMasking_bilateralfilter.git"
      ]
    },
    {
      "cell_type": "code",
      "execution_count": null,
      "metadata": {
        "colab": {
          "base_uri": "https://localhost:8080/"
        },
        "id": "G8IX3FxvKRJy",
        "outputId": "297c4ba7-8d89-4fea-bb05-733e546b0a00"
      },
      "outputs": [
        {
          "output_type": "stream",
          "name": "stdout",
          "text": [
            "/content/Brain-Stroke-CT-Image-Dataset_unsharpMasking_bilateralfilter\n"
          ]
        }
      ],
      "source": [
        "# %cd '/content/Brain-Stroke-CT-Image-Dataset_Median-Mean-Hybrid-Filter'\n",
        "# %cd '/content/Brain-Stroke-CT-Image-Dataset'\n",
        "# %cd '/content/Brain-Stroke-CT-Image-Dataset_CLAHE_Butterworth'\n",
        "# %cd '/content/Brain-Stroke-CT-Image-Dataset_DWT'\n",
        "# %cd '/content/Brain-Stroke-CT-Image-Dataset_CLAHE_medianF3x3'\n",
        "# %cd '/content/Brain-Stroke-CT-Image-Dataset_Median-Mean-Hybrid-Filter'\n",
        "%cd '/content/Brain-Stroke-CT-Image-Dataset_unsharpMasking_bilateralfilter'"
      ]
    },
    {
      "cell_type": "code",
      "execution_count": null,
      "metadata": {
        "id": "hzObAO7WKRJy"
      },
      "outputs": [],
      "source": [
        "# dataset_path = '/content/Brain-Stroke-CT-Image-Dataset_Median-Mean-Hybrid-Filter/dataset'\n",
        "# dataset_path = '/content/Brain-Stroke-CT-Image-Dataset/dataset'\n",
        "# dataset_path = '/content/Brain-Stroke-CT-Image-Dataset_CLAHE_Butterworth/dataset'\n",
        "# dataset_path = '/content/Brain-Stroke-CT-Image-Dataset_DWT/dataset'\n",
        "# dataset_path = '/content/Brain-Stroke-CT-Image-Dataset_CLAHE_medianF3x3/dataset'\n",
        "# dataset_path = '/content/Brain-Stroke-CT-Image-Dataset_Median-Mean-Hybrid-Filter/dataset'\n",
        "dataset_path = '/content/Brain-Stroke-CT-Image-Dataset_unsharpMasking_bilateralfilter/dataset'"
      ]
    },
    {
      "cell_type": "markdown",
      "metadata": {
        "id": "PsN4gm3JKRJy"
      },
      "source": [
        "#### Load dataset"
      ]
    },
    {
      "cell_type": "code",
      "execution_count": null,
      "metadata": {
        "id": "Ncj8SX3qKRJy"
      },
      "outputs": [],
      "source": [
        "# Convert strange format supported format with Tensorflow (JPEG, PNG, BMP, GIF)\n",
        "from PIL import Image\n",
        "import os\n",
        "\n",
        "# dataset_path = 'path_to_your_dataset'\n",
        "\n",
        "for foldername in os.listdir(dataset_path):\n",
        "    folder_path = os.path.join(dataset_path, foldername)\n",
        "    for filename in os.listdir(folder_path):\n",
        "        if filename.endswith(('.jfif', '.tiff', '.tif')):\n",
        "            print(f\"Reformatting {filename} to JPG format...\")\n",
        "            img = Image.open(os.path.join(folder_path, filename))\n",
        "            # Remove the extension from the filename\n",
        "            base_filename = os.path.splitext(filename)[0]\n",
        "            img.save(os.path.join(folder_path, base_filename + '.jpg'))\n",
        "            print(f\"Reformatted {filename} to JPG format.\")"
      ]
    },
    {
      "cell_type": "code",
      "execution_count": null,
      "metadata": {
        "colab": {
          "base_uri": "https://localhost:8080/"
        },
        "id": "48Djw35RKRJz",
        "outputId": "9860b954-c513-4ad7-8496-e18710aa10d7"
      },
      "outputs": [
        {
          "output_type": "stream",
          "name": "stdout",
          "text": [
            "Class names: ['Normal', 'Stroke']\n",
            "Found 2501 files belonging to 2 classes.\n",
            "Using 2001 files for training.\n",
            "Found 2501 files belonging to 2 classes.\n",
            "Using 500 files for validation.\n",
            "Class names: ['Normal', 'Stroke']\n",
            "Number of classes:  2\n"
          ]
        }
      ],
      "source": [
        "# Load image with image_dataset_from_directory\n",
        "import tensorflow as tf\n",
        "from tensorflow.keras.preprocessing import image_dataset_from_directory\n",
        "\n",
        "# Define the parameters: image size, colors\n",
        "image_size = (224,224)\n",
        "batch_size=32\n",
        "color_mode = 'rgb'\n",
        "label_mode = \"binary\"\n",
        "class_names = sorted(os.listdir(dataset_path))\n",
        "print(\"Class names:\", class_names)\n",
        "\n",
        "# Load the train dataset\n",
        "train_dataset = image_dataset_from_directory(\n",
        "    directory= dataset_path,\n",
        "    labels=\"inferred\",\n",
        "    label_mode=label_mode,\n",
        "    class_names=class_names,\n",
        "    color_mode=color_mode,\n",
        "    batch_size=batch_size,\n",
        "    image_size=image_size,\n",
        "    # shuffle=True,\n",
        "    seed=42,\n",
        "    validation_split=0.2,\n",
        "    subset=\"training\",\n",
        "    interpolation=\"bilinear\",\n",
        "    # follow_links=False,\n",
        "    # crop_to_aspect_ratio=False,\n",
        "    # data_format=None,\n",
        ")\n",
        "\n",
        "# Load the test dataset\n",
        "val_dataset = image_dataset_from_directory(\n",
        "    directory= dataset_path,\n",
        "    labels=\"inferred\",\n",
        "    label_mode=label_mode,\n",
        "    class_names=class_names,\n",
        "    color_mode=color_mode,\n",
        "    batch_size=batch_size,\n",
        "    image_size=image_size,\n",
        "    # shuffle=True,\n",
        "    seed=42,\n",
        "    validation_split=0.2,\n",
        "    subset=\"validation\",\n",
        "    interpolation=\"bilinear\",\n",
        "    # follow_links=False,\n",
        "    # crop_to_aspect_ratio=False,\n",
        "    # data_format=None,\n",
        ")\n",
        "\n",
        "# Get the class names\n",
        "# class_names = train_dataset.class_names\n",
        "num_classes = len(class_names)\n",
        "\n",
        "print(\"Class names:\", train_dataset.class_names)\n",
        "print(\"Number of classes: \", num_classes)"
      ]
    },
    {
      "cell_type": "markdown",
      "metadata": {
        "id": "jmPaF4ggKRJz"
      },
      "source": [
        "#### Copy the test_dataset into a independent folder"
      ]
    },
    {
      "cell_type": "code",
      "execution_count": null,
      "metadata": {
        "colab": {
          "base_uri": "https://localhost:8080/"
        },
        "id": "DHwIl2YrKRJz",
        "outputId": "672fa8c6-d264-4812-9d62-0ff0e8c799e5"
      },
      "outputs": [
        {
          "output_type": "stream",
          "name": "stdout",
          "text": [
            "new_directory:/content/drive/MyDrive/Colab Notebooks/Thesis/Analysis/test_dataset/09_08\n"
          ]
        }
      ],
      "source": [
        "import shutil\n",
        "import os\n",
        "\n",
        "# Define a new directory to store the images\n",
        "# new_directory = '/content/drive/MyDrive/Colab Notebooks/Thesis/Analysis/test_dataset' + '/' + os.path.basename(os.path.dirname(dataset_path))\n",
        "# new_directory = '/content/drive/MyDrive/Colab Notebooks/Thesis/Analysis/test_dataset_origin' + '/' + os.path.basename(os.path.dirname(dataset_path))\n",
        "# new_directory = '/content/drive/MyDrive/Colab Notebooks/Thesis/Analysis/test_dataset/09_00'\n",
        "# new_directory = '/content/drive/MyDrive/Colab Notebooks/Thesis/Analysis/test_dataset/09_02'\n",
        "# new_directory = '/content/drive/MyDrive/Colab Notebooks/Thesis/Analysis/test_dataset/09_03'\n",
        "# new_directory = '/content/drive/MyDrive/Colab Notebooks/Thesis/Analysis/test_dataset/09_04'\n",
        "# new_directory = '/content/drive/MyDrive/Colab Notebooks/Thesis/Analysis/test_dataset/09_07'\n",
        "new_directory = '/content/drive/MyDrive/Colab Notebooks/Thesis/Analysis/test_dataset/09_08'\n",
        "\n",
        "print('new_directory:' + new_directory)\n",
        "\n",
        "# Create the new directory if it doesn't exist\n",
        "if not os.path.exists(new_directory):\n",
        "    os.makedirs(new_directory)\n",
        "\n",
        "# Get the file paths from the original test_dataset\n",
        "file_paths = val_dataset.file_paths\n",
        "\n",
        "# Copy the images to the new directory\n",
        "for file_path in file_paths:\n",
        "    # Get the class name and image name from the file path\n",
        "    class_name = os.path.basename(os.path.dirname(file_path))\n",
        "    image_name = os.path.basename(file_path)\n",
        "\n",
        "    # Create a new directory for the class if it doesn't exist\n",
        "    class_directory = os.path.join(new_directory, class_name)\n",
        "    if not os.path.exists(class_directory):\n",
        "        os.makedirs(class_directory)\n",
        "\n",
        "    # Copy the image to the new directory\n",
        "    shutil.copy(file_path, os.path.join(class_directory, image_name))\n"
      ]
    },
    {
      "cell_type": "code",
      "execution_count": null,
      "metadata": {
        "colab": {
          "base_uri": "https://localhost:8080/"
        },
        "id": "zQGT-ljOKRJz",
        "outputId": "c2ba90fd-d177-4ca9-a0f5-d13c1a9c06da"
      },
      "outputs": [
        {
          "name": "stdout",
          "output_type": "stream",
          "text": [
            "Found 500 files belonging to 2 classes.\n",
            "Class names: ['Normal', 'Stroke']\n",
            "Number of classes:  2\n"
          ]
        }
      ],
      "source": [
        "# Load the dataset from new independent test_dataset folder\n",
        "test_dataset = image_dataset_from_directory(\n",
        "    directory= new_directory,\n",
        "    labels=\"inferred\",\n",
        "    label_mode=label_mode,\n",
        "    class_names=class_names,\n",
        "    color_mode=color_mode,\n",
        "    batch_size=batch_size,\n",
        "    image_size=image_size,\n",
        "    shuffle=False,\n",
        "    seed=42,\n",
        "    # validation_split=0.2,\n",
        "    # subset=\"validation\",\n",
        "    interpolation=\"bilinear\",\n",
        "    # follow_links=False,\n",
        "    # crop_to_aspect_ratio=False,\n",
        "    # data_format=None,\n",
        ")\n",
        "\n",
        "# Get the class names\n",
        "# class_names = train_dataset.class_names\n",
        "num_classes = len(class_names)\n",
        "\n",
        "print(\"Class names:\", test_dataset.class_names)\n",
        "print(\"Number of classes: \", num_classes)"
      ]
    },
    {
      "cell_type": "markdown",
      "metadata": {
        "id": "eKw2SNgyV_D7"
      },
      "source": [
        "## Prediction"
      ]
    },
    {
      "cell_type": "code",
      "execution_count": null,
      "metadata": {
        "id": "rFoRXn5YRxmt"
      },
      "outputs": [],
      "source": [
        "import os\n",
        "import pandas as pd\n",
        "import numpy as np\n",
        "import tensorflow as tf\n",
        "from tensorflow.keras.models import load_model\n",
        "from tensorflow.keras.preprocessing import image_dataset_from_directory"
      ]
    },
    {
      "cell_type": "code",
      "execution_count": null,
      "metadata": {
        "id": "rmYDZwTcUB2a"
      },
      "outputs": [],
      "source": [
        "datasets_info = [\n",
        "    {'name': 'COVID19_Pneumonia_Normal_Chest_Xray_PA_Dataset', 'dataset_path': '/content/drive/MyDrive/Colab Notebooks/Thesis/Analysis/test_dataset/COVID19_Pneumonia_Normal_Chest_Xray_PA_Median'},\n",
        "    {'name': 'Osteoporosis Knee X-ray Dataset', 'dataset_path':'/content/drive/MyDrive/Colab Notebooks/Thesis/Analysis/test_dataset/Osteoporosis-Knee-Xray_unsharpMasking'},\n",
        "    {'name': 'Chest CT-Scan images Dataset', 'dataset_path':'/content/drive/MyDrive/Colab Notebooks/Thesis/Analysis/test_dataset/Chest-CT-Scan-images_DWT'},\n",
        "    {'name': 'Brain Stroke CT Image Dataset', 'dataset_path':'/content/drive/MyDrive/Colab Notebooks/Thesis/Analysis/test_dataset/Brain-Stroke-CT-Image-Dataset_Median-Mean-Hybrid-Filter'},\n",
        "    {'name': 'Brain Tumor MRI Dataset', 'dataset_path':'/content/drive/MyDrive/Colab Notebooks/Thesis/Analysis/test_dataset/Brain-Tumor-MRI_Median-Mean-Hybrid_Filter'},\n",
        "    {'name': 'Breast Cancer Patients MRI', 'dataset_path':'/content/drive/MyDrive/Colab Notebooks/Thesis/Analysis/test_dataset/Breast-Cancer-Patients-MRI_unsharpMasking_bilateralfilter'},\n",
        "    {'name': 'Ultrasound Breast Images for Breast Cancer', 'dataset_path':'/content/drive/MyDrive/Colab Notebooks/Thesis/Analysis/test_dataset/Ultrasound-Breast-Images-for-Breast-Cancer_unsharpMasking_bilateralfilter'},\n",
        "    {'name': 'MT_Small_Dataset', 'dataset_path':'/content/drive/MyDrive/Colab Notebooks/Thesis/Analysis/test_dataset/MT-Small-Dataset_Unsharp-Masking_Bilateral_Filter'}\n",
        "    ]"
      ]
    },
    {
      "cell_type": "code",
      "execution_count": null,
      "metadata": {
        "colab": {
          "base_uri": "https://localhost:8080/"
        },
        "id": "1LPOGQtqPdQb",
        "outputId": "67945f87-c346-41c5-bd31-2497181421c6"
      },
      "outputs": [
        {
          "output_type": "stream",
          "name": "stdout",
          "text": [
            "[{'name': 'efficientnetb4', 'size': (380, 380), 'path': '/content/drive/MyDrive/Colab Notebooks/Thesis/Analysis/model/01_07_01_best_model_val_acc.h5'}, {'name': 'resnet50', 'size': (224, 224), 'path': '/content/drive/MyDrive/Colab Notebooks/Thesis/Analysis/model/01_07_02_best_model_val_acc.h5'}, {'name': 'densenet169', 'size': (224, 224), 'path': '/content/drive/MyDrive/Colab Notebooks/Thesis/Analysis/model/01_07_03_best_model_val_acc.h5'}, {'name': 'vgg16', 'size': (224, 224), 'path': '/content/drive/MyDrive/Colab Notebooks/Thesis/Analysis/model/01_07_04_best_model_val_acc.h5'}, {'name': 'mobilenetv2', 'size': (224, 224), 'path': '/content/drive/MyDrive/Colab Notebooks/Thesis/Analysis/model/01_07_05_best_model_val_acc.h5'}]\n"
          ]
        }
      ],
      "source": [
        "model_root = \"/content/drive/MyDrive/Colab Notebooks/Thesis/Analysis/model/\"\n",
        "\n",
        "models_data =  [\n",
        "    {'name': 'efficientnetb4', 'size': (380, 380),\\\n",
        "     'path': [{'COVID19_Pneumonia_Normal_Chest_Xray_PA_Dataset': model_root + '01_07_01_best_model_val_acc.h5'},\\\n",
        "              {'Osteoporosis Knee X-ray Dataset': model_root + '02_08_01_best_model_val_acc.h5'},\\\n",
        "              {'Chest CT-Scan images Dataset': model_root + '03_03_01_best_model_val_acc.h5'},\\\n",
        "              {'Brain Stroke CT Image Dataset': model_root + '09_07_01_best_model_val_acc.h5'},\\\n",
        "              {'Brain Tumor MRI Dataset': model_root + '04_07_01_best_model_val_acc.h5'},\\\n",
        "              {'Breast Cancer Patients MRI': model_root + '07_08_01_best_model_val_acc.h5'},\\\n",
        "              {'Ultrasound Breast Images for Breast Cancer': model_root + '05_08_01_best_model_val_acc.h5'},\\\n",
        "              {'MT_Small_Dataset': model_root + '08_08_01_best_model_val_acc.h5'}\n",
        "              ] },\n",
        "    {'name': 'resnet50', 'size': (224, 224),\\\n",
        "     'path': [{'COVID19_Pneumonia_Normal_Chest_Xray_PA_Dataset': model_root + '01_07_02_best_model_val_acc.h5'},\\\n",
        "              {'Osteoporosis Knee X-ray Dataset': model_root + '02_08_02_best_model_val_acc.h5'},\\\n",
        "              {'Chest CT-Scan images Dataset': model_root + '03_03_02_best_model_val_acc.h5'},\\\n",
        "              {'Brain Stroke CT Image Dataset': model_root + '09_07_02_best_model_val_acc.h5'},\\\n",
        "              {'Brain Tumor MRI Dataset': model_root + '04_07_02_best_model_val_acc.h5'},\\\n",
        "              {'Breast Cancer Patients MRI': model_root + '07_08_02_best_model_val_acc.h5'},\\\n",
        "              {'Ultrasound Breast Images for Breast Cancer': model_root + '05_08_02_best_model_val_acc.h5'},\\\n",
        "              {'MT_Small_Dataset': model_root + '08_08_02_best_model_val_acc.h5'}\n",
        "              ] },\n",
        "    {'name': 'densenet169', 'size': (224, 224),\\\n",
        "     'path': [{'COVID19_Pneumonia_Normal_Chest_Xray_PA_Dataset': model_root + '01_07_03_best_model_val_acc.h5'},\\\n",
        "              {'Osteoporosis Knee X-ray Dataset': model_root + '02_08_03_best_model_val_acc.h5'},\\\n",
        "              {'Chest CT-Scan images Dataset': model_root + '03_03_03_best_model_val_acc.h5'},\\\n",
        "              {'Brain Stroke CT Image Dataset': model_root + '09_07_03_best_model_val_acc.h5'},\\\n",
        "              {'Brain Tumor MRI Dataset': model_root + '04_07_03_best_model_val_acc.h5'},\\\n",
        "              {'Breast Cancer Patients MRI': model_root + '07_08_03_best_model_val_acc.h5'},\\\n",
        "              {'Ultrasound Breast Images for Breast Cancer': model_root + '05_08_03_best_model_val_acc.h5'},\\\n",
        "              {'MT_Small_Dataset': model_root + '08_08_03_best_model_val_acc.h5'}\n",
        "              ] },\n",
        "    {'name': 'vgg16', 'size': (224, 224),\\\n",
        "     'path': [{'COVID19_Pneumonia_Normal_Chest_Xray_PA_Dataset': model_root + '01_07_04_best_model_val_acc.h5'},\\\n",
        "              {'Osteoporosis Knee X-ray Dataset': model_root + '02_08_04_best_model_val_acc.h5'},\\\n",
        "              {'Chest CT-Scan images Dataset': model_root + '03_03_04_best_model_val_acc.h5'},\\\n",
        "              {'Brain Stroke CT Image Dataset': model_root + '09_07_04_best_model_val_acc.h5'},\\\n",
        "              {'Brain Tumor MRI Dataset': model_root + '04_07_04_best_model_val_acc.h5'},\\\n",
        "              {'Breast Cancer Patients MRI': model_root + '07_08_04_best_model_val_acc.h5'},\\\n",
        "              {'Ultrasound Breast Images for Breast Cancer': model_root + '05_08_04_best_model_val_acc.h5'},\\\n",
        "              {'MT_Small_Dataset': model_root + '08_08_04_best_model_val_acc.h5'}\n",
        "              ] },\n",
        "    {'name': 'mobilenetv2', 'size': (224, 224),\\\n",
        "     'path': [{'COVID19_Pneumonia_Normal_Chest_Xray_PA_Dataset': model_root + '01_07_05_best_model_val_acc.h5'},\\\n",
        "              {'Osteoporosis Knee X-ray Dataset': model_root + '02_08_05_best_model_val_acc.h5'},\\\n",
        "              {'Chest CT-Scan images Dataset': model_root + '03_03_05_best_model_val_acc.h5'},\\\n",
        "              {'Brain Stroke CT Image Dataset': model_root + '09_07_05_best_model_val_acc.h5'},\\\n",
        "              {'Brain Tumor MRI Dataset': model_root + '04_07_05_best_model_val_acc.h5'},\\\n",
        "              {'Breast Cancer Patients MRI': model_root + '07_08_05_best_model_val_acc.h5'},\\\n",
        "              {'Ultrasound Breast Images for Breast Cancer': model_root + '05_08_05_best_model_val_acc.h5'},\\\n",
        "              {'MT_Small_Dataset': model_root + '08_08_05_best_model_val_acc.h5'}\n",
        "              ] }\n",
        "              ]\n",
        "\n",
        "def get_model_info_by_dataset_key(models_info, dataset_key):\n",
        "    model_info_list = []\n",
        "    for model in models_info:\n",
        "        model_path = None\n",
        "        for path_dict in model['path']:\n",
        "            if dataset_key in path_dict:\n",
        "                model_path = path_dict[dataset_key]\n",
        "                break\n",
        "        if model_path is not None:\n",
        "            model_info_list.append({'name': model['name'], 'size': model['size'], 'path': model_path})\n",
        "    return model_info_list\n",
        "\n",
        "# Example usage:\n",
        "dataset_key = 'COVID19_Pneumonia_Normal_Chest_Xray_PA_Dataset'\n",
        "models_info = get_model_info_by_dataset_key(models_data, dataset_key)\n",
        "print(models_info)\n"
      ]
    },
    {
      "cell_type": "code",
      "source": [
        "class_names_list = {\n",
        "    'COVID19_Pneumonia_Normal_Chest_Xray_PA_Dataset': ['covid', 'normal', 'pneumonia'],\\\n",
        "    'Osteoporosis Knee X-ray Dataset': ['normal', 'osteoporosis'],\\\n",
        "    'Chest CT-Scan images Dataset': ['adenocarcinoma', 'large.cell.carcinoma', 'normal', 'squamous.cell.carcinoma'],\\\n",
        "    'Brain Stroke CT Image Dataset': ['Normal', 'Stroke'],\\\n",
        "    'Brain Tumor MRI Dataset': ['glioma', 'meningioma', 'notumor', 'pituitary'],\\\n",
        "    'Breast Cancer Patients MRI': ['Healthy', 'Sick'],\\\n",
        "    'Ultrasound Breast Images for Breast Cancer': ['benign', 'malignant'],\\\n",
        "    'MT_Small_Dataset': ['Benign', 'Malignant']\n",
        "}"
      ],
      "metadata": {
        "id": "n_-gTVb93UYv"
      },
      "execution_count": null,
      "outputs": []
    },
    {
      "cell_type": "code",
      "execution_count": null,
      "metadata": {
        "colab": {
          "base_uri": "https://localhost:8080/"
        },
        "id": "zoJLw1MvQCAZ",
        "outputId": "6fddbc8b-c092-48c6-820e-8a87d8a4a7e1"
      },
      "outputs": [
        {
          "output_type": "stream",
          "name": "stdout",
          "text": [
            "Class names: ['covid', 'normal', 'pneumonia']\n",
            "/content/drive/MyDrive/Colab Notebooks/Thesis/Analysis/test_dataset/COVID19_Pneumonia_Normal_Chest_Xray_PA_Median\n",
            "Found 1387 files belonging to 3 classes.\n",
            "Class names: ['covid', 'normal', 'pneumonia']\n",
            "Number of classes:  3\n",
            "1/1 [==============================] - 3s 3s/step\n",
            "1/1 [==============================] - 0s 153ms/step\n",
            "1/1 [==============================] - 0s 115ms/step\n",
            "1/1 [==============================] - 0s 114ms/step\n",
            "1/1 [==============================] - 0s 109ms/step\n",
            "1/1 [==============================] - 0s 154ms/step\n",
            "1/1 [==============================] - 0s 145ms/step\n",
            "1/1 [==============================] - 0s 139ms/step\n",
            "1/1 [==============================] - 0s 144ms/step\n",
            "1/1 [==============================] - 0s 122ms/step\n",
            "1/1 [==============================] - 0s 223ms/step\n",
            "1/1 [==============================] - 0s 265ms/step\n",
            "1/1 [==============================] - 0s 308ms/step\n",
            "1/1 [==============================] - 0s 254ms/step\n",
            "1/1 [==============================] - 0s 184ms/step\n",
            "1/1 [==============================] - 0s 253ms/step\n",
            "1/1 [==============================] - 0s 154ms/step\n",
            "1/1 [==============================] - 0s 171ms/step\n",
            "1/1 [==============================] - 0s 131ms/step\n",
            "1/1 [==============================] - 0s 171ms/step\n",
            "1/1 [==============================] - 0s 171ms/step\n",
            "1/1 [==============================] - 0s 126ms/step\n",
            "1/1 [==============================] - 0s 134ms/step\n",
            "1/1 [==============================] - 0s 129ms/step\n",
            "1/1 [==============================] - 0s 340ms/step\n",
            "1/1 [==============================] - 0s 318ms/step\n",
            "1/1 [==============================] - 0s 135ms/step\n",
            "1/1 [==============================] - 0s 314ms/step\n",
            "1/1 [==============================] - 0s 118ms/step\n",
            "1/1 [==============================] - 0s 264ms/step\n",
            "1/1 [==============================] - 0s 234ms/step\n",
            "1/1 [==============================] - 0s 280ms/step\n",
            "1/1 [==============================] - 0s 266ms/step\n",
            "1/1 [==============================] - 0s 230ms/step\n",
            "1/1 [==============================] - 0s 282ms/step\n",
            "1/1 [==============================] - 0s 141ms/step\n",
            "1/1 [==============================] - 0s 158ms/step\n",
            "1/1 [==============================] - 0s 164ms/step\n",
            "1/1 [==============================] - 0s 161ms/step\n",
            "1/1 [==============================] - 0s 142ms/step\n",
            "1/1 [==============================] - 0s 105ms/step\n",
            "1/1 [==============================] - 0s 83ms/step\n",
            "1/1 [==============================] - 0s 92ms/step\n",
            "1/1 [==============================] - 4s 4s/step\n",
            "Class names: ['covid', 'normal', 'pneumonia']\n",
            "/content/drive/MyDrive/Colab Notebooks/Thesis/Analysis/test_dataset/COVID19_Pneumonia_Normal_Chest_Xray_PA_Median\n",
            "Found 1387 files belonging to 3 classes.\n",
            "Class names: ['covid', 'normal', 'pneumonia']\n",
            "Number of classes:  3\n",
            "1/1 [==============================] - 1s 1s/step\n",
            "1/1 [==============================] - 0s 62ms/step\n",
            "1/1 [==============================] - 0s 58ms/step\n",
            "1/1 [==============================] - 0s 64ms/step\n",
            "1/1 [==============================] - 0s 81ms/step\n",
            "1/1 [==============================] - 0s 72ms/step\n",
            "1/1 [==============================] - 0s 76ms/step\n",
            "1/1 [==============================] - 0s 68ms/step\n",
            "1/1 [==============================] - 0s 72ms/step\n",
            "1/1 [==============================] - 0s 63ms/step\n",
            "1/1 [==============================] - 0s 74ms/step\n",
            "1/1 [==============================] - 0s 73ms/step\n",
            "1/1 [==============================] - 0s 64ms/step\n",
            "1/1 [==============================] - 0s 76ms/step\n",
            "1/1 [==============================] - 0s 61ms/step\n",
            "1/1 [==============================] - 0s 53ms/step\n",
            "1/1 [==============================] - 0s 99ms/step\n",
            "1/1 [==============================] - 0s 58ms/step\n",
            "1/1 [==============================] - 0s 69ms/step\n",
            "1/1 [==============================] - 0s 60ms/step\n",
            "1/1 [==============================] - 0s 104ms/step\n",
            "1/1 [==============================] - 0s 169ms/step\n",
            "1/1 [==============================] - 0s 189ms/step\n",
            "1/1 [==============================] - 0s 125ms/step\n",
            "1/1 [==============================] - 0s 141ms/step\n",
            "1/1 [==============================] - 0s 94ms/step\n",
            "1/1 [==============================] - 0s 87ms/step\n",
            "1/1 [==============================] - 0s 95ms/step\n",
            "1/1 [==============================] - 0s 171ms/step\n",
            "1/1 [==============================] - 0s 115ms/step\n",
            "1/1 [==============================] - 0s 75ms/step\n",
            "1/1 [==============================] - 0s 67ms/step\n",
            "1/1 [==============================] - 0s 55ms/step\n",
            "1/1 [==============================] - 0s 51ms/step\n",
            "1/1 [==============================] - 0s 60ms/step\n",
            "1/1 [==============================] - 0s 56ms/step\n",
            "1/1 [==============================] - 0s 79ms/step\n",
            "1/1 [==============================] - 0s 62ms/step\n",
            "1/1 [==============================] - 0s 63ms/step\n",
            "1/1 [==============================] - 0s 61ms/step\n",
            "1/1 [==============================] - 0s 72ms/step\n",
            "1/1 [==============================] - 0s 77ms/step\n",
            "1/1 [==============================] - 0s 34ms/step\n",
            "1/1 [==============================] - 1s 918ms/step\n",
            "Class names: ['covid', 'normal', 'pneumonia']\n",
            "/content/drive/MyDrive/Colab Notebooks/Thesis/Analysis/test_dataset/COVID19_Pneumonia_Normal_Chest_Xray_PA_Median\n",
            "Found 1387 files belonging to 3 classes.\n",
            "Class names: ['covid', 'normal', 'pneumonia']\n",
            "Number of classes:  3\n",
            "1/1 [==============================] - 5s 5s/step\n",
            "1/1 [==============================] - 0s 108ms/step\n",
            "1/1 [==============================] - 0s 93ms/step\n",
            "1/1 [==============================] - 0s 89ms/step\n",
            "1/1 [==============================] - 0s 81ms/step\n",
            "1/1 [==============================] - 0s 68ms/step\n",
            "1/1 [==============================] - 0s 104ms/step\n",
            "1/1 [==============================] - 0s 76ms/step\n",
            "1/1 [==============================] - 0s 108ms/step\n",
            "1/1 [==============================] - 0s 65ms/step\n",
            "1/1 [==============================] - 0s 130ms/step\n",
            "1/1 [==============================] - 0s 121ms/step\n",
            "1/1 [==============================] - 0s 111ms/step\n",
            "1/1 [==============================] - 0s 86ms/step\n",
            "1/1 [==============================] - 0s 84ms/step\n",
            "1/1 [==============================] - 0s 97ms/step\n",
            "1/1 [==============================] - 0s 121ms/step\n",
            "1/1 [==============================] - 0s 78ms/step\n",
            "1/1 [==============================] - 0s 76ms/step\n",
            "1/1 [==============================] - 0s 83ms/step\n",
            "1/1 [==============================] - 0s 66ms/step\n",
            "1/1 [==============================] - 0s 106ms/step\n",
            "1/1 [==============================] - 0s 70ms/step\n",
            "1/1 [==============================] - 0s 100ms/step\n",
            "1/1 [==============================] - 0s 67ms/step\n",
            "1/1 [==============================] - 0s 114ms/step\n",
            "1/1 [==============================] - 0s 116ms/step\n",
            "1/1 [==============================] - 0s 99ms/step\n",
            "1/1 [==============================] - 0s 110ms/step\n",
            "1/1 [==============================] - 0s 101ms/step\n",
            "1/1 [==============================] - 0s 76ms/step\n",
            "1/1 [==============================] - 0s 70ms/step\n",
            "1/1 [==============================] - 0s 114ms/step\n",
            "1/1 [==============================] - 0s 115ms/step\n",
            "1/1 [==============================] - 0s 130ms/step\n",
            "1/1 [==============================] - 0s 203ms/step\n",
            "1/1 [==============================] - 0s 178ms/step\n",
            "1/1 [==============================] - 0s 174ms/step\n",
            "1/1 [==============================] - 0s 122ms/step\n",
            "1/1 [==============================] - 0s 126ms/step\n",
            "1/1 [==============================] - 0s 162ms/step\n",
            "1/1 [==============================] - 0s 178ms/step\n",
            "1/1 [==============================] - 0s 59ms/step\n",
            "1/1 [==============================] - 2s 2s/step\n",
            "Class names: ['covid', 'normal', 'pneumonia']\n",
            "/content/drive/MyDrive/Colab Notebooks/Thesis/Analysis/test_dataset/COVID19_Pneumonia_Normal_Chest_Xray_PA_Median\n",
            "Found 1387 files belonging to 3 classes.\n",
            "Class names: ['covid', 'normal', 'pneumonia']\n",
            "Number of classes:  3\n",
            "1/1 [==============================] - 0s 238ms/step\n",
            "1/1 [==============================] - 0s 37ms/step\n",
            "1/1 [==============================] - 0s 39ms/step\n",
            "1/1 [==============================] - 0s 41ms/step\n",
            "1/1 [==============================] - 0s 39ms/step\n",
            "1/1 [==============================] - 0s 48ms/step\n",
            "1/1 [==============================] - 0s 54ms/step\n",
            "1/1 [==============================] - 0s 37ms/step\n",
            "1/1 [==============================] - 0s 61ms/step\n",
            "1/1 [==============================] - 0s 64ms/step\n",
            "1/1 [==============================] - 0s 70ms/step\n",
            "1/1 [==============================] - 0s 82ms/step\n",
            "1/1 [==============================] - 0s 40ms/step\n",
            "1/1 [==============================] - 0s 43ms/step\n",
            "1/1 [==============================] - 0s 55ms/step\n",
            "1/1 [==============================] - 0s 43ms/step\n",
            "1/1 [==============================] - 0s 65ms/step\n",
            "1/1 [==============================] - 0s 66ms/step\n",
            "1/1 [==============================] - 0s 45ms/step\n",
            "1/1 [==============================] - 0s 48ms/step\n",
            "1/1 [==============================] - 0s 66ms/step\n",
            "1/1 [==============================] - 0s 55ms/step\n",
            "1/1 [==============================] - 0s 51ms/step\n",
            "1/1 [==============================] - 0s 73ms/step\n",
            "1/1 [==============================] - 0s 128ms/step\n",
            "1/1 [==============================] - 0s 71ms/step\n",
            "1/1 [==============================] - 0s 72ms/step\n",
            "1/1 [==============================] - 0s 118ms/step\n",
            "1/1 [==============================] - 0s 77ms/step\n",
            "1/1 [==============================] - 0s 69ms/step\n",
            "1/1 [==============================] - 0s 110ms/step\n",
            "1/1 [==============================] - 0s 104ms/step\n",
            "1/1 [==============================] - 0s 55ms/step\n",
            "1/1 [==============================] - 0s 85ms/step\n",
            "1/1 [==============================] - 0s 61ms/step\n",
            "1/1 [==============================] - 0s 46ms/step\n",
            "1/1 [==============================] - 0s 38ms/step\n",
            "1/1 [==============================] - 0s 54ms/step\n",
            "1/1 [==============================] - 0s 49ms/step\n",
            "1/1 [==============================] - 0s 62ms/step\n",
            "1/1 [==============================] - 0s 51ms/step\n",
            "1/1 [==============================] - 0s 55ms/step\n",
            "1/1 [==============================] - 0s 28ms/step\n",
            "1/1 [==============================] - 0s 132ms/step\n",
            "Class names: ['covid', 'normal', 'pneumonia']\n",
            "/content/drive/MyDrive/Colab Notebooks/Thesis/Analysis/test_dataset/COVID19_Pneumonia_Normal_Chest_Xray_PA_Median\n",
            "Found 1387 files belonging to 3 classes.\n",
            "Class names: ['covid', 'normal', 'pneumonia']\n",
            "Number of classes:  3\n",
            "1/1 [==============================] - 1s 1s/step\n",
            "1/1 [==============================] - 0s 78ms/step\n",
            "1/1 [==============================] - 0s 59ms/step\n",
            "1/1 [==============================] - 0s 58ms/step\n",
            "1/1 [==============================] - 0s 56ms/step\n",
            "1/1 [==============================] - 0s 73ms/step\n",
            "1/1 [==============================] - 0s 56ms/step\n",
            "1/1 [==============================] - 0s 70ms/step\n",
            "1/1 [==============================] - 0s 60ms/step\n",
            "1/1 [==============================] - 0s 72ms/step\n",
            "1/1 [==============================] - 0s 41ms/step\n",
            "1/1 [==============================] - 0s 70ms/step\n",
            "1/1 [==============================] - 0s 57ms/step\n",
            "1/1 [==============================] - 0s 54ms/step\n",
            "1/1 [==============================] - 0s 71ms/step\n",
            "1/1 [==============================] - 0s 62ms/step\n",
            "1/1 [==============================] - 0s 40ms/step\n",
            "1/1 [==============================] - 0s 42ms/step\n",
            "1/1 [==============================] - 0s 39ms/step\n",
            "1/1 [==============================] - 0s 44ms/step\n",
            "1/1 [==============================] - 0s 54ms/step\n",
            "1/1 [==============================] - 0s 43ms/step\n",
            "1/1 [==============================] - 0s 66ms/step\n",
            "1/1 [==============================] - 0s 42ms/step\n",
            "1/1 [==============================] - 0s 56ms/step\n",
            "1/1 [==============================] - 0s 73ms/step\n",
            "1/1 [==============================] - 0s 64ms/step\n",
            "1/1 [==============================] - 0s 64ms/step\n",
            "1/1 [==============================] - 0s 47ms/step\n",
            "1/1 [==============================] - 0s 74ms/step\n",
            "1/1 [==============================] - 0s 72ms/step\n",
            "1/1 [==============================] - 0s 52ms/step\n",
            "1/1 [==============================] - 0s 45ms/step\n",
            "1/1 [==============================] - 0s 74ms/step\n",
            "1/1 [==============================] - 0s 65ms/step\n",
            "1/1 [==============================] - 0s 66ms/step\n",
            "1/1 [==============================] - 0s 42ms/step\n",
            "1/1 [==============================] - 0s 125ms/step\n",
            "1/1 [==============================] - 0s 126ms/step\n",
            "1/1 [==============================] - 0s 68ms/step\n",
            "1/1 [==============================] - 0s 100ms/step\n",
            "1/1 [==============================] - 0s 61ms/step\n",
            "1/1 [==============================] - 0s 39ms/step\n",
            "1/1 [==============================] - 1s 1s/step\n",
            "/content/drive/MyDrive/Colab Notebooks/Thesis/Analysis\n",
            "Class names: ['normal', 'osteoporosis']\n",
            "/content/drive/MyDrive/Colab Notebooks/Thesis/Analysis/test_dataset/Osteoporosis-Knee-Xray_unsharpMasking\n",
            "Found 74 files belonging to 2 classes.\n",
            "Class names: ['normal', 'osteoporosis']\n",
            "Number of classes:  2\n",
            "1/1 [==============================] - 4s 4s/step\n",
            "1/1 [==============================] - 0s 83ms/step\n",
            "1/1 [==============================] - 3s 3s/step\n",
            "Class names: ['normal', 'osteoporosis']\n",
            "/content/drive/MyDrive/Colab Notebooks/Thesis/Analysis/test_dataset/Osteoporosis-Knee-Xray_unsharpMasking\n",
            "Found 74 files belonging to 2 classes.\n",
            "Class names: ['normal', 'osteoporosis']\n",
            "Number of classes:  2\n",
            "1/1 [==============================] - 1s 1s/step\n",
            "1/1 [==============================] - 0s 46ms/step\n",
            "1/1 [==============================] - 1s 1s/step\n",
            "Class names: ['normal', 'osteoporosis']\n",
            "/content/drive/MyDrive/Colab Notebooks/Thesis/Analysis/test_dataset/Osteoporosis-Knee-Xray_unsharpMasking\n",
            "Found 74 files belonging to 2 classes.\n",
            "Class names: ['normal', 'osteoporosis']\n",
            "Number of classes:  2\n",
            "1/1 [==============================] - 2s 2s/step\n",
            "1/1 [==============================] - 0s 47ms/step\n",
            "1/1 [==============================] - 4s 4s/step\n",
            "Class names: ['normal', 'osteoporosis']\n",
            "/content/drive/MyDrive/Colab Notebooks/Thesis/Analysis/test_dataset/Osteoporosis-Knee-Xray_unsharpMasking\n",
            "Found 74 files belonging to 2 classes.\n",
            "Class names: ['normal', 'osteoporosis']\n",
            "Number of classes:  2\n",
            "1/1 [==============================] - 0s 471ms/step\n",
            "1/1 [==============================] - 0s 48ms/step\n",
            "1/1 [==============================] - 0s 208ms/step\n",
            "Class names: ['normal', 'osteoporosis']\n",
            "/content/drive/MyDrive/Colab Notebooks/Thesis/Analysis/test_dataset/Osteoporosis-Knee-Xray_unsharpMasking\n",
            "Found 74 files belonging to 2 classes.\n",
            "Class names: ['normal', 'osteoporosis']\n",
            "Number of classes:  2\n",
            "1/1 [==============================] - 1s 896ms/step\n",
            "1/1 [==============================] - 0s 33ms/step\n",
            "1/1 [==============================] - 1s 708ms/step\n",
            "/content/drive/MyDrive/Colab Notebooks/Thesis/Analysis\n",
            "Class names: ['adenocarcinoma', 'large.cell.carcinoma', 'normal', 'squamous.cell.carcinoma']\n",
            "/content/drive/MyDrive/Colab Notebooks/Thesis/Analysis/test_dataset/Chest-CT-Scan-images_DWT\n",
            "Found 315 files belonging to 4 classes.\n",
            "Class names: ['adenocarcinoma', 'large.cell.carcinoma', 'normal', 'squamous.cell.carcinoma']\n",
            "Number of classes:  4\n",
            "1/1 [==============================] - 4s 4s/step\n",
            "1/1 [==============================] - 0s 158ms/step\n",
            "1/1 [==============================] - 0s 149ms/step\n",
            "1/1 [==============================] - 0s 196ms/step\n",
            "1/1 [==============================] - 0s 120ms/step\n",
            "1/1 [==============================] - 0s 135ms/step\n",
            "1/1 [==============================] - 0s 127ms/step\n",
            "1/1 [==============================] - 0s 79ms/step\n",
            "1/1 [==============================] - 0s 79ms/step\n",
            "1/1 [==============================] - 3s 3s/step\n",
            "Class names: ['adenocarcinoma', 'large.cell.carcinoma', 'normal', 'squamous.cell.carcinoma']\n",
            "/content/drive/MyDrive/Colab Notebooks/Thesis/Analysis/test_dataset/Chest-CT-Scan-images_DWT\n",
            "Found 315 files belonging to 4 classes.\n",
            "Class names: ['adenocarcinoma', 'large.cell.carcinoma', 'normal', 'squamous.cell.carcinoma']\n",
            "Number of classes:  4\n",
            "1/1 [==============================] - 1s 1s/step\n",
            "1/1 [==============================] - 0s 45ms/step\n",
            "1/1 [==============================] - 0s 66ms/step\n",
            "1/1 [==============================] - 0s 57ms/step\n",
            "1/1 [==============================] - 0s 93ms/step\n",
            "1/1 [==============================] - 0s 58ms/step\n",
            "1/1 [==============================] - 0s 160ms/step\n",
            "1/1 [==============================] - 0s 149ms/step\n",
            "1/1 [==============================] - 0s 67ms/step\n",
            "1/1 [==============================] - 1s 1s/step\n",
            "Class names: ['adenocarcinoma', 'large.cell.carcinoma', 'normal', 'squamous.cell.carcinoma']\n",
            "/content/drive/MyDrive/Colab Notebooks/Thesis/Analysis/test_dataset/Chest-CT-Scan-images_DWT\n",
            "Found 315 files belonging to 4 classes.\n",
            "Class names: ['adenocarcinoma', 'large.cell.carcinoma', 'normal', 'squamous.cell.carcinoma']\n",
            "Number of classes:  4\n",
            "1/1 [==============================] - 3s 3s/step\n",
            "1/1 [==============================] - 0s 61ms/step\n",
            "1/1 [==============================] - 0s 76ms/step\n",
            "1/1 [==============================] - 0s 91ms/step\n",
            "1/1 [==============================] - 0s 91ms/step\n",
            "1/1 [==============================] - 0s 89ms/step\n",
            "1/1 [==============================] - 0s 182ms/step\n",
            "1/1 [==============================] - 0s 61ms/step\n",
            "1/1 [==============================] - 0s 56ms/step\n",
            "1/1 [==============================] - 3s 3s/step\n",
            "Class names: ['adenocarcinoma', 'large.cell.carcinoma', 'normal', 'squamous.cell.carcinoma']\n",
            "/content/drive/MyDrive/Colab Notebooks/Thesis/Analysis/test_dataset/Chest-CT-Scan-images_DWT\n",
            "Found 315 files belonging to 4 classes.\n",
            "Class names: ['adenocarcinoma', 'large.cell.carcinoma', 'normal', 'squamous.cell.carcinoma']\n",
            "Number of classes:  4\n",
            "1/1 [==============================] - 0s 299ms/step\n",
            "1/1 [==============================] - 0s 58ms/step\n",
            "1/1 [==============================] - 0s 40ms/step\n",
            "1/1 [==============================] - 0s 71ms/step\n",
            "1/1 [==============================] - 0s 39ms/step\n",
            "1/1 [==============================] - 0s 50ms/step\n",
            "1/1 [==============================] - 0s 51ms/step\n",
            "1/1 [==============================] - 0s 26ms/step\n",
            "1/1 [==============================] - 0s 27ms/step\n",
            "1/1 [==============================] - 0s 145ms/step\n",
            "Class names: ['adenocarcinoma', 'large.cell.carcinoma', 'normal', 'squamous.cell.carcinoma']\n",
            "/content/drive/MyDrive/Colab Notebooks/Thesis/Analysis/test_dataset/Chest-CT-Scan-images_DWT\n",
            "Found 315 files belonging to 4 classes.\n",
            "Class names: ['adenocarcinoma', 'large.cell.carcinoma', 'normal', 'squamous.cell.carcinoma']\n",
            "Number of classes:  4\n",
            "1/1 [==============================] - 1s 969ms/step\n",
            "1/1 [==============================] - 0s 70ms/step\n",
            "1/1 [==============================] - 0s 55ms/step\n",
            "1/1 [==============================] - 0s 81ms/step\n",
            "1/1 [==============================] - 0s 58ms/step\n",
            "1/1 [==============================] - 0s 50ms/step\n",
            "1/1 [==============================] - 0s 63ms/step\n",
            "1/1 [==============================] - 0s 56ms/step\n",
            "1/1 [==============================] - 0s 65ms/step\n",
            "1/1 [==============================] - 1s 681ms/step\n",
            "/content/drive/MyDrive/Colab Notebooks/Thesis/Analysis\n",
            "Class names: ['Normal', 'Stroke']\n",
            "/content/drive/MyDrive/Colab Notebooks/Thesis/Analysis/test_dataset/Brain-Stroke-CT-Image-Dataset_Median-Mean-Hybrid-Filter\n",
            "Found 500 files belonging to 2 classes.\n",
            "Class names: ['Normal', 'Stroke']\n",
            "Number of classes:  2\n",
            "1/1 [==============================] - 3s 3s/step\n",
            "1/1 [==============================] - 0s 121ms/step\n",
            "1/1 [==============================] - 0s 140ms/step\n",
            "1/1 [==============================] - 0s 202ms/step\n",
            "1/1 [==============================] - 0s 124ms/step\n",
            "1/1 [==============================] - 0s 135ms/step\n",
            "1/1 [==============================] - 0s 188ms/step\n",
            "1/1 [==============================] - 0s 146ms/step\n",
            "1/1 [==============================] - 0s 109ms/step\n",
            "1/1 [==============================] - 0s 119ms/step\n",
            "1/1 [==============================] - 0s 121ms/step\n",
            "1/1 [==============================] - 0s 104ms/step\n",
            "1/1 [==============================] - 0s 81ms/step\n",
            "1/1 [==============================] - 0s 80ms/step\n",
            "1/1 [==============================] - 0s 79ms/step\n",
            "1/1 [==============================] - 3s 3s/step\n",
            "Class names: ['Normal', 'Stroke']\n",
            "/content/drive/MyDrive/Colab Notebooks/Thesis/Analysis/test_dataset/Brain-Stroke-CT-Image-Dataset_Median-Mean-Hybrid-Filter\n",
            "Found 500 files belonging to 2 classes.\n",
            "Class names: ['Normal', 'Stroke']\n",
            "Number of classes:  2\n",
            "1/1 [==============================] - 1s 1s/step\n",
            "1/1 [==============================] - 0s 74ms/step\n",
            "1/1 [==============================] - 0s 58ms/step\n",
            "1/1 [==============================] - 0s 51ms/step\n",
            "1/1 [==============================] - 0s 56ms/step\n",
            "1/1 [==============================] - 0s 55ms/step\n",
            "1/1 [==============================] - 0s 53ms/step\n",
            "1/1 [==============================] - 0s 63ms/step\n",
            "1/1 [==============================] - 0s 58ms/step\n",
            "1/1 [==============================] - 0s 70ms/step\n",
            "1/1 [==============================] - 0s 60ms/step\n",
            "1/1 [==============================] - 0s 59ms/step\n",
            "1/1 [==============================] - 0s 44ms/step\n",
            "1/1 [==============================] - 0s 31ms/step\n",
            "1/1 [==============================] - 0s 30ms/step\n",
            "1/1 [==============================] - 1s 824ms/step\n",
            "Class names: ['Normal', 'Stroke']\n",
            "/content/drive/MyDrive/Colab Notebooks/Thesis/Analysis/test_dataset/Brain-Stroke-CT-Image-Dataset_Median-Mean-Hybrid-Filter\n",
            "Found 500 files belonging to 2 classes.\n",
            "Class names: ['Normal', 'Stroke']\n",
            "Number of classes:  2\n",
            "1/1 [==============================] - 3s 3s/step\n",
            "1/1 [==============================] - 0s 57ms/step\n",
            "1/1 [==============================] - 0s 83ms/step\n",
            "1/1 [==============================] - 0s 51ms/step\n",
            "1/1 [==============================] - 0s 65ms/step\n",
            "1/1 [==============================] - 0s 90ms/step\n",
            "1/1 [==============================] - 0s 86ms/step\n",
            "1/1 [==============================] - 0s 75ms/step\n",
            "1/1 [==============================] - 0s 75ms/step\n",
            "1/1 [==============================] - 0s 77ms/step\n",
            "1/1 [==============================] - 0s 44ms/step\n",
            "1/1 [==============================] - 0s 72ms/step\n",
            "1/1 [==============================] - 0s 60ms/step\n",
            "1/1 [==============================] - 0s 43ms/step\n",
            "1/1 [==============================] - 0s 44ms/step\n",
            "1/1 [==============================] - 3s 3s/step\n",
            "Class names: ['Normal', 'Stroke']\n",
            "/content/drive/MyDrive/Colab Notebooks/Thesis/Analysis/test_dataset/Brain-Stroke-CT-Image-Dataset_Median-Mean-Hybrid-Filter\n",
            "Found 500 files belonging to 2 classes.\n",
            "Class names: ['Normal', 'Stroke']\n",
            "Number of classes:  2\n",
            "1/1 [==============================] - 0s 469ms/step\n",
            "1/1 [==============================] - 0s 50ms/step\n",
            "1/1 [==============================] - 0s 59ms/step\n",
            "1/1 [==============================] - 0s 63ms/step\n",
            "1/1 [==============================] - 0s 53ms/step\n",
            "1/1 [==============================] - 0s 55ms/step\n",
            "1/1 [==============================] - 0s 45ms/step\n",
            "1/1 [==============================] - 0s 43ms/step\n",
            "1/1 [==============================] - 0s 48ms/step\n",
            "1/1 [==============================] - 0s 52ms/step\n",
            "1/1 [==============================] - 0s 41ms/step\n",
            "1/1 [==============================] - 0s 47ms/step\n",
            "1/1 [==============================] - 0s 41ms/step\n",
            "1/1 [==============================] - 0s 28ms/step\n",
            "1/1 [==============================] - 0s 29ms/step\n",
            "1/1 [==============================] - 0s 146ms/step\n",
            "Class names: ['Normal', 'Stroke']\n",
            "/content/drive/MyDrive/Colab Notebooks/Thesis/Analysis/test_dataset/Brain-Stroke-CT-Image-Dataset_Median-Mean-Hybrid-Filter\n",
            "Found 500 files belonging to 2 classes.\n",
            "Class names: ['Normal', 'Stroke']\n",
            "Number of classes:  2\n",
            "1/1 [==============================] - 1s 976ms/step\n",
            "1/1 [==============================] - 0s 47ms/step\n",
            "1/1 [==============================] - 0s 67ms/step\n",
            "1/1 [==============================] - 0s 49ms/step\n",
            "1/1 [==============================] - 0s 72ms/step\n",
            "1/1 [==============================] - 0s 47ms/step\n",
            "1/1 [==============================] - 0s 59ms/step\n",
            "1/1 [==============================] - 0s 58ms/step\n",
            "1/1 [==============================] - 0s 60ms/step\n",
            "1/1 [==============================] - 0s 52ms/step\n",
            "1/1 [==============================] - 0s 59ms/step\n",
            "1/1 [==============================] - 0s 44ms/step\n",
            "1/1 [==============================] - 0s 49ms/step\n",
            "1/1 [==============================] - 0s 30ms/step\n",
            "1/1 [==============================] - 0s 31ms/step\n",
            "1/1 [==============================] - 1s 711ms/step\n",
            "/content/drive/MyDrive/Colab Notebooks/Thesis/Analysis\n",
            "Class names: ['glioma', 'meningioma', 'notumor', 'pituitary']\n",
            "/content/drive/MyDrive/Colab Notebooks/Thesis/Analysis/test_dataset/Brain-Tumor-MRI_Median-Mean-Hybrid_Filter\n",
            "Found 1311 files belonging to 4 classes.\n",
            "Class names: ['glioma', 'meningioma', 'notumor', 'pituitary']\n",
            "Number of classes:  4\n",
            "1/1 [==============================] - 3s 3s/step\n",
            "1/1 [==============================] - 0s 139ms/step\n",
            "1/1 [==============================] - 0s 104ms/step\n",
            "1/1 [==============================] - 0s 211ms/step\n",
            "1/1 [==============================] - 0s 125ms/step\n",
            "1/1 [==============================] - 0s 134ms/step\n",
            "1/1 [==============================] - 0s 187ms/step\n",
            "1/1 [==============================] - 0s 119ms/step\n",
            "1/1 [==============================] - 0s 169ms/step\n",
            "1/1 [==============================] - 0s 113ms/step\n",
            "1/1 [==============================] - 0s 126ms/step\n",
            "1/1 [==============================] - 0s 117ms/step\n",
            "1/1 [==============================] - 0s 130ms/step\n",
            "1/1 [==============================] - 0s 121ms/step\n",
            "1/1 [==============================] - 0s 129ms/step\n",
            "1/1 [==============================] - 0s 95ms/step\n",
            "1/1 [==============================] - 0s 90ms/step\n",
            "1/1 [==============================] - 0s 115ms/step\n",
            "1/1 [==============================] - 0s 131ms/step\n",
            "1/1 [==============================] - 0s 116ms/step\n",
            "1/1 [==============================] - 0s 103ms/step\n",
            "1/1 [==============================] - 0s 105ms/step\n",
            "1/1 [==============================] - 0s 85ms/step\n",
            "1/1 [==============================] - 0s 90ms/step\n",
            "1/1 [==============================] - 0s 86ms/step\n",
            "1/1 [==============================] - 0s 203ms/step\n",
            "1/1 [==============================] - 0s 107ms/step\n",
            "1/1 [==============================] - 0s 171ms/step\n",
            "1/1 [==============================] - 0s 166ms/step\n",
            "1/1 [==============================] - 0s 223ms/step\n",
            "1/1 [==============================] - 0s 122ms/step\n",
            "1/1 [==============================] - 0s 110ms/step\n",
            "1/1 [==============================] - 0s 111ms/step\n",
            "1/1 [==============================] - 0s 133ms/step\n",
            "1/1 [==============================] - 0s 110ms/step\n",
            "1/1 [==============================] - 0s 141ms/step\n",
            "1/1 [==============================] - 0s 129ms/step\n",
            "1/1 [==============================] - 0s 120ms/step\n",
            "1/1 [==============================] - 0s 84ms/step\n",
            "1/1 [==============================] - 0s 82ms/step\n",
            "1/1 [==============================] - 5s 5s/step\n",
            "Class names: ['glioma', 'meningioma', 'notumor', 'pituitary']\n",
            "/content/drive/MyDrive/Colab Notebooks/Thesis/Analysis/test_dataset/Brain-Tumor-MRI_Median-Mean-Hybrid_Filter\n",
            "Found 1311 files belonging to 4 classes.\n",
            "Class names: ['glioma', 'meningioma', 'notumor', 'pituitary']\n",
            "Number of classes:  4\n",
            "1/1 [==============================] - 1s 1s/step\n",
            "1/1 [==============================] - 0s 74ms/step\n",
            "1/1 [==============================] - 0s 58ms/step\n",
            "1/1 [==============================] - 0s 61ms/step\n",
            "1/1 [==============================] - 0s 64ms/step\n",
            "1/1 [==============================] - 0s 70ms/step\n",
            "1/1 [==============================] - 0s 59ms/step\n",
            "1/1 [==============================] - 0s 57ms/step\n",
            "1/1 [==============================] - 0s 92ms/step\n",
            "1/1 [==============================] - 0s 56ms/step\n",
            "1/1 [==============================] - 0s 41ms/step\n",
            "1/1 [==============================] - 0s 65ms/step\n",
            "1/1 [==============================] - 0s 109ms/step\n",
            "1/1 [==============================] - 0s 259ms/step\n",
            "1/1 [==============================] - 0s 312ms/step\n",
            "1/1 [==============================] - 0s 176ms/step\n",
            "1/1 [==============================] - 0s 131ms/step\n",
            "1/1 [==============================] - 0s 57ms/step\n",
            "1/1 [==============================] - 0s 47ms/step\n",
            "1/1 [==============================] - 0s 61ms/step\n",
            "1/1 [==============================] - 0s 54ms/step\n",
            "1/1 [==============================] - 0s 58ms/step\n",
            "1/1 [==============================] - 0s 53ms/step\n",
            "1/1 [==============================] - 0s 44ms/step\n",
            "1/1 [==============================] - 0s 65ms/step\n",
            "1/1 [==============================] - 0s 54ms/step\n",
            "1/1 [==============================] - 0s 56ms/step\n",
            "1/1 [==============================] - 0s 54ms/step\n",
            "1/1 [==============================] - 0s 54ms/step\n",
            "1/1 [==============================] - 0s 70ms/step\n",
            "1/1 [==============================] - 0s 54ms/step\n",
            "1/1 [==============================] - 0s 56ms/step\n",
            "1/1 [==============================] - 0s 54ms/step\n",
            "1/1 [==============================] - 0s 69ms/step\n",
            "1/1 [==============================] - 0s 70ms/step\n",
            "1/1 [==============================] - 0s 69ms/step\n",
            "1/1 [==============================] - 0s 59ms/step\n",
            "1/1 [==============================] - 0s 51ms/step\n",
            "1/1 [==============================] - 0s 37ms/step\n",
            "1/1 [==============================] - 0s 33ms/step\n",
            "1/1 [==============================] - 2s 2s/step\n",
            "Class names: ['glioma', 'meningioma', 'notumor', 'pituitary']\n",
            "/content/drive/MyDrive/Colab Notebooks/Thesis/Analysis/test_dataset/Brain-Tumor-MRI_Median-Mean-Hybrid_Filter\n",
            "Found 1311 files belonging to 4 classes.\n",
            "Class names: ['glioma', 'meningioma', 'notumor', 'pituitary']\n",
            "Number of classes:  4\n",
            "1/1 [==============================] - 3s 3s/step\n",
            "1/1 [==============================] - 0s 80ms/step\n",
            "1/1 [==============================] - 0s 57ms/step\n",
            "1/1 [==============================] - 0s 73ms/step\n",
            "1/1 [==============================] - 0s 51ms/step\n",
            "1/1 [==============================] - 0s 53ms/step\n",
            "1/1 [==============================] - 0s 69ms/step\n",
            "1/1 [==============================] - 0s 42ms/step\n",
            "1/1 [==============================] - 0s 74ms/step\n",
            "1/1 [==============================] - 0s 55ms/step\n",
            "1/1 [==============================] - 0s 93ms/step\n",
            "1/1 [==============================] - 0s 60ms/step\n",
            "1/1 [==============================] - 0s 73ms/step\n",
            "1/1 [==============================] - 0s 63ms/step\n",
            "1/1 [==============================] - 0s 49ms/step\n",
            "1/1 [==============================] - 0s 82ms/step\n",
            "1/1 [==============================] - 0s 64ms/step\n",
            "1/1 [==============================] - 0s 98ms/step\n",
            "1/1 [==============================] - 0s 60ms/step\n",
            "1/1 [==============================] - 0s 113ms/step\n",
            "1/1 [==============================] - 0s 112ms/step\n",
            "1/1 [==============================] - 0s 108ms/step\n",
            "1/1 [==============================] - 0s 149ms/step\n",
            "1/1 [==============================] - 0s 59ms/step\n",
            "1/1 [==============================] - 0s 61ms/step\n",
            "1/1 [==============================] - 0s 98ms/step\n",
            "1/1 [==============================] - 0s 95ms/step\n",
            "1/1 [==============================] - 0s 69ms/step\n",
            "1/1 [==============================] - 0s 68ms/step\n",
            "1/1 [==============================] - 0s 123ms/step\n",
            "1/1 [==============================] - 0s 48ms/step\n",
            "1/1 [==============================] - 0s 68ms/step\n",
            "1/1 [==============================] - 0s 59ms/step\n",
            "1/1 [==============================] - 0s 54ms/step\n",
            "1/1 [==============================] - 0s 65ms/step\n",
            "1/1 [==============================] - 0s 60ms/step\n",
            "1/1 [==============================] - 0s 73ms/step\n",
            "1/1 [==============================] - 0s 51ms/step\n",
            "1/1 [==============================] - 0s 41ms/step\n",
            "1/1 [==============================] - 0s 47ms/step\n",
            "1/1 [==============================] - 6s 6s/step\n",
            "Class names: ['glioma', 'meningioma', 'notumor', 'pituitary']\n",
            "/content/drive/MyDrive/Colab Notebooks/Thesis/Analysis/test_dataset/Brain-Tumor-MRI_Median-Mean-Hybrid_Filter\n",
            "Found 1311 files belonging to 4 classes.\n",
            "Class names: ['glioma', 'meningioma', 'notumor', 'pituitary']\n",
            "Number of classes:  4\n",
            "1/1 [==============================] - 0s 227ms/step\n",
            "1/1 [==============================] - 0s 48ms/step\n",
            "1/1 [==============================] - 0s 41ms/step\n",
            "1/1 [==============================] - 0s 45ms/step\n",
            "1/1 [==============================] - 0s 53ms/step\n",
            "1/1 [==============================] - 0s 38ms/step\n",
            "1/1 [==============================] - 0s 39ms/step\n",
            "1/1 [==============================] - 0s 52ms/step\n",
            "1/1 [==============================] - 0s 43ms/step\n",
            "1/1 [==============================] - 0s 50ms/step\n",
            "1/1 [==============================] - 0s 47ms/step\n",
            "1/1 [==============================] - 0s 39ms/step\n",
            "1/1 [==============================] - 0s 38ms/step\n",
            "1/1 [==============================] - 0s 45ms/step\n",
            "1/1 [==============================] - 0s 38ms/step\n",
            "1/1 [==============================] - 0s 39ms/step\n",
            "1/1 [==============================] - 0s 68ms/step\n",
            "1/1 [==============================] - 0s 39ms/step\n",
            "1/1 [==============================] - 0s 27ms/step\n",
            "1/1 [==============================] - 0s 27ms/step\n",
            "1/1 [==============================] - 0s 58ms/step\n",
            "1/1 [==============================] - 0s 34ms/step\n",
            "1/1 [==============================] - 0s 68ms/step\n",
            "1/1 [==============================] - 0s 44ms/step\n",
            "1/1 [==============================] - 0s 47ms/step\n",
            "1/1 [==============================] - 0s 59ms/step\n",
            "1/1 [==============================] - 0s 30ms/step\n",
            "1/1 [==============================] - 0s 59ms/step\n",
            "1/1 [==============================] - 0s 38ms/step\n",
            "1/1 [==============================] - 0s 46ms/step\n",
            "1/1 [==============================] - 0s 47ms/step\n",
            "1/1 [==============================] - 0s 43ms/step\n",
            "1/1 [==============================] - 0s 45ms/step\n",
            "1/1 [==============================] - 0s 39ms/step\n",
            "1/1 [==============================] - 0s 59ms/step\n",
            "1/1 [==============================] - 0s 65ms/step\n",
            "1/1 [==============================] - 0s 35ms/step\n",
            "1/1 [==============================] - 0s 47ms/step\n",
            "1/1 [==============================] - 0s 27ms/step\n",
            "1/1 [==============================] - 0s 28ms/step\n",
            "1/1 [==============================] - 3s 3s/step\n",
            "Class names: ['glioma', 'meningioma', 'notumor', 'pituitary']\n",
            "/content/drive/MyDrive/Colab Notebooks/Thesis/Analysis/test_dataset/Brain-Tumor-MRI_Median-Mean-Hybrid_Filter\n",
            "Found 1311 files belonging to 4 classes.\n",
            "Class names: ['glioma', 'meningioma', 'notumor', 'pituitary']\n",
            "Number of classes:  4\n",
            "1/1 [==============================] - 1s 852ms/step\n",
            "1/1 [==============================] - 0s 46ms/step\n",
            "1/1 [==============================] - 0s 62ms/step\n",
            "1/1 [==============================] - 0s 48ms/step\n",
            "1/1 [==============================] - 0s 47ms/step\n",
            "1/1 [==============================] - 0s 47ms/step\n",
            "1/1 [==============================] - 0s 45ms/step\n",
            "1/1 [==============================] - 0s 49ms/step\n",
            "1/1 [==============================] - 0s 56ms/step\n",
            "1/1 [==============================] - 0s 51ms/step\n",
            "1/1 [==============================] - 0s 59ms/step\n",
            "1/1 [==============================] - 0s 43ms/step\n",
            "1/1 [==============================] - 0s 61ms/step\n",
            "1/1 [==============================] - 0s 50ms/step\n",
            "1/1 [==============================] - 0s 53ms/step\n",
            "1/1 [==============================] - 0s 65ms/step\n",
            "1/1 [==============================] - 0s 54ms/step\n",
            "1/1 [==============================] - 0s 54ms/step\n",
            "1/1 [==============================] - 0s 54ms/step\n",
            "1/1 [==============================] - 0s 32ms/step\n",
            "1/1 [==============================] - 0s 45ms/step\n",
            "1/1 [==============================] - 0s 57ms/step\n",
            "1/1 [==============================] - 0s 51ms/step\n",
            "1/1 [==============================] - 0s 51ms/step\n",
            "1/1 [==============================] - 0s 33ms/step\n",
            "1/1 [==============================] - 0s 53ms/step\n",
            "1/1 [==============================] - 0s 42ms/step\n",
            "1/1 [==============================] - 0s 57ms/step\n",
            "1/1 [==============================] - 0s 58ms/step\n",
            "1/1 [==============================] - 0s 71ms/step\n",
            "1/1 [==============================] - 0s 62ms/step\n",
            "1/1 [==============================] - 0s 49ms/step\n",
            "1/1 [==============================] - 0s 60ms/step\n",
            "1/1 [==============================] - 0s 53ms/step\n",
            "1/1 [==============================] - 0s 43ms/step\n",
            "1/1 [==============================] - 0s 67ms/step\n",
            "1/1 [==============================] - 0s 46ms/step\n",
            "1/1 [==============================] - 0s 55ms/step\n",
            "1/1 [==============================] - 0s 30ms/step\n",
            "1/1 [==============================] - 0s 39ms/step\n",
            "1/1 [==============================] - 2s 2s/step\n",
            "/content/drive/MyDrive/Colab Notebooks/Thesis/Analysis\n",
            "Class names: ['Healthy', 'Sick']\n",
            "/content/drive/MyDrive/Colab Notebooks/Thesis/Analysis/test_dataset/Breast-Cancer-Patients-MRI_unsharpMasking_bilateralfilter\n",
            "Found 80 files belonging to 2 classes.\n",
            "Class names: ['Healthy', 'Sick']\n",
            "Number of classes:  2\n",
            "1/1 [==============================] - 3s 3s/step\n",
            "1/1 [==============================] - 0s 83ms/step\n",
            "1/1 [==============================] - 6s 6s/step\n",
            "Class names: ['Healthy', 'Sick']\n",
            "/content/drive/MyDrive/Colab Notebooks/Thesis/Analysis/test_dataset/Breast-Cancer-Patients-MRI_unsharpMasking_bilateralfilter\n",
            "Found 80 files belonging to 2 classes.\n",
            "Class names: ['Healthy', 'Sick']\n",
            "Number of classes:  2\n",
            "1/1 [==============================] - 1s 999ms/step\n",
            "1/1 [==============================] - 0s 34ms/step\n",
            "1/1 [==============================] - 2s 2s/step\n",
            "Class names: ['Healthy', 'Sick']\n",
            "/content/drive/MyDrive/Colab Notebooks/Thesis/Analysis/test_dataset/Breast-Cancer-Patients-MRI_unsharpMasking_bilateralfilter\n",
            "Found 80 files belonging to 2 classes.\n",
            "Class names: ['Healthy', 'Sick']\n",
            "Number of classes:  2\n",
            "1/1 [==============================] - 2s 2s/step\n",
            "1/1 [==============================] - 0s 45ms/step\n",
            "1/1 [==============================] - 5s 5s/step\n",
            "Class names: ['Healthy', 'Sick']\n",
            "/content/drive/MyDrive/Colab Notebooks/Thesis/Analysis/test_dataset/Breast-Cancer-Patients-MRI_unsharpMasking_bilateralfilter\n",
            "Found 80 files belonging to 2 classes.\n",
            "Class names: ['Healthy', 'Sick']\n",
            "Number of classes:  2\n",
            "1/1 [==============================] - 0s 186ms/step\n",
            "1/1 [==============================] - 0s 29ms/step\n",
            "1/1 [==============================] - 2s 2s/step\n",
            "Class names: ['Healthy', 'Sick']\n",
            "/content/drive/MyDrive/Colab Notebooks/Thesis/Analysis/test_dataset/Breast-Cancer-Patients-MRI_unsharpMasking_bilateralfilter\n",
            "Found 80 files belonging to 2 classes.\n",
            "Class names: ['Healthy', 'Sick']\n",
            "Number of classes:  2\n",
            "1/1 [==============================] - 1s 724ms/step\n",
            "1/1 [==============================] - 0s 48ms/step\n",
            "1/1 [==============================] - 2s 2s/step\n",
            "/content/drive/MyDrive/Colab Notebooks/Thesis/Analysis\n",
            "Class names: ['benign', 'malignant']\n",
            "/content/drive/MyDrive/Colab Notebooks/Thesis/Analysis/test_dataset/Ultrasound-Breast-Images-for-Breast-Cancer_unsharpMasking_bilateralfilter\n",
            "Found 900 files belonging to 2 classes.\n",
            "Class names: ['benign', 'malignant']\n",
            "Number of classes:  2\n",
            "1/1 [==============================] - 3s 3s/step\n",
            "1/1 [==============================] - 0s 131ms/step\n",
            "1/1 [==============================] - 0s 136ms/step\n",
            "1/1 [==============================] - 0s 134ms/step\n",
            "1/1 [==============================] - 0s 126ms/step\n",
            "1/1 [==============================] - 0s 116ms/step\n",
            "1/1 [==============================] - 0s 141ms/step\n",
            "1/1 [==============================] - 0s 96ms/step\n",
            "1/1 [==============================] - 0s 222ms/step\n",
            "1/1 [==============================] - 0s 125ms/step\n",
            "1/1 [==============================] - 0s 176ms/step\n",
            "1/1 [==============================] - 0s 133ms/step\n",
            "1/1 [==============================] - 0s 133ms/step\n",
            "1/1 [==============================] - 0s 129ms/step\n",
            "1/1 [==============================] - 0s 117ms/step\n",
            "1/1 [==============================] - 0s 141ms/step\n",
            "1/1 [==============================] - 0s 139ms/step\n",
            "1/1 [==============================] - 0s 135ms/step\n",
            "1/1 [==============================] - 0s 95ms/step\n",
            "1/1 [==============================] - 0s 138ms/step\n",
            "1/1 [==============================] - 0s 124ms/step\n",
            "1/1 [==============================] - 0s 140ms/step\n",
            "1/1 [==============================] - 0s 124ms/step\n",
            "1/1 [==============================] - 0s 119ms/step\n",
            "1/1 [==============================] - 0s 131ms/step\n",
            "1/1 [==============================] - 0s 84ms/step\n",
            "1/1 [==============================] - 0s 83ms/step\n",
            "1/1 [==============================] - 0s 107ms/step\n",
            "1/1 [==============================] - 5s 5s/step\n",
            "Class names: ['benign', 'malignant']\n",
            "/content/drive/MyDrive/Colab Notebooks/Thesis/Analysis/test_dataset/Ultrasound-Breast-Images-for-Breast-Cancer_unsharpMasking_bilateralfilter\n",
            "Found 900 files belonging to 2 classes.\n",
            "Class names: ['benign', 'malignant']\n",
            "Number of classes:  2\n",
            "1/1 [==============================] - 1s 1s/step\n",
            "1/1 [==============================] - 0s 47ms/step\n",
            "1/1 [==============================] - 0s 53ms/step\n",
            "1/1 [==============================] - 0s 73ms/step\n",
            "1/1 [==============================] - 0s 172ms/step\n",
            "1/1 [==============================] - 0s 92ms/step\n",
            "1/1 [==============================] - 0s 77ms/step\n",
            "1/1 [==============================] - 0s 77ms/step\n",
            "1/1 [==============================] - 0s 52ms/step\n",
            "1/1 [==============================] - 0s 89ms/step\n",
            "1/1 [==============================] - 0s 64ms/step\n",
            "1/1 [==============================] - 0s 56ms/step\n",
            "1/1 [==============================] - 0s 70ms/step\n",
            "1/1 [==============================] - 0s 75ms/step\n",
            "1/1 [==============================] - 0s 66ms/step\n",
            "1/1 [==============================] - 0s 53ms/step\n",
            "1/1 [==============================] - 0s 44ms/step\n",
            "1/1 [==============================] - 0s 55ms/step\n",
            "1/1 [==============================] - 0s 58ms/step\n",
            "1/1 [==============================] - 0s 48ms/step\n",
            "1/1 [==============================] - 0s 53ms/step\n",
            "1/1 [==============================] - 0s 51ms/step\n",
            "1/1 [==============================] - 0s 70ms/step\n",
            "1/1 [==============================] - 0s 62ms/step\n",
            "1/1 [==============================] - 0s 70ms/step\n",
            "1/1 [==============================] - 0s 32ms/step\n",
            "1/1 [==============================] - 0s 35ms/step\n",
            "1/1 [==============================] - 0s 38ms/step\n",
            "1/1 [==============================] - 1s 1s/step\n",
            "Class names: ['benign', 'malignant']\n",
            "/content/drive/MyDrive/Colab Notebooks/Thesis/Analysis/test_dataset/Ultrasound-Breast-Images-for-Breast-Cancer_unsharpMasking_bilateralfilter\n",
            "Found 900 files belonging to 2 classes.\n",
            "Class names: ['benign', 'malignant']\n",
            "Number of classes:  2\n",
            "1/1 [==============================] - 3s 3s/step\n",
            "1/1 [==============================] - 0s 76ms/step\n",
            "1/1 [==============================] - 0s 63ms/step\n",
            "1/1 [==============================] - 0s 52ms/step\n",
            "1/1 [==============================] - 0s 57ms/step\n",
            "1/1 [==============================] - 0s 69ms/step\n",
            "1/1 [==============================] - 0s 48ms/step\n",
            "1/1 [==============================] - 0s 64ms/step\n",
            "1/1 [==============================] - 0s 42ms/step\n",
            "1/1 [==============================] - 0s 73ms/step\n",
            "1/1 [==============================] - 0s 94ms/step\n",
            "1/1 [==============================] - 0s 64ms/step\n",
            "1/1 [==============================] - 0s 41ms/step\n",
            "1/1 [==============================] - 0s 73ms/step\n",
            "1/1 [==============================] - 0s 80ms/step\n",
            "1/1 [==============================] - 0s 68ms/step\n",
            "1/1 [==============================] - 0s 78ms/step\n",
            "1/1 [==============================] - 0s 70ms/step\n",
            "1/1 [==============================] - 0s 63ms/step\n",
            "1/1 [==============================] - 0s 74ms/step\n",
            "1/1 [==============================] - 0s 62ms/step\n",
            "1/1 [==============================] - 0s 61ms/step\n",
            "1/1 [==============================] - 0s 62ms/step\n",
            "1/1 [==============================] - 0s 53ms/step\n",
            "1/1 [==============================] - 0s 51ms/step\n",
            "1/1 [==============================] - 0s 46ms/step\n",
            "1/1 [==============================] - 0s 51ms/step\n",
            "1/1 [==============================] - 0s 40ms/step\n",
            "1/1 [==============================] - 6s 6s/step\n",
            "Class names: ['benign', 'malignant']\n",
            "/content/drive/MyDrive/Colab Notebooks/Thesis/Analysis/test_dataset/Ultrasound-Breast-Images-for-Breast-Cancer_unsharpMasking_bilateralfilter\n",
            "Found 900 files belonging to 2 classes.\n",
            "Class names: ['benign', 'malignant']\n",
            "Number of classes:  2\n",
            "1/1 [==============================] - 0s 267ms/step\n",
            "1/1 [==============================] - 0s 40ms/step\n",
            "1/1 [==============================] - 0s 38ms/step\n",
            "1/1 [==============================] - 0s 72ms/step\n",
            "1/1 [==============================] - 0s 119ms/step\n",
            "1/1 [==============================] - 0s 57ms/step\n",
            "1/1 [==============================] - 0s 63ms/step\n",
            "1/1 [==============================] - 0s 60ms/step\n",
            "1/1 [==============================] - 0s 36ms/step\n",
            "1/1 [==============================] - 0s 107ms/step\n",
            "1/1 [==============================] - 0s 79ms/step\n",
            "1/1 [==============================] - 0s 69ms/step\n",
            "1/1 [==============================] - 0s 55ms/step\n",
            "1/1 [==============================] - 0s 41ms/step\n",
            "1/1 [==============================] - 0s 44ms/step\n",
            "1/1 [==============================] - 0s 59ms/step\n",
            "1/1 [==============================] - 0s 48ms/step\n",
            "1/1 [==============================] - 0s 49ms/step\n",
            "1/1 [==============================] - 0s 53ms/step\n",
            "1/1 [==============================] - 0s 50ms/step\n",
            "1/1 [==============================] - 0s 42ms/step\n",
            "1/1 [==============================] - 0s 45ms/step\n",
            "1/1 [==============================] - 0s 39ms/step\n",
            "1/1 [==============================] - 0s 51ms/step\n",
            "1/1 [==============================] - 0s 78ms/step\n",
            "1/1 [==============================] - 0s 26ms/step\n",
            "1/1 [==============================] - 0s 29ms/step\n",
            "1/1 [==============================] - 0s 26ms/step\n",
            "1/1 [==============================] - 1s 947ms/step\n",
            "Class names: ['benign', 'malignant']\n",
            "/content/drive/MyDrive/Colab Notebooks/Thesis/Analysis/test_dataset/Ultrasound-Breast-Images-for-Breast-Cancer_unsharpMasking_bilateralfilter\n",
            "Found 900 files belonging to 2 classes.\n",
            "Class names: ['benign', 'malignant']\n",
            "Number of classes:  2\n",
            "1/1 [==============================] - 1s 863ms/step\n",
            "1/1 [==============================] - 0s 46ms/step\n",
            "1/1 [==============================] - 0s 54ms/step\n",
            "1/1 [==============================] - 0s 67ms/step\n",
            "1/1 [==============================] - 0s 62ms/step\n",
            "1/1 [==============================] - 0s 45ms/step\n",
            "1/1 [==============================] - 0s 60ms/step\n",
            "1/1 [==============================] - 0s 54ms/step\n",
            "1/1 [==============================] - 0s 46ms/step\n",
            "1/1 [==============================] - 0s 62ms/step\n",
            "1/1 [==============================] - 0s 67ms/step\n",
            "1/1 [==============================] - 0s 66ms/step\n",
            "1/1 [==============================] - 0s 85ms/step\n",
            "1/1 [==============================] - 0s 45ms/step\n",
            "1/1 [==============================] - 0s 148ms/step\n",
            "1/1 [==============================] - 0s 141ms/step\n",
            "1/1 [==============================] - 0s 38ms/step\n",
            "1/1 [==============================] - 0s 42ms/step\n",
            "1/1 [==============================] - 0s 86ms/step\n",
            "1/1 [==============================] - 0s 108ms/step\n",
            "1/1 [==============================] - 0s 74ms/step\n",
            "1/1 [==============================] - 0s 45ms/step\n",
            "1/1 [==============================] - 0s 81ms/step\n",
            "1/1 [==============================] - 0s 52ms/step\n",
            "1/1 [==============================] - 0s 72ms/step\n",
            "1/1 [==============================] - 0s 31ms/step\n",
            "1/1 [==============================] - 0s 30ms/step\n",
            "1/1 [==============================] - 0s 30ms/step\n",
            "1/1 [==============================] - 1s 1s/step\n",
            "/content/drive/MyDrive/Colab Notebooks/Thesis/Analysis\n",
            "Class names: ['Benign', 'Malignant']\n",
            "/content/drive/MyDrive/Colab Notebooks/Thesis/Analysis/test_dataset/MT-Small-Dataset_Unsharp-Masking_Bilateral_Filter\n",
            "Found 80 files belonging to 2 classes.\n",
            "Class names: ['Benign', 'Malignant']\n",
            "Number of classes:  2\n",
            "1/1 [==============================] - 4s 4s/step\n",
            "1/1 [==============================] - 0s 90ms/step\n",
            "1/1 [==============================] - 4s 4s/step\n",
            "Class names: ['Benign', 'Malignant']\n",
            "/content/drive/MyDrive/Colab Notebooks/Thesis/Analysis/test_dataset/MT-Small-Dataset_Unsharp-Masking_Bilateral_Filter\n",
            "Found 80 files belonging to 2 classes.\n",
            "Class names: ['Benign', 'Malignant']\n",
            "Number of classes:  2\n",
            "1/1 [==============================] - 1s 967ms/step\n",
            "1/1 [==============================] - 0s 32ms/step\n",
            "1/1 [==============================] - 1s 877ms/step\n",
            "Class names: ['Benign', 'Malignant']\n",
            "/content/drive/MyDrive/Colab Notebooks/Thesis/Analysis/test_dataset/MT-Small-Dataset_Unsharp-Masking_Bilateral_Filter\n",
            "Found 80 files belonging to 2 classes.\n",
            "Class names: ['Benign', 'Malignant']\n",
            "Number of classes:  2\n",
            "1/1 [==============================] - 2s 2s/step\n",
            "1/1 [==============================] - 0s 43ms/step\n",
            "1/1 [==============================] - 2s 2s/step\n",
            "Class names: ['Benign', 'Malignant']\n",
            "/content/drive/MyDrive/Colab Notebooks/Thesis/Analysis/test_dataset/MT-Small-Dataset_Unsharp-Masking_Bilateral_Filter\n",
            "Found 80 files belonging to 2 classes.\n",
            "Class names: ['Benign', 'Malignant']\n",
            "Number of classes:  2\n",
            "1/1 [==============================] - 0s 227ms/step\n",
            "1/1 [==============================] - 0s 29ms/step\n",
            "1/1 [==============================] - 0s 129ms/step\n",
            "Class names: ['Benign', 'Malignant']\n",
            "/content/drive/MyDrive/Colab Notebooks/Thesis/Analysis/test_dataset/MT-Small-Dataset_Unsharp-Masking_Bilateral_Filter\n",
            "Found 80 files belonging to 2 classes.\n",
            "Class names: ['Benign', 'Malignant']\n",
            "Number of classes:  2\n",
            "1/1 [==============================] - 1s 740ms/step\n",
            "1/1 [==============================] - 0s 43ms/step\n",
            "1/1 [==============================] - 1s 711ms/step\n",
            "/content/drive/MyDrive/Colab Notebooks/Thesis/Analysis\n"
          ]
        }
      ],
      "source": [
        "import tf_keras\n",
        "\n",
        "for dataset_info in datasets_info:\n",
        "    # Initialize and reset a result DataFrame at each loop\n",
        "    df_results = pd.DataFrame()\n",
        "    models_info = get_model_info_by_dataset_key(models_data, dataset_info['name'])\n",
        "    for model_info in models_info:\n",
        "        # Define the parameters: image size, colors\n",
        "        # image_size = (224,224)\n",
        "        batch_size=32\n",
        "        color_mode = 'rgb'\n",
        "        # class_names = sorted(os.listdir(dataset_info['dataset_path']))\n",
        "        class_names = class_names_list[dataset_info['name']]\n",
        "        print(\"Class names:\", class_names)\n",
        "        label_mode = \"categorical\" if len(class_names) > 2 else \"binary\"\n",
        "\n",
        "        # Load dataset_path:\n",
        "        dataset_path = dataset_info['dataset_path']\n",
        "        print(dataset_path)\n",
        "        # Load the dataset from new independent test_dataset folder\n",
        "        test_dataset = image_dataset_from_directory(\n",
        "            directory= dataset_path,\n",
        "            labels=\"inferred\",\n",
        "            label_mode=label_mode,\n",
        "            class_names=class_names,\n",
        "            color_mode=color_mode,\n",
        "            batch_size=batch_size,\n",
        "            image_size=model_info['size'],\n",
        "            shuffle=False,\n",
        "            # seed=42,\n",
        "            # validation_split=0.2,\n",
        "            # subset=\"validation\",\n",
        "            interpolation=\"bilinear\",\n",
        "            # follow_links=False,\n",
        "            # crop_to_aspect_ratio=False,\n",
        "            # data_format=None,\n",
        "        )\n",
        "\n",
        "        num_classes = len(class_names)\n",
        "        print(\"Class names:\", test_dataset.class_names)\n",
        "        print(\"Number of classes: \", num_classes)\n",
        "\n",
        "        filepath = test_dataset.file_paths\n",
        "        df_results['filepath'] = filepath\n",
        "\n",
        "        # only take actual label for the 1st model (efficientnetb4) loop\n",
        "        if model_info['name'] == 'efficientnetb4':\n",
        "            actual = []\n",
        "            if num_classes == 2:\n",
        "                for img, label in test_dataset:\n",
        "                    actual += np.array(label).flatten().tolist()\n",
        "            else:\n",
        "                for img, label in test_dataset:\n",
        "                    actual += np.array(np.argmax(label, axis=-1)).flatten().tolist()\n",
        "            df_results['actual'] = actual\n",
        "\n",
        "        # Load the model\n",
        "        # model = load_model(model_info['path']) # keras 3\n",
        "        model = tf_keras.models.load_model(model_info['path']) # keras 2\n",
        "\n",
        "        # Make prediction\n",
        "        pred = []\n",
        "        for img, label in test_dataset:\n",
        "            prediction = model.predict(img)\n",
        "            if num_classes == 2:\n",
        "                pred += [1 if i > 0.5 else 0 for i in prediction]\n",
        "            else:\n",
        "                pred += np.argmax(prediction, axis=-1).tolist()\n",
        "        df_results[model_info['name']] = pred\n",
        "\n",
        "\n",
        "    %cd '/content/drive/MyDrive/Colab Notebooks/Thesis/Analysis'\n",
        "    df_results.to_csv('25.01.15/' + dataset_info['name'] +'_prediction.csv', index = False)"
      ]
    },
    {
      "cell_type": "markdown",
      "metadata": {
        "id": "p5CzMckBjXWF"
      },
      "source": [
        "## Correct prediction - best model"
      ]
    },
    {
      "cell_type": "code",
      "execution_count": null,
      "metadata": {
        "id": "MNWWGa4zsRzi"
      },
      "outputs": [],
      "source": [
        "import glob"
      ]
    },
    {
      "cell_type": "code",
      "execution_count": null,
      "metadata": {
        "id": "e37iPKArjppQ"
      },
      "outputs": [],
      "source": [
        "best_prediction_csv = '/content/drive/MyDrive/Colab Notebooks/Thesis/Analysis/25.01.15/best model prediction.csv'"
      ]
    },
    {
      "cell_type": "code",
      "execution_count": null,
      "metadata": {
        "colab": {
          "base_uri": "https://localhost:8080/",
          "height": 370
        },
        "id": "zLiAr5nhj8un",
        "outputId": "c350a071-f086-4787-8778-56ab5a98fbae"
      },
      "outputs": [
        {
          "output_type": "error",
          "ename": "FileNotFoundError",
          "evalue": "[Errno 2] No such file or directory: '/content/drive/MyDrive/Colab Notebooks/Thesis/Analysis/25.01.15/best model prediction.csv'",
          "traceback": [
            "\u001b[0;31m---------------------------------------------------------------------------\u001b[0m",
            "\u001b[0;31mFileNotFoundError\u001b[0m                         Traceback (most recent call last)",
            "\u001b[0;32m<ipython-input-14-08c8ea0a4982>\u001b[0m in \u001b[0;36m<cell line: 2>\u001b[0;34m()\u001b[0m\n\u001b[1;32m      1\u001b[0m \u001b[0;32mimport\u001b[0m \u001b[0mpandas\u001b[0m \u001b[0;32mas\u001b[0m \u001b[0mpd\u001b[0m\u001b[0;34m\u001b[0m\u001b[0;34m\u001b[0m\u001b[0m\n\u001b[0;32m----> 2\u001b[0;31m \u001b[0mbest_prediction\u001b[0m \u001b[0;34m=\u001b[0m \u001b[0mpd\u001b[0m\u001b[0;34m.\u001b[0m\u001b[0mread_csv\u001b[0m\u001b[0;34m(\u001b[0m\u001b[0mfilepath_or_buffer\u001b[0m\u001b[0;34m=\u001b[0m\u001b[0mbest_prediction_csv\u001b[0m\u001b[0;34m,\u001b[0m \u001b[0mheader\u001b[0m\u001b[0;34m=\u001b[0m\u001b[0;36m0\u001b[0m\u001b[0;34m)\u001b[0m\u001b[0;34m\u001b[0m\u001b[0;34m\u001b[0m\u001b[0m\n\u001b[0m\u001b[1;32m      3\u001b[0m \u001b[0mdisplay\u001b[0m\u001b[0;34m(\u001b[0m\u001b[0mbest_prediction\u001b[0m\u001b[0;34m.\u001b[0m\u001b[0mhead\u001b[0m\u001b[0;34m(\u001b[0m\u001b[0;34m)\u001b[0m\u001b[0;34m)\u001b[0m\u001b[0;34m\u001b[0m\u001b[0;34m\u001b[0m\u001b[0m\n",
            "\u001b[0;32m/usr/local/lib/python3.10/dist-packages/pandas/io/parsers/readers.py\u001b[0m in \u001b[0;36mread_csv\u001b[0;34m(filepath_or_buffer, sep, delimiter, header, names, index_col, usecols, dtype, engine, converters, true_values, false_values, skipinitialspace, skiprows, skipfooter, nrows, na_values, keep_default_na, na_filter, verbose, skip_blank_lines, parse_dates, infer_datetime_format, keep_date_col, date_parser, date_format, dayfirst, cache_dates, iterator, chunksize, compression, thousands, decimal, lineterminator, quotechar, quoting, doublequote, escapechar, comment, encoding, encoding_errors, dialect, on_bad_lines, delim_whitespace, low_memory, memory_map, float_precision, storage_options, dtype_backend)\u001b[0m\n\u001b[1;32m   1024\u001b[0m     \u001b[0mkwds\u001b[0m\u001b[0;34m.\u001b[0m\u001b[0mupdate\u001b[0m\u001b[0;34m(\u001b[0m\u001b[0mkwds_defaults\u001b[0m\u001b[0;34m)\u001b[0m\u001b[0;34m\u001b[0m\u001b[0;34m\u001b[0m\u001b[0m\n\u001b[1;32m   1025\u001b[0m \u001b[0;34m\u001b[0m\u001b[0m\n\u001b[0;32m-> 1026\u001b[0;31m     \u001b[0;32mreturn\u001b[0m \u001b[0m_read\u001b[0m\u001b[0;34m(\u001b[0m\u001b[0mfilepath_or_buffer\u001b[0m\u001b[0;34m,\u001b[0m \u001b[0mkwds\u001b[0m\u001b[0;34m)\u001b[0m\u001b[0;34m\u001b[0m\u001b[0;34m\u001b[0m\u001b[0m\n\u001b[0m\u001b[1;32m   1027\u001b[0m \u001b[0;34m\u001b[0m\u001b[0m\n\u001b[1;32m   1028\u001b[0m \u001b[0;34m\u001b[0m\u001b[0m\n",
            "\u001b[0;32m/usr/local/lib/python3.10/dist-packages/pandas/io/parsers/readers.py\u001b[0m in \u001b[0;36m_read\u001b[0;34m(filepath_or_buffer, kwds)\u001b[0m\n\u001b[1;32m    618\u001b[0m \u001b[0;34m\u001b[0m\u001b[0m\n\u001b[1;32m    619\u001b[0m     \u001b[0;31m# Create the parser.\u001b[0m\u001b[0;34m\u001b[0m\u001b[0;34m\u001b[0m\u001b[0m\n\u001b[0;32m--> 620\u001b[0;31m     \u001b[0mparser\u001b[0m \u001b[0;34m=\u001b[0m \u001b[0mTextFileReader\u001b[0m\u001b[0;34m(\u001b[0m\u001b[0mfilepath_or_buffer\u001b[0m\u001b[0;34m,\u001b[0m \u001b[0;34m**\u001b[0m\u001b[0mkwds\u001b[0m\u001b[0;34m)\u001b[0m\u001b[0;34m\u001b[0m\u001b[0;34m\u001b[0m\u001b[0m\n\u001b[0m\u001b[1;32m    621\u001b[0m \u001b[0;34m\u001b[0m\u001b[0m\n\u001b[1;32m    622\u001b[0m     \u001b[0;32mif\u001b[0m \u001b[0mchunksize\u001b[0m \u001b[0;32mor\u001b[0m \u001b[0miterator\u001b[0m\u001b[0;34m:\u001b[0m\u001b[0;34m\u001b[0m\u001b[0;34m\u001b[0m\u001b[0m\n",
            "\u001b[0;32m/usr/local/lib/python3.10/dist-packages/pandas/io/parsers/readers.py\u001b[0m in \u001b[0;36m__init__\u001b[0;34m(self, f, engine, **kwds)\u001b[0m\n\u001b[1;32m   1618\u001b[0m \u001b[0;34m\u001b[0m\u001b[0m\n\u001b[1;32m   1619\u001b[0m         \u001b[0mself\u001b[0m\u001b[0;34m.\u001b[0m\u001b[0mhandles\u001b[0m\u001b[0;34m:\u001b[0m \u001b[0mIOHandles\u001b[0m \u001b[0;34m|\u001b[0m \u001b[0;32mNone\u001b[0m \u001b[0;34m=\u001b[0m \u001b[0;32mNone\u001b[0m\u001b[0;34m\u001b[0m\u001b[0;34m\u001b[0m\u001b[0m\n\u001b[0;32m-> 1620\u001b[0;31m         \u001b[0mself\u001b[0m\u001b[0;34m.\u001b[0m\u001b[0m_engine\u001b[0m \u001b[0;34m=\u001b[0m \u001b[0mself\u001b[0m\u001b[0;34m.\u001b[0m\u001b[0m_make_engine\u001b[0m\u001b[0;34m(\u001b[0m\u001b[0mf\u001b[0m\u001b[0;34m,\u001b[0m \u001b[0mself\u001b[0m\u001b[0;34m.\u001b[0m\u001b[0mengine\u001b[0m\u001b[0;34m)\u001b[0m\u001b[0;34m\u001b[0m\u001b[0;34m\u001b[0m\u001b[0m\n\u001b[0m\u001b[1;32m   1621\u001b[0m \u001b[0;34m\u001b[0m\u001b[0m\n\u001b[1;32m   1622\u001b[0m     \u001b[0;32mdef\u001b[0m \u001b[0mclose\u001b[0m\u001b[0;34m(\u001b[0m\u001b[0mself\u001b[0m\u001b[0;34m)\u001b[0m \u001b[0;34m->\u001b[0m \u001b[0;32mNone\u001b[0m\u001b[0;34m:\u001b[0m\u001b[0;34m\u001b[0m\u001b[0;34m\u001b[0m\u001b[0m\n",
            "\u001b[0;32m/usr/local/lib/python3.10/dist-packages/pandas/io/parsers/readers.py\u001b[0m in \u001b[0;36m_make_engine\u001b[0;34m(self, f, engine)\u001b[0m\n\u001b[1;32m   1878\u001b[0m                 \u001b[0;32mif\u001b[0m \u001b[0;34m\"b\"\u001b[0m \u001b[0;32mnot\u001b[0m \u001b[0;32min\u001b[0m \u001b[0mmode\u001b[0m\u001b[0;34m:\u001b[0m\u001b[0;34m\u001b[0m\u001b[0;34m\u001b[0m\u001b[0m\n\u001b[1;32m   1879\u001b[0m                     \u001b[0mmode\u001b[0m \u001b[0;34m+=\u001b[0m \u001b[0;34m\"b\"\u001b[0m\u001b[0;34m\u001b[0m\u001b[0;34m\u001b[0m\u001b[0m\n\u001b[0;32m-> 1880\u001b[0;31m             self.handles = get_handle(\n\u001b[0m\u001b[1;32m   1881\u001b[0m                 \u001b[0mf\u001b[0m\u001b[0;34m,\u001b[0m\u001b[0;34m\u001b[0m\u001b[0;34m\u001b[0m\u001b[0m\n\u001b[1;32m   1882\u001b[0m                 \u001b[0mmode\u001b[0m\u001b[0;34m,\u001b[0m\u001b[0;34m\u001b[0m\u001b[0;34m\u001b[0m\u001b[0m\n",
            "\u001b[0;32m/usr/local/lib/python3.10/dist-packages/pandas/io/common.py\u001b[0m in \u001b[0;36mget_handle\u001b[0;34m(path_or_buf, mode, encoding, compression, memory_map, is_text, errors, storage_options)\u001b[0m\n\u001b[1;32m    871\u001b[0m         \u001b[0;32mif\u001b[0m \u001b[0mioargs\u001b[0m\u001b[0;34m.\u001b[0m\u001b[0mencoding\u001b[0m \u001b[0;32mand\u001b[0m \u001b[0;34m\"b\"\u001b[0m \u001b[0;32mnot\u001b[0m \u001b[0;32min\u001b[0m \u001b[0mioargs\u001b[0m\u001b[0;34m.\u001b[0m\u001b[0mmode\u001b[0m\u001b[0;34m:\u001b[0m\u001b[0;34m\u001b[0m\u001b[0;34m\u001b[0m\u001b[0m\n\u001b[1;32m    872\u001b[0m             \u001b[0;31m# Encoding\u001b[0m\u001b[0;34m\u001b[0m\u001b[0;34m\u001b[0m\u001b[0m\n\u001b[0;32m--> 873\u001b[0;31m             handle = open(\n\u001b[0m\u001b[1;32m    874\u001b[0m                 \u001b[0mhandle\u001b[0m\u001b[0;34m,\u001b[0m\u001b[0;34m\u001b[0m\u001b[0;34m\u001b[0m\u001b[0m\n\u001b[1;32m    875\u001b[0m                 \u001b[0mioargs\u001b[0m\u001b[0;34m.\u001b[0m\u001b[0mmode\u001b[0m\u001b[0;34m,\u001b[0m\u001b[0;34m\u001b[0m\u001b[0;34m\u001b[0m\u001b[0m\n",
            "\u001b[0;31mFileNotFoundError\u001b[0m: [Errno 2] No such file or directory: '/content/drive/MyDrive/Colab Notebooks/Thesis/Analysis/25.01.15/best model prediction.csv'"
          ]
        }
      ],
      "source": [
        "import pandas as pd\n",
        "best_prediction = pd.read_csv(filepath_or_buffer=best_prediction_csv, header=0)\n",
        "display(best_prediction.head())"
      ]
    },
    {
      "cell_type": "code",
      "execution_count": null,
      "metadata": {
        "id": "TS7d5sP6lEmm"
      },
      "outputs": [],
      "source": [
        "import shutil\n",
        "\n",
        "best_prediction = best_prediction[best_prediction['Source.Name']=='Chest CT-Scan images Dataset_prediction.csv']\n",
        "\n",
        "root_dir = '/content/drive/MyDrive/Colab Notebooks/Thesis/Analysis/test_dataset_origin'\n",
        "for index, row in best_prediction.iterrows():\n",
        "  dir =  row['origin_dir']\n",
        "  filepath = os.path.join(root_dir, dir)\n",
        "  # print(filepath)\n",
        "  new_directory = '/content/drive/MyDrive/Colab Notebooks/Thesis/Analysis/pred_img/origin' + '/' + row['origin_dataset']\n",
        "  # Create new_directory if not exist\n",
        "  if not os.path.exists(new_directory):\n",
        "    os.makedirs(new_directory)\n",
        "  class_name = os.path.basename(os.path.dirname(row['basename']))\n",
        "  print(class_name)\n",
        "  image_name, extension = os.path.splitext(os.path.basename(row['basename']))\n",
        "  # print(image_name)\n",
        "  # create new directory for the class if it doesn't exist\n",
        "  class_directory = os.path.join(new_directory, class_name)\n",
        "  if not os.path.exists(class_directory):\n",
        "    os.makedirs(class_directory)\n",
        "  # dst = os.path.join(class_directory, image_name)\n",
        "  # Assuming 'row' is a dictionary with key 'origin_dir_without_extension'\n",
        "  src_files = glob.glob(os.path.join(root_dir, row['origin_dir_without_extension'] + \".jpg\"))\n",
        "  src_files.extend(glob.glob(os.path.join(root_dir, row['origin_dir_without_extension'] + \".png\")))\n",
        "  src_files.extend(glob.glob(os.path.join(root_dir, row['origin_dir_without_extension'] + \".jpeg\")))\n",
        "  print(src_files)\n",
        "\n",
        "  for src in src_files:\n",
        "      if os.path.isfile(src):\n",
        "          # dst = os.path.join(class_directory, image_name + extension)\n",
        "          dst = os.path.join(class_directory, image_name + os.path.splitext(src)[1])\n",
        "          shutil.copy(src, dst)\n",
        "      else:\n",
        "          print(f\"Skipping {src} as it is not a file.\")\n"
      ]
    },
    {
      "cell_type": "code",
      "execution_count": null,
      "metadata": {
        "id": "Ttq0bhW8c2R1"
      },
      "outputs": [],
      "source": [
        "import shutil\n",
        "import os\n",
        "\n",
        "# Define a new directory to store the images\n",
        "# new_directory = '/content/drive/MyDrive/Colab Notebooks/Thesis/Analysis/test_dataset' + '/' + os.path.basename(os.path.dirname(dataset_path))\n",
        "new_directory = '/content/drive/MyDrive/Colab Notebooks/Thesis/Analysis/test_dataset_origin' + '/' + os.path.basename(os.path.dirname(dataset_path))\n",
        "print('new_directory:' + new_directory)\n",
        "\n",
        "# Create the new directory if it doesn't exist\n",
        "if not os.path.exists(new_directory):\n",
        "    os.makedirs(new_directory)\n",
        "\n",
        "# Get the file paths from the original test_dataset\n",
        "file_paths = val_dataset.file_paths\n",
        "\n",
        "# Copy the images to the new directory\n",
        "for file_path in file_paths:\n",
        "    # Get the class name and image name from the file path\n",
        "    class_name = os.path.basename(os.path.dirname(file_path))\n",
        "    image_name = os.path.basename(file_path)\n",
        "\n",
        "    # Create a new directory for the class if it doesn't exist\n",
        "    class_directory = os.path.join(new_directory, class_name)\n",
        "    if not os.path.exists(class_directory):\n",
        "        os.makedirs(class_directory)\n",
        "\n",
        "    # Copy the image to the new directory\n",
        "    shutil.copy(file_path, os.path.join(class_directory, image_name))\n"
      ]
    },
    {
      "cell_type": "markdown",
      "metadata": {
        "id": "GjopZ9aeRUlf"
      },
      "source": [
        "## Preprocessing method"
      ]
    },
    {
      "cell_type": "code",
      "execution_count": null,
      "metadata": {
        "id": "1rv_r1kxRdyv"
      },
      "outputs": [],
      "source": [
        "# CLAHE\n",
        "import cv2\n",
        "def clahe(gray):\n",
        "  # CLAHE (Contrast Limited Adaptive Histogram Equalization)\n",
        "  # create a CLAHE object (Arguments are optional).\n",
        "  clahe = cv2.createCLAHE(clipLimit=2.0, tileGridSize=(8,8))\n",
        "  cl1 = clahe.apply(gray)\n",
        "  return cl1\n"
      ]
    },
    {
      "cell_type": "code",
      "execution_count": null,
      "metadata": {
        "id": "mb_g1w0wSa6p"
      },
      "outputs": [],
      "source": [
        "# median\n",
        "import cv2\n",
        "def medianFilter(cl1):\n",
        "  median = cv2.medianBlur(cl1, 3)\n",
        "  return median"
      ]
    },
    {
      "cell_type": "code",
      "execution_count": null,
      "metadata": {
        "id": "ULDDPGpjRE6U"
      },
      "outputs": [],
      "source": [
        "# Butterworth\n",
        "\n",
        "import cv2\n",
        "import numpy as np\n",
        "import matplotlib.pyplot as plt\n",
        "from scipy.fftpack import fftshift, ifftshift, fft2, ifft2\n",
        "\n",
        "def fftshow(f, type='log'):\n",
        "    if type == 'log':\n",
        "        fl = np.log1p(np.abs(f))\n",
        "        fm = np.max(fl)\n",
        "        # Scale the image to the range [0, 255] and convert it to an 8-bit unsigned integer\n",
        "        image = cv2.normalize(fl/fm, None, 0, 255, cv2.NORM_MINMAX).astype(np.uint8)\n",
        "        # Display the image\n",
        "        plt.imshow(image, cmap='gray')\n",
        "        plt.show()\n",
        "    elif type == 'abs':\n",
        "        fa = np.abs(f)\n",
        "        fm = np.max(fa)\n",
        "        # Scale the image to the range [0, 255] and convert it to an 8-bit unsigned integer\n",
        "        image = cv2.normalize(fa/fm, None, 0, 255, cv2.NORM_MINMAX).astype(np.uint8)\n",
        "        # Display the image\n",
        "        plt.imshow(image, cmap='gray')\n",
        "        plt.show()\n",
        "    else:\n",
        "        raise ValueError('TYPE must be abs or log.')\n",
        "\n",
        "    plt.show()\n",
        "\n",
        "def butterworthbpf(I, d0, d1, n):\n",
        "    f = np.double(I)\n",
        "    nx, ny = f.shape\n",
        "    f = np.uint8(f)\n",
        "    fftI = np.fft.fft2(f, (2 * nx - 1, 2 * ny - 1))\n",
        "    fftI = np.fft.fftshift(fftI)\n",
        "\n",
        "    # plt.subplot(2, 2, 1)\n",
        "    # plt.imshow(f, cmap='gray')\n",
        "    # plt.title('Original Image')\n",
        "\n",
        "    # plt.subplot(2, 2, 2)\n",
        "    # fftshow(fftI, 'log')\n",
        "    # plt.title('Image in Fourier Domain')\n",
        "\n",
        "    # Initialize filter.\n",
        "    filter1 = np.ones((2 * nx - 1, 2 * ny - 1))\n",
        "    filter2 = np.ones((2 * nx - 1, 2 * ny - 1))\n",
        "    filter3 = np.ones((2 * nx - 1, 2 * ny - 1))\n",
        "\n",
        "    for i in range(2 * nx - 1):\n",
        "        for j in range(2 * ny - 1):\n",
        "            dist = np.sqrt((i+1 - (nx + 1))**2 + (j+1 - (ny + 1))**2)\n",
        "            # Create Butterworth filter.\n",
        "            filter1[i, j] = 1 / (1 + (dist / d1)**(2 * n))\n",
        "            filter2[i, j] = 1 / (1 + (dist / d0)**(2 * n))\n",
        "            filter3[i, j] = 1.0 - filter2[i, j]\n",
        "            filter3[i, j] = filter1[i, j] * filter3[i, j]\n",
        "\n",
        "    # Update image with passed frequencies.\n",
        "    filtered_image = fftI + filter3 * fftI\n",
        "\n",
        "    # plt.subplot(2, 2, 3)\n",
        "    # fftshow(filter3, 'log')\n",
        "    # plt.title('Filter Image')\n",
        "\n",
        "    filtered_image = np.fft.ifftshift(filtered_image)\n",
        "    filtered_image = np.fft.ifft2(filtered_image, (2 * nx - 1, 2 * ny - 1))\n",
        "    filtered_image = np.real(filtered_image[:nx, :ny])\n",
        "    filtered_image = np.clip(filtered_image, 0, 255) # clip: modify outliers become 0 or 255 -> result will be the same for next syntax unint8 in Matlab\n",
        "    # # Rescale intensities to the range [0, 255]. -> result slightly different from Matlab\n",
        "    # filtered_image = cv2.normalize(src=filtered_image, dst=None, alpha=0, beta=255, norm_type=cv2.NORM_MINMAX, dtype=cv2.CV_8U)\n",
        "    filtered_image = np.uint8(np.round(filtered_image))\n",
        "\n",
        "    # plt.subplot(2, 2, 4)\n",
        "    # plt.imshow(filtered_image, cmap='gray')\n",
        "    # plt.title('Filtered Image')\n",
        "\n",
        "    # plt.show()\n",
        "\n",
        "    return filtered_image"
      ]
    },
    {
      "cell_type": "code",
      "execution_count": null,
      "metadata": {
        "id": "FRb4y1ovSqUa"
      },
      "outputs": [],
      "source": [
        "# Median-Mean Hydric Filter\n",
        "def hybrid_filter(image, window_size): # window_size:(3,3)\n",
        "    height, width = image.shape\n",
        "\n",
        "    # Calculate padding needed\n",
        "    pad_height = window_size[0] // 2\n",
        "    pad_width = window_size[1] // 2\n",
        "\n",
        "    # Add padding to the image\n",
        "    padded_image = cv2.copyMakeBorder(src=image, top=pad_height, bottom=pad_height, left=pad_width, right=pad_width, borderType=cv2.BORDER_CONSTANT, value=0) # cv2.BORDER_REFLECT\n",
        "\n",
        "    # Create an output image with the same size as the input\n",
        "    output_image = np.zeros_like(image, dtype=float)\n",
        "\n",
        "    for x in range(pad_height, height + pad_height):\n",
        "        for y in range(pad_width, width + pad_width):\n",
        "            sub_window = padded_image[x - pad_height:x + pad_height + 1, y - pad_width:y + pad_width + 1]\n",
        "\n",
        "            # Median Value Calculation\n",
        "            median_value = np.median(sub_window)\n",
        "\n",
        "            # Average Value Calculation\n",
        "            average_values = (sub_window + median_value) / 2\n",
        "\n",
        "            # Center Pixel Value Calculation\n",
        "            output_image[x - pad_height, y - pad_width] = np.mean(average_values)\n",
        "\n",
        "    return output_image"
      ]
    },
    {
      "cell_type": "code",
      "execution_count": null,
      "metadata": {
        "id": "8otzmQd_TZlJ"
      },
      "outputs": [],
      "source": [
        "# wavelet thresholding\n",
        "import cv2\n",
        "import pandas as pd\n",
        "import numpy as np\n",
        "import os\n",
        "from PIL import Image\n",
        "import pywt\n",
        "\n",
        "\n",
        "def wavelet_denoise(image):\n",
        "    # Áp dụng biến đổi sóng 2D\n",
        "    coeffs = pywt.dwt2(image, 'bior1.3')\n",
        "    LL, (LH, HL, HH) = coeffs\n",
        "\n",
        "    # Giảm nhiễu ở mức HH, LH, HL\n",
        "    denoised_HH = pywt.threshold(HH, 0.05, mode='soft')\n",
        "    denoised_LH = pywt.threshold(LH, 0.05, mode='soft')\n",
        "    denoised_HL = pywt.threshold(HL, 0.05, mode='soft')\n",
        "    thresh = np.std(LL)\n",
        "    LL = pywt.threshold(LL, thresh)\n",
        "\n",
        "\n",
        "    # Tạo lại ảnh từ các hệ số đã được xử lý\n",
        "    coeffs = (LL, (denoised_LH, denoised_HL, denoised_HH))\n",
        "    denoised_image = pywt.idwt2(coeffs, 'bior1.3')\n",
        "\n",
        "    # return LL, LH, HL, HH\n",
        "    return denoised_image, LL, denoised_LH, denoised_HL, denoised_HH"
      ]
    },
    {
      "cell_type": "code",
      "execution_count": null,
      "metadata": {
        "id": "FLAJuuejTmPJ"
      },
      "outputs": [],
      "source": [
        "import cv2\n",
        "\n",
        "def unsharp_masking_bilateral_filter(image):\n",
        "    # Unsharp Masking\n",
        "    blurred = cv2.GaussianBlur(image, (0, 0), 3)  # Gaussian blur with kernel size 3\n",
        "    '''\n",
        "    (0, 0): This is the size of the Gaussian blur kernel. In this case, (0, 0) is used, which means the size of the kernel will be automatically calculated based on the provided sigma value.\n",
        "    sigma = 3, This is the value of sigma in the Gaussian function, determining the degree of blur\n",
        "    '''\n",
        "    unsharp_mask = cv2.addWeighted(image, 1.5, blurred, -0.5, 0)  # Unsharp mask calculation\n",
        "\n",
        "    '''\n",
        "    With an alpha value = 1.5, the original image will be multiplied by a value greater than 1,\n",
        "    resulting in an increase in the brightness of the pixels.\n",
        "    This makes edges and details in the photo clearer and sharper.\n",
        "\n",
        "    -0.5: This is the weight or scaling factor applied to the blurred image. A negative value subtracts the blurred image from the original, enhancing the edges.\n",
        "    '''\n",
        "\n",
        "    # Bilateral Filter Denoising\n",
        "    denoised_image = cv2.bilateralFilter(unsharp_mask, d=9, sigmaColor=75, sigmaSpace=75)  # Bilateral filtering\n",
        "\n",
        "    '''\n",
        "      Sigma values: For simplicity, can set the 2 sigma values to be the same. If they are small (< 10), the filter will not have much effect, whereas if they are large (> 150), they will have a very strong effect, making the image look \"cartoonish\".\n",
        "\n",
        "      Filter size: Large filters (d > 5) are very slow, so it is recommended to use d=5 for real-time applications, and perhaps d=9 for offline applications that need heavy noise filtering.\n",
        "\n",
        "    '''\n",
        "\n",
        "    # Return result\n",
        "    return denoised_image, blurred, unsharp_mask"
      ]
    },
    {
      "cell_type": "code",
      "execution_count": null,
      "metadata": {
        "colab": {
          "base_uri": "https://localhost:8080/",
          "height": 434
        },
        "id": "wUExdiET8VYM",
        "outputId": "d93bb908-1699-414a-fd58-b85199dcd10b"
      },
      "outputs": [
        {
          "data": {
            "text/plain": [
              "['/content/drive/MyDrive/Colab Notebooks/Thesis/Analysis/pred_img/origin/COVID19_Pneumonia_Normal_Chest_Xray_PA/pneumonia/00019275_002.jpg',\n",
              " '/content/drive/MyDrive/Colab Notebooks/Thesis/Analysis/pred_img/origin/COVID19_Pneumonia_Normal_Chest_Xray_PA/pneumonia/00028301_000.jpg',\n",
              " '/content/drive/MyDrive/Colab Notebooks/Thesis/Analysis/pred_img/origin/Brain-Tumor-MRI-Dataset/glioma/Te-gl_0245.jpg',\n",
              " '/content/drive/MyDrive/Colab Notebooks/Thesis/Analysis/pred_img/origin/Brain-Stroke-CT-Image-Dataset/Normal/122 (7).jpg',\n",
              " '/content/drive/MyDrive/Colab Notebooks/Thesis/Analysis/pred_img/origin/Brain-Stroke-CT-Image-Dataset/Stroke/88 (16).jpg',\n",
              " '/content/drive/MyDrive/Colab Notebooks/Thesis/Analysis/pred_img/origin/Breast-Cancer-Patients-MRI/Healthy/S_48.jpg',\n",
              " '/content/drive/MyDrive/Colab Notebooks/Thesis/Analysis/pred_img/origin/Breast-Cancer-Patients-MRI/Healthy/S_28.jpg',\n",
              " '/content/drive/MyDrive/Colab Notebooks/Thesis/Analysis/pred_img/origin/Breast-Cancer-Patients-MRI/Healthy/S_51.jpg',\n",
              " '/content/drive/MyDrive/Colab Notebooks/Thesis/Analysis/pred_img/origin/Breast-Cancer-Patients-MRI/Healthy/S_33.jpg',\n",
              " '/content/drive/MyDrive/Colab Notebooks/Thesis/Analysis/pred_img/origin/Breast-Cancer-Patients-MRI/Healthy/S_52.jpg',\n",
              " '/content/drive/MyDrive/Colab Notebooks/Thesis/Analysis/pred_img/origin/Chest-CT-Scan-images-Dataset/squamous.cell.carcinoma/000137 (3).png',\n",
              " '/content/drive/MyDrive/Colab Notebooks/Thesis/Analysis/pred_img/origin/MT-Small-Dataset/Benign/benign_Adjusted (64).jpg',\n",
              " '/content/drive/MyDrive/Colab Notebooks/Thesis/Analysis/pred_img/origin/Osteoporosis-Knee-Xray-Dataset/osteoporosis/268.jpg',\n",
              " '/content/drive/MyDrive/Colab Notebooks/Thesis/Analysis/pred_img/origin/Ultrasound-Breast-Images-for-Breast-Cancer/malignant/malignant (1)-sharpened-sharpened-rotated2.png',\n",
              " '/content/drive/MyDrive/Colab Notebooks/Thesis/Analysis/pred_img/origin/Ultrasound-Breast-Images-for-Breast-Cancer/malignant/malignant (11)-rotated1-sharpened.png',\n",
              " '/content/drive/MyDrive/Colab Notebooks/Thesis/Analysis/pred_img/origin/Ultrasound-Breast-Images-for-Breast-Cancer/malignant/malignant (11)-rotated1-rotated32.png',\n",
              " '/content/drive/MyDrive/Colab Notebooks/Thesis/Analysis/pred_img/origin/Ultrasound-Breast-Images-for-Breast-Cancer/malignant/malignant (11)-rotated1-rotated2.png',\n",
              " '/content/drive/MyDrive/Colab Notebooks/Thesis/Analysis/pred_img/origin/Ultrasound-Breast-Images-for-Breast-Cancer/malignant/malignant (11)-rotated1.png',\n",
              " '/content/drive/MyDrive/Colab Notebooks/Thesis/Analysis/pred_img/origin/Ultrasound-Breast-Images-for-Breast-Cancer/malignant/malignant (11)-sharpened-rotated1.png',\n",
              " '/content/drive/MyDrive/Colab Notebooks/Thesis/Analysis/pred_img/origin/Ultrasound-Breast-Images-for-Breast-Cancer/malignant/malignant (11)-rotated32-rotated1.png',\n",
              " '/content/drive/MyDrive/Colab Notebooks/Thesis/Analysis/pred_img/origin/Ultrasound-Breast-Images-for-Breast-Cancer/malignant/malignant (11)-sharpened-rotated2.png',\n",
              " '/content/drive/MyDrive/Colab Notebooks/Thesis/Analysis/pred_img/origin/Ultrasound-Breast-Images-for-Breast-Cancer/malignant/malignant (11)-sharpened.png',\n",
              " '/content/drive/MyDrive/Colab Notebooks/Thesis/Analysis/pred_img/origin/Ultrasound-Breast-Images-for-Breast-Cancer/malignant/malignant (11).png',\n",
              " '/content/drive/MyDrive/Colab Notebooks/Thesis/Analysis/pred_img/origin/Ultrasound-Breast-Images-for-Breast-Cancer/malignant/malignant (12)-rotated2-rotated32.png']"
            ]
          },
          "metadata": {},
          "output_type": "display_data"
        }
      ],
      "source": [
        "\n",
        "import os\n",
        "import glob\n",
        "\n",
        "def get_image_paths(dir_path):\n",
        "    image_paths = []\n",
        "    for item in os.listdir(dir_path):\n",
        "        item_path = os.path.join(dir_path, item)\n",
        "        # print(item_path)\n",
        "        if os.path.isdir(item_path):\n",
        "            image_paths.extend(get_image_paths(item_path))\n",
        "        elif item_path.endswith(('.jpg', '.png', '.jpeg')):\n",
        "            image_paths.append(item_path)\n",
        "    return image_paths\n",
        "\n",
        "# Use the function\n",
        "root_dir = '/content/drive/MyDrive/Colab Notebooks/Thesis/Analysis/pred_img/origin'  # replace with your folder path\n",
        "image_paths = get_image_paths(root_dir)\n",
        "display(image_paths)"
      ]
    },
    {
      "cell_type": "code",
      "execution_count": null,
      "metadata": {
        "id": "8IFo4gjZTHFx"
      },
      "outputs": [],
      "source": [
        "image_paths =  '/content/drive/MyDrive/Colab Notebooks/Thesis/Analysis/pred_img/origin/Chest-CT-Scan-images-Dataset/squamous.cell.carcinoma/000137 (3).png',"
      ]
    },
    {
      "cell_type": "code",
      "execution_count": null,
      "metadata": {
        "colab": {
          "base_uri": "https://localhost:8080/"
        },
        "id": "s3qKW4iNEpO5",
        "outputId": "e63b7683-c4fa-4422-ae5a-578a5cb20621"
      },
      "outputs": [
        {
          "name": "stdout",
          "output_type": "stream",
          "text": [
            "Chest-CT-Scan-images-Dataset/squamous.cell.carcinoma\n"
          ]
        }
      ],
      "source": [
        "dest_dir = '/content/drive/MyDrive/Colab Notebooks/Thesis/Analysis/pred_img'\n",
        "for img_path in image_paths:\n",
        "  # Split the path into a list of directories\n",
        "  path_parts = img_path.split(os.sep)\n",
        "\n",
        "  # Get the index of the directory 'origin'\n",
        "  origin_index = path_parts.index('origin')\n",
        "\n",
        "  # Get the part of the path after 'origin' (excluding the filename)\n",
        "  desired_path = os.sep.join(path_parts[origin_index+1:-1])\n",
        "  # desired_path = desired_path.replace('/','')\n",
        "  print(desired_path)\n",
        "  dataset_name = os.sep.join(path_parts[origin_index+1])\n",
        "  dataset_name = dataset_name.replace('/','')\n",
        "  # print(dataset_name)\n",
        "\n",
        "  img = cv2.imread(img_path)\n",
        "  gray = cv2.cvtColor(img, cv2.COLOR_BGR2GRAY)\n",
        "  cl1 = clahe(gray)\n",
        "  clahe_median_img = medianFilter(cl1)\n",
        "  clahe_butterworth_img = butterworthbpf(gray, 15, 30, 3)\n",
        "  hybrid_img = []\n",
        "  if (dataset_name == 'Osteoporosis-Knee-Xray-Dataset'):\n",
        "    hybrid_img = hybrid_filter(gray, (5,5))\n",
        "  else:\n",
        "    hybrid_img = hybrid_filter(gray, (3,3))\n",
        "  wavelet_img, _, _, _, _ = wavelet_denoise(gray)\n",
        "  unsharp_bilateral_img, _, _ = unsharp_masking_bilateral_filter(gray)\n",
        "\n",
        "\n",
        "  # plt.subplot(3, 2, 1)\n",
        "  # plt.imshow(cl1, cmap='gray')\n",
        "\n",
        "  # Define the output file path\n",
        "  # basename(pathname = os.path.dirname(img_path)\n",
        "  # print(pathname)\n",
        "\n",
        "\n",
        "  filename_with_ext = os.path.basename(img_path)\n",
        "  filename, extension = os.path.splitext(filename_with_ext)\n",
        "\n",
        "  dest_dir_preprocess = dest_dir + '/clahe_median/' + desired_path\n",
        "  os.makedirs(dest_dir_preprocess, exist_ok=True)\n",
        "  dest_item_path = os.path.join(dest_dir_preprocess, filename + '.jpg')\n",
        "  cv2.imwrite(dest_item_path, clahe_median_img)\n",
        "\n",
        "  dest_dir_preprocess = dest_dir + '/clahe_butterworth/' + desired_path\n",
        "  os.makedirs(dest_dir_preprocess, exist_ok=True)\n",
        "  dest_item_path = os.path.join(dest_dir_preprocess, filename + '.jpg')\n",
        "  cv2.imwrite(dest_item_path, clahe_butterworth_img)\n",
        "\n",
        "  dest_dir_preprocess = dest_dir + '/hybrid/' + desired_path\n",
        "  os.makedirs(dest_dir_preprocess, exist_ok=True)\n",
        "  dest_item_path = os.path.join(dest_dir_preprocess, filename + '.jpg')\n",
        "  cv2.imwrite(dest_item_path, hybrid_img)\n",
        "\n",
        "  dest_dir_preprocess = dest_dir + '/wavelet_denoise/' + desired_path\n",
        "  os.makedirs(dest_dir_preprocess, exist_ok=True)\n",
        "  dest_item_path = os.path.join(dest_dir_preprocess, filename + '.jpg')\n",
        "  cv2.imwrite(dest_item_path, wavelet_img)\n",
        "\n",
        "  dest_dir_preprocess = dest_dir + '/unsharp_masking_bilateral_filter/' + desired_path\n",
        "  os.makedirs(dest_dir_preprocess, exist_ok=True)\n",
        "  dest_item_path = os.path.join(dest_dir_preprocess, filename + '.jpg')\n",
        "  cv2.imwrite(dest_item_path, unsharp_bilateral_img)\n",
        "\n",
        "\n",
        "\n",
        "\n",
        "  # print(dest_item_path)"
      ]
    },
    {
      "cell_type": "markdown",
      "metadata": {
        "id": "K68gvQtRLd1d"
      },
      "source": [
        "## Best Model - Convert keras 2 to Keras 3"
      ]
    },
    {
      "cell_type": "code",
      "execution_count": null,
      "metadata": {
        "id": "_79H45OROX8o"
      },
      "outputs": [],
      "source": [
        "import os\n",
        "import pandas as pd\n",
        "import numpy as np\n",
        "import tensorflow as tf\n",
        "from tensorflow.keras.models import load_model\n",
        "from tensorflow.keras.preprocessing import image_dataset_from_directory"
      ]
    },
    {
      "cell_type": "code",
      "source": [
        "global path\n",
        "path = '/content/drive/MyDrive/Colab Notebooks/Thesis/Analysis'"
      ],
      "metadata": {
        "id": "5_XqUX2lfKUe"
      },
      "execution_count": null,
      "outputs": []
    },
    {
      "cell_type": "code",
      "execution_count": null,
      "metadata": {
        "id": "ZdD0inDqOX8q"
      },
      "outputs": [],
      "source": [
        "datasets_info = [\n",
        "    {'name': 'COVID19_Pneumonia_Normal_Chest_Xray_PA_Dataset', 'dataset_path': '/content/drive/MyDrive/Colab Notebooks/Thesis/Analysis/test_dataset/COVID19_Pneumonia_Normal_Chest_Xray_PA_Median'},\n",
        "    {'name': 'Osteoporosis Knee X-ray Dataset', 'dataset_path':'/content/drive/MyDrive/Colab Notebooks/Thesis/Analysis/test_dataset/Osteoporosis-Knee-Xray_unsharpMasking'},\n",
        "    {'name': 'Chest CT-Scan images Dataset', 'dataset_path':'/content/drive/MyDrive/Colab Notebooks/Thesis/Analysis/test_dataset/Chest-CT-Scan-images_DWT'},\n",
        "    {'name': 'Brain Stroke CT Image Dataset', 'dataset_path':'/content/drive/MyDrive/Colab Notebooks/Thesis/Analysis/test_dataset/Brain-Stroke-CT-Image-Dataset_Median-Mean-Hybrid-Filter'},\n",
        "    {'name': 'Brain Tumor MRI Dataset', 'dataset_path':'/content/drive/MyDrive/Colab Notebooks/Thesis/Analysis/test_dataset/Brain-Tumor-MRI_Median-Mean-Hybrid_Filter'},\n",
        "    {'name': 'Breast Cancer Patients MRI', 'dataset_path':'/content/drive/MyDrive/Colab Notebooks/Thesis/Analysis/test_dataset/Breast-Cancer-Patients-MRI_unsharpMasking_bilateralfilter'},\n",
        "    {'name': 'Ultrasound Breast Images for Breast Cancer', 'dataset_path':'/content/drive/MyDrive/Colab Notebooks/Thesis/Analysis/test_dataset/Ultrasound-Breast-Images-for-Breast-Cancer_unsharpMasking_bilateralfilter'},\n",
        "    {'name': 'MT_Small_Dataset', 'dataset_path':'/content/drive/MyDrive/Colab Notebooks/Thesis/Analysis/test_dataset/MT-Small-Dataset_Unsharp-Masking_Bilateral_Filter'}\n",
        "    ]"
      ]
    },
    {
      "cell_type": "code",
      "execution_count": null,
      "metadata": {
        "id": "pYGDFqUpOX8q"
      },
      "outputs": [],
      "source": [
        "model_root = \"/content/drive/MyDrive/Colab Notebooks/Thesis/Analysis/model/\"\n",
        "global class_names_list\n",
        "\n",
        "img_size = {\n",
        "    'COVID19_Pneumonia_Normal_Chest_Xray_PA_Dataset': (224,224),\\\n",
        "    'Osteoporosis Knee X-ray Dataset': (224,224),\\\n",
        "    'Chest CT-Scan images Dataset': (380,380),\\\n",
        "    'Brain Stroke CT Image Dataset': (224,224),\\\n",
        "    'Brain Tumor MRI Dataset': (380,380),\\\n",
        "    'Breast Cancer Patients MRI': (224,224),\\\n",
        "    'Ultrasound Breast Images for Breast Cancer': (380,380),\\\n",
        "    'MT_Small_Dataset': (380,380)\n",
        "}\n",
        "\n",
        "class_names_list = {\n",
        "    'COVID19_Pneumonia_Normal_Chest_Xray_PA_Dataset': ['covid', 'normal', 'pneumonia'],\\\n",
        "    'Osteoporosis Knee X-ray Dataset': ['normal', 'osteoporosis'],\\\n",
        "    'Chest CT-Scan images Dataset': ['adenocarcinoma', 'large.cell.carcinoma', 'normal', 'squamous.cell.carcinoma'],\\\n",
        "    'Brain Stroke CT Image Dataset': ['Normal', 'Stroke'],\\\n",
        "    'Brain Tumor MRI Dataset': ['glioma', 'meningioma', 'notumor', 'pituitary'],\\\n",
        "    'Breast Cancer Patients MRI': ['Healthy', 'Sick'],\\\n",
        "    'Ultrasound Breast Images for Breast Cancer': ['benign', 'malignant'],\\\n",
        "    'MT_Small_Dataset': ['Benign', 'Malignant']\n",
        "}\n",
        "\n",
        "models_data =  {\n",
        "    'COVID19_Pneumonia_Normal_Chest_Xray_PA_Dataset': model_root + '01_07_02_best_model_val_acc.h5',\\\n",
        "    'Osteoporosis Knee X-ray Dataset': model_root + '02_08_03_best_model_val_acc.h5',\\\n",
        "    'Chest CT-Scan images Dataset': model_root + '03_03_01_best_model_val_acc.h5',\\\n",
        "    'Brain Stroke CT Image Dataset': model_root + '09_07_05_best_model_val_acc.h5',\\\n",
        "    'Brain Tumor MRI Dataset': model_root + '04_07_01_best_model_val_acc.h5',\\\n",
        "    'Breast Cancer Patients MRI': model_root + '07_08_05_best_model_val_acc.h5',\\\n",
        "    'Ultrasound Breast Images for Breast Cancer': model_root + '05_08_01_best_model_val_acc.h5',\\\n",
        "    'MT_Small_Dataset': model_root + '08_08_01_best_model_val_acc.h5'\n",
        "}\n",
        "\n",
        "\n",
        "# def get_model_info_by_dataset_key(models_info, dataset_key):\n",
        "#     model_info_list = []\n",
        "#     for model in models_info:\n",
        "#         model_path = None\n",
        "#         for path_dict in model['path']:\n",
        "#             if dataset_key in path_dict:\n",
        "#                 model_path = path_dict[dataset_key]\n",
        "#                 break\n",
        "#         if model_path is not None:\n",
        "#             model_info_list.append({'name': model['name'], 'size': img_size[dataset_key], 'path': model_path})\n",
        "#     return model_info_list\n",
        "\n",
        "# # Example usage:\n",
        "# dataset_key = 'COVID19_Pneumonia_Normal_Chest_Xray_PA_Dataset'\n",
        "# models_info = get_model_info_by_dataset_key(models_data, dataset_key)\n",
        "# print(models_info)\n"
      ]
    },
    {
      "cell_type": "code",
      "execution_count": null,
      "metadata": {
        "id": "VrOXWhq6XVZK"
      },
      "outputs": [],
      "source": [
        "import matplotlib.pyplot as plt\n",
        "from sklearn.metrics import confusion_matrix\n",
        "import seaborn as sns\n",
        "import pickle\n",
        "import textwrap\n",
        "\n",
        "def wrap_labels(labels, width):\n",
        "    return [textwrap.fill(label, width) for label in labels]\n",
        "\n",
        "def calCM(y_true, y_pred, class_names, savefig_name):\n",
        "    savepath = path + '/figures/'\n",
        "\n",
        "    # Calculate the confusion matrix\n",
        "    cm = confusion_matrix(y_true, y_pred)\n",
        "    num_classes = len(class_names)\n",
        "    with open(savepath + f'cm_{savefig_name}.pkl', 'wb') as f:\n",
        "        pickle.dump({'cm': cm, 'class_names': class_names}, f)\n",
        "\n",
        "    # Set default fontsize\n",
        "    default_number_fontsize = 16\n",
        "    default_label_fontsize = 14 # 12\n",
        "    default_tick_fontsize = 12 # 10\n",
        "\n",
        "    # Wrap class names to fit within the cell width\n",
        "    wrapped_class_names = wrap_labels(class_names, width=10)\n",
        "\n",
        "    # Adjust fontsize based on the number of classes\n",
        "    if num_classes == 2:\n",
        "        number_fontsize = default_number_fontsize + 12 # 16\n",
        "        label_fontsize = default_label_fontsize # 6\n",
        "        tick_fontsize = default_tick_fontsize # 4\n",
        "    elif num_classes == 3:\n",
        "        number_fontsize = default_number_fontsize + 6 # 12\n",
        "        label_fontsize = default_label_fontsize # 4\n",
        "        tick_fontsize = default_tick_fontsize # 2\n",
        "    elif num_classes == 4:\n",
        "        number_fontsize = default_number_fontsize + 4 # 8\n",
        "        label_fontsize = default_label_fontsize # 2\n",
        "        tick_fontsize = default_tick_fontsize # 1\n",
        "    elif num_classes == 5:\n",
        "        number_fontsize = default_number_fontsize + 2 # 4\n",
        "        label_fontsize = default_label_fontsize # 1\n",
        "        tick_fontsize = default_tick_fontsize # 0\n",
        "    else:\n",
        "        number_fontsize = default_number_fontsize\n",
        "        label_fontsize = default_label_fontsize\n",
        "        tick_fontsize = default_tick_fontsize\n",
        "\n",
        "    rotation = False\n",
        "    for i in range(len(class_names)):\n",
        "        if len(class_names[i]) > 15:\n",
        "            rotation = True\n",
        "            break\n",
        "\n",
        "    # Draw the confusion matrix\n",
        "    plt.figure(figsize=(4.8, 4))\n",
        "    sns.heatmap(cm, annot=True, fmt='d', cmap='Greens', xticklabels=class_names, yticklabels=class_names, annot_kws={\"size\": number_fontsize})\n",
        "    plt.xlabel('Predicted') # fontsize=label_fontsize\n",
        "    plt.ylabel('Truth') # fontsize=label_fontsize\n",
        "    plt.xticks(rotation = 90 if rotation else 0)\n",
        "    plt.yticks()\n",
        "    plt.tight_layout()\n",
        "    plt.savefig(f'{savepath}cm_{savefig_name}.png', format='png', dpi=400)\n",
        "    plt.savefig(f'{savepath}cm_{savefig_name}.svg', format='svg')\n",
        "    plt.show()"
      ]
    },
    {
      "cell_type": "code",
      "source": [
        "# Function to rename layers\n",
        "def rename_layers(model):\n",
        "    for layer in model.layers:\n",
        "        if '/' in layer.name:\n",
        "            layer._name = layer.name.replace('/', '_')\n",
        "    return model"
      ],
      "metadata": {
        "id": "t-97Z_6ZbeWW"
      },
      "execution_count": null,
      "outputs": []
    },
    {
      "cell_type": "code",
      "execution_count": null,
      "metadata": {
        "id": "2TAAAuREOX8s"
      },
      "outputs": [],
      "source": [
        "import tensorflow as tf\n",
        "import tf_keras # Keras 2\n",
        "from tf_keras.optimizers import Adam\n",
        "from sklearn.metrics import accuracy_score\n",
        "\n",
        "# Define the parameters: image size, colors\n",
        "global batch_size, color_mode, label_mode\n",
        "batch_size = 32\n",
        "color_mode = 'rgb'\n",
        "label_mode = \"categorical\"\n",
        "\n",
        "def test_model(index):\n",
        "    # Initialize and reset a result DataFrame at each loop\n",
        "    df_results = pd.DataFrame()\n",
        "    dataset_name = datasets_info[index]['name']\n",
        "    dataset_path = datasets_info[index]['dataset_path']\n",
        "    model_path = models_data[dataset_name]\n",
        "    class_names = class_names_list[dataset_name]\n",
        "    print(f'dataset: {dataset_name}, path: {dataset_path}, model path: {model_path}, class_names: {class_names}')\n",
        "\n",
        "    # Load the dataset from new independent test_dataset folder\n",
        "    test_dataset = image_dataset_from_directory(\n",
        "        directory= dataset_path,\n",
        "        labels=\"inferred\",\n",
        "        label_mode=label_mode,\n",
        "        class_names=class_names,\n",
        "        color_mode=color_mode,\n",
        "        batch_size=batch_size,\n",
        "        image_size=img_size[dataset_name],\n",
        "        shuffle=False,\n",
        "        # seed=42,\n",
        "        # validation_split=0.2,\n",
        "        # subset=\"validation\",\n",
        "        interpolation=\"bilinear\",\n",
        "        # follow_links=False,\n",
        "        # crop_to_aspect_ratio=False,\n",
        "        # data_format=None,\n",
        "    )\n",
        "\n",
        "    num_classes = len(class_names)\n",
        "    # print(\"Class names:\", test_dataset.class_names)\n",
        "\n",
        "    # filepath = test_dataset.file_paths\n",
        "    # df_results['filepath'] = filepath\n",
        "\n",
        "\n",
        "    actual = []\n",
        "    for img, label in test_dataset:\n",
        "        actual += np.array(np.argmax(label, axis=-1)).flatten().tolist()\n",
        "    # df_results['actual'] = actual\n",
        "\n",
        "    # Load the model\n",
        "    model = tf_keras.models.load_model(model_path, custom_objects={'Adam': Adam})\n",
        "    modified_model = rename_layers(model)\n",
        "    new_model_path = model_path.replace('.h5', '.keras')\n",
        "    modified_model.save(new_model_path) # Load notice: k3_model = load_model(\"model.keras\", custom_objects={'Adam': tf.keras.optimizers.Adam})\n",
        "    print('Convert saved model successfully from Keras 2 to Keras 3') # Load notice: k3_model = load_model(\"model.keras\", custom_objects={'Adam': tf.keras.optimizers.Adam})\n",
        "\n",
        "    # Make prediction\n",
        "    pred = []\n",
        "    for img, label in test_dataset:\n",
        "        prediction = model.predict(img)\n",
        "        if num_classes == 2:\n",
        "            pred += [1 if i > 0.5 else 0 for i in prediction]\n",
        "        else:\n",
        "            pred += np.argmax(prediction, axis=-1).tolist()\n",
        "\n",
        "    accuracy = accuracy_score(actual, pred)\n",
        "    print(f\"Accuracy: {accuracy * 100:.2f}%\")\n",
        "\n",
        "    # df_results[model_info['name']] = pred\n",
        "\n",
        "    # CM tasks\n",
        "    # calCM(actual, pred, class_names, dataset_name)\n",
        "\n",
        "\n",
        "\n",
        "#   %cd '/content/drive/MyDrive/Colab Notebooks/Thesis/Analysis'\n",
        "#   df_results.to_csv(dataset_info['name'] +'_prediction.csv', index = False)"
      ]
    },
    {
      "cell_type": "code",
      "source": [
        "test_model(0)"
      ],
      "metadata": {
        "colab": {
          "base_uri": "https://localhost:8080/",
          "height": 1000
        },
        "id": "mopl0NT7uyjL",
        "outputId": "92bd0964-ea9f-46dd-de8e-22123ad15f90"
      },
      "execution_count": null,
      "outputs": [
        {
          "output_type": "stream",
          "name": "stdout",
          "text": [
            "dataset: COVID19_Pneumonia_Normal_Chest_Xray_PA_Dataset, path: /content/drive/MyDrive/Colab Notebooks/Thesis/Analysis/test_dataset/COVID19_Pneumonia_Normal_Chest_Xray_PA_Median, model path: /content/drive/MyDrive/Colab Notebooks/Thesis/Analysis/model/01_07_02_best_model_val_acc.h5, class_names: ['covid', 'normal', 'pneumonia']\n",
            "Found 1387 files belonging to 3 classes.\n"
          ]
        },
        {
          "output_type": "stream",
          "name": "stderr",
          "text": [
            "/usr/local/lib/python3.10/dist-packages/tf_keras/src/engine/training.py:3098: UserWarning: You are saving your model as an HDF5 file via `model.save()`. This file format is considered legacy. We recommend using instead the native TF-Keras format, e.g. `model.save('my_model.keras')`.\n",
            "  saving_api.save_model(\n"
          ]
        },
        {
          "output_type": "stream",
          "name": "stdout",
          "text": [
            "Convert saved model successfully from Keras 2 to Keras 3\n",
            "1/1 [==============================] - 2s 2s/step\n",
            "1/1 [==============================] - 0s 94ms/step\n",
            "1/1 [==============================] - 0s 64ms/step\n",
            "1/1 [==============================] - 0s 69ms/step\n",
            "1/1 [==============================] - 0s 65ms/step\n",
            "1/1 [==============================] - 0s 57ms/step\n",
            "1/1 [==============================] - 0s 43ms/step\n",
            "1/1 [==============================] - 0s 72ms/step\n",
            "1/1 [==============================] - 0s 69ms/step\n",
            "1/1 [==============================] - 0s 73ms/step\n",
            "1/1 [==============================] - 0s 58ms/step\n",
            "1/1 [==============================] - 0s 57ms/step\n",
            "1/1 [==============================] - 0s 79ms/step\n",
            "1/1 [==============================] - 0s 79ms/step\n",
            "1/1 [==============================] - 0s 94ms/step\n",
            "1/1 [==============================] - 0s 56ms/step\n",
            "1/1 [==============================] - 0s 46ms/step\n",
            "1/1 [==============================] - 0s 71ms/step\n",
            "1/1 [==============================] - 0s 83ms/step\n",
            "1/1 [==============================] - 0s 90ms/step\n",
            "1/1 [==============================] - 0s 59ms/step\n",
            "1/1 [==============================] - 0s 65ms/step\n",
            "1/1 [==============================] - 0s 54ms/step\n",
            "1/1 [==============================] - 0s 61ms/step\n",
            "1/1 [==============================] - 0s 77ms/step\n",
            "1/1 [==============================] - 0s 93ms/step\n",
            "1/1 [==============================] - 0s 61ms/step\n",
            "1/1 [==============================] - 0s 83ms/step\n",
            "1/1 [==============================] - 0s 65ms/step\n",
            "1/1 [==============================] - 0s 67ms/step\n",
            "1/1 [==============================] - 0s 55ms/step\n",
            "1/1 [==============================] - 0s 86ms/step\n",
            "1/1 [==============================] - 0s 194ms/step\n",
            "1/1 [==============================] - 0s 147ms/step\n",
            "1/1 [==============================] - 0s 127ms/step\n",
            "1/1 [==============================] - 0s 145ms/step\n",
            "1/1 [==============================] - 0s 99ms/step\n",
            "1/1 [==============================] - 0s 134ms/step\n",
            "1/1 [==============================] - 0s 118ms/step\n",
            "1/1 [==============================] - 0s 183ms/step\n",
            "1/1 [==============================] - 0s 159ms/step\n",
            "1/1 [==============================] - 0s 86ms/step\n",
            "1/1 [==============================] - 0s 62ms/step\n",
            "1/1 [==============================] - 2s 2s/step\n"
          ]
        },
        {
          "output_type": "display_data",
          "data": {
            "text/plain": [
              "<Figure size 480x400 with 2 Axes>"
            ],
            "image/png": "[encoded data removed]"
          },
          "metadata": {}
        }
      ]
    },
    {
      "cell_type": "code",
      "source": [
        "from tqdm import tqdm\n",
        "\n",
        "for idx in tqdm(range(len(models_data))):\n",
        "    print()\n",
        "    test_model(idx)"
      ],
      "metadata": {
        "colab": {
          "base_uri": "https://localhost:8080/",
          "height": 428
        },
        "id": "1-mzzaukNkkg",
        "outputId": "f8f559b7-3921-4b50-fcb1-70bab3c6bd02"
      },
      "execution_count": null,
      "outputs": [
        {
          "output_type": "stream",
          "name": "stderr",
          "text": [
            "\r  0%|          | 0/8 [00:00<?, ?it/s]"
          ]
        },
        {
          "output_type": "stream",
          "name": "stdout",
          "text": [
            "\n",
            "dataset: COVID19_Pneumonia_Normal_Chest_Xray_PA_Dataset, path: /content/drive/MyDrive/Colab Notebooks/Thesis/Analysis/test_dataset/COVID19_Pneumonia_Normal_Chest_Xray_PA_Median, model path: /content/drive/MyDrive/Colab Notebooks/Thesis/Analysis/model/01_07_02_best_model_val_acc.h5, class_names: ['covid', 'normal', 'pneumonia']\n",
            "Found 1387 files belonging to 3 classes.\n"
          ]
        },
        {
          "output_type": "stream",
          "name": "stderr",
          "text": [
            "\r  0%|          | 0/8 [00:16<?, ?it/s]\n"
          ]
        },
        {
          "output_type": "error",
          "ename": "ValueError",
          "evalue": "Expected object to be an instance of `KerasSaveable`, but got <tf_keras.src.engine.functional.Functional object at 0x7fab018e7040> of type <class 'tf_keras.src.engine.functional.Functional'>",
          "traceback": [
            "\u001b[0;31m---------------------------------------------------------------------------\u001b[0m",
            "\u001b[0;31mValueError\u001b[0m                                Traceback (most recent call last)",
            "\u001b[0;32m<ipython-input-61-e8401d33345a>\u001b[0m in \u001b[0;36m<cell line: 3>\u001b[0;34m()\u001b[0m\n\u001b[1;32m      3\u001b[0m \u001b[0;32mfor\u001b[0m \u001b[0midx\u001b[0m \u001b[0;32min\u001b[0m \u001b[0mtqdm\u001b[0m\u001b[0;34m(\u001b[0m\u001b[0mrange\u001b[0m\u001b[0;34m(\u001b[0m\u001b[0mlen\u001b[0m\u001b[0;34m(\u001b[0m\u001b[0mmodels_data\u001b[0m\u001b[0;34m)\u001b[0m\u001b[0;34m)\u001b[0m\u001b[0;34m)\u001b[0m\u001b[0;34m:\u001b[0m\u001b[0;34m\u001b[0m\u001b[0;34m\u001b[0m\u001b[0m\n\u001b[1;32m      4\u001b[0m     \u001b[0mprint\u001b[0m\u001b[0;34m(\u001b[0m\u001b[0;34m)\u001b[0m\u001b[0;34m\u001b[0m\u001b[0;34m\u001b[0m\u001b[0m\n\u001b[0;32m----> 5\u001b[0;31m     \u001b[0mtest_model\u001b[0m\u001b[0;34m(\u001b[0m\u001b[0midx\u001b[0m\u001b[0;34m)\u001b[0m\u001b[0;34m\u001b[0m\u001b[0;34m\u001b[0m\u001b[0m\n\u001b[0m",
            "\u001b[0;32m<ipython-input-60-e6a38c34f152>\u001b[0m in \u001b[0;36mtest_model\u001b[0;34m(index)\u001b[0m\n\u001b[1;32m     71\u001b[0m \u001b[0;34m\u001b[0m\u001b[0m\n\u001b[1;32m     72\u001b[0m     \u001b[0;31m# Load model Keras 3\u001b[0m\u001b[0;34m\u001b[0m\u001b[0;34m\u001b[0m\u001b[0m\n\u001b[0;32m---> 73\u001b[0;31m     \u001b[0mk3_model\u001b[0m \u001b[0;34m=\u001b[0m \u001b[0mtf\u001b[0m\u001b[0;34m.\u001b[0m\u001b[0mkeras\u001b[0m\u001b[0;34m.\u001b[0m\u001b[0mmodels\u001b[0m\u001b[0;34m.\u001b[0m\u001b[0mload_model\u001b[0m\u001b[0;34m(\u001b[0m\u001b[0mnew_model_path\u001b[0m\u001b[0;34m)\u001b[0m\u001b[0;34m\u001b[0m\u001b[0;34m\u001b[0m\u001b[0m\n\u001b[0m\u001b[1;32m     74\u001b[0m \u001b[0;34m\u001b[0m\u001b[0m\n\u001b[1;32m     75\u001b[0m \u001b[0;34m\u001b[0m\u001b[0m\n",
            "\u001b[0;32m/usr/local/lib/python3.10/dist-packages/keras/src/saving/saving_api.py\u001b[0m in \u001b[0;36mload_model\u001b[0;34m(filepath, custom_objects, compile, safe_mode)\u001b[0m\n\u001b[1;32m    185\u001b[0m \u001b[0;34m\u001b[0m\u001b[0m\n\u001b[1;32m    186\u001b[0m     \u001b[0;32mif\u001b[0m \u001b[0mis_keras_zip\u001b[0m \u001b[0;32mor\u001b[0m \u001b[0mis_keras_dir\u001b[0m\u001b[0;34m:\u001b[0m\u001b[0;34m\u001b[0m\u001b[0;34m\u001b[0m\u001b[0m\n\u001b[0;32m--> 187\u001b[0;31m         return saving_lib.load_model(\n\u001b[0m\u001b[1;32m    188\u001b[0m             \u001b[0mfilepath\u001b[0m\u001b[0;34m,\u001b[0m\u001b[0;34m\u001b[0m\u001b[0;34m\u001b[0m\u001b[0m\n\u001b[1;32m    189\u001b[0m             \u001b[0mcustom_objects\u001b[0m\u001b[0;34m=\u001b[0m\u001b[0mcustom_objects\u001b[0m\u001b[0;34m,\u001b[0m\u001b[0;34m\u001b[0m\u001b[0;34m\u001b[0m\u001b[0m\n",
            "\u001b[0;32m/usr/local/lib/python3.10/dist-packages/keras/src/saving/saving_lib.py\u001b[0m in \u001b[0;36mload_model\u001b[0;34m(filepath, custom_objects, compile, safe_mode)\u001b[0m\n\u001b[1;32m    363\u001b[0m             )\n\u001b[1;32m    364\u001b[0m         \u001b[0;32mwith\u001b[0m \u001b[0mopen\u001b[0m\u001b[0;34m(\u001b[0m\u001b[0mfilepath\u001b[0m\u001b[0;34m,\u001b[0m \u001b[0;34m\"rb\"\u001b[0m\u001b[0;34m)\u001b[0m \u001b[0;32mas\u001b[0m \u001b[0mf\u001b[0m\u001b[0;34m:\u001b[0m\u001b[0;34m\u001b[0m\u001b[0;34m\u001b[0m\u001b[0m\n\u001b[0;32m--> 365\u001b[0;31m             return _load_model_from_fileobj(\n\u001b[0m\u001b[1;32m    366\u001b[0m                 \u001b[0mf\u001b[0m\u001b[0;34m,\u001b[0m \u001b[0mcustom_objects\u001b[0m\u001b[0;34m,\u001b[0m \u001b[0mcompile\u001b[0m\u001b[0;34m,\u001b[0m \u001b[0msafe_mode\u001b[0m\u001b[0;34m\u001b[0m\u001b[0;34m\u001b[0m\u001b[0m\n\u001b[1;32m    367\u001b[0m             )\n",
            "\u001b[0;32m/usr/local/lib/python3.10/dist-packages/keras/src/saving/saving_lib.py\u001b[0m in \u001b[0;36m_load_model_from_fileobj\u001b[0;34m(fileobj, custom_objects, compile, safe_mode)\u001b[0m\n\u001b[1;32m    487\u001b[0m             \u001b[0mfailed_saveables\u001b[0m \u001b[0;34m=\u001b[0m \u001b[0mset\u001b[0m\u001b[0;34m(\u001b[0m\u001b[0;34m)\u001b[0m\u001b[0;34m\u001b[0m\u001b[0;34m\u001b[0m\u001b[0m\n\u001b[1;32m    488\u001b[0m             \u001b[0merror_msgs\u001b[0m \u001b[0;34m=\u001b[0m \u001b[0;34m{\u001b[0m\u001b[0;34m}\u001b[0m\u001b[0;34m\u001b[0m\u001b[0;34m\u001b[0m\u001b[0m\n\u001b[0;32m--> 489\u001b[0;31m             _load_state(\n\u001b[0m\u001b[1;32m    490\u001b[0m                 \u001b[0mmodel\u001b[0m\u001b[0;34m,\u001b[0m\u001b[0;34m\u001b[0m\u001b[0;34m\u001b[0m\u001b[0m\n\u001b[1;32m    491\u001b[0m                 \u001b[0mweights_store\u001b[0m\u001b[0;34m=\u001b[0m\u001b[0mweights_store\u001b[0m\u001b[0;34m,\u001b[0m\u001b[0;34m\u001b[0m\u001b[0;34m\u001b[0m\u001b[0m\n",
            "\u001b[0;32m/usr/local/lib/python3.10/dist-packages/keras/src/saving/saving_lib.py\u001b[0m in \u001b[0;36m_load_state\u001b[0;34m(saveable, weights_store, assets_store, inner_path, skip_mismatch, visited_saveables, failed_saveables, error_msgs)\u001b[0m\n\u001b[1;32m    736\u001b[0m \u001b[0;34m\u001b[0m\u001b[0m\n\u001b[1;32m    737\u001b[0m     \u001b[0;31m# Recursively load states for Keras saveables such as layers/optimizers.\u001b[0m\u001b[0;34m\u001b[0m\u001b[0;34m\u001b[0m\u001b[0m\n\u001b[0;32m--> 738\u001b[0;31m     \u001b[0;32mfor\u001b[0m \u001b[0mchild_attr\u001b[0m\u001b[0;34m,\u001b[0m \u001b[0mchild_obj\u001b[0m \u001b[0;32min\u001b[0m \u001b[0m_walk_saveable\u001b[0m\u001b[0;34m(\u001b[0m\u001b[0msaveable\u001b[0m\u001b[0;34m)\u001b[0m\u001b[0;34m:\u001b[0m\u001b[0;34m\u001b[0m\u001b[0;34m\u001b[0m\u001b[0m\n\u001b[0m\u001b[1;32m    739\u001b[0m         \u001b[0;32mif\u001b[0m \u001b[0misinstance\u001b[0m\u001b[0;34m(\u001b[0m\u001b[0mchild_obj\u001b[0m\u001b[0;34m,\u001b[0m \u001b[0mKerasSaveable\u001b[0m\u001b[0;34m)\u001b[0m\u001b[0;34m:\u001b[0m\u001b[0;34m\u001b[0m\u001b[0;34m\u001b[0m\u001b[0m\n\u001b[1;32m    740\u001b[0m             _load_state(\n",
            "\u001b[0;32m/usr/local/lib/python3.10/dist-packages/keras/src/saving/saving_lib.py\u001b[0m in \u001b[0;36m_walk_saveable\u001b[0;34m(saveable)\u001b[0m\n\u001b[1;32m    621\u001b[0m \u001b[0;34m\u001b[0m\u001b[0m\n\u001b[1;32m    622\u001b[0m     \u001b[0;32mif\u001b[0m \u001b[0;32mnot\u001b[0m \u001b[0misinstance\u001b[0m\u001b[0;34m(\u001b[0m\u001b[0msaveable\u001b[0m\u001b[0;34m,\u001b[0m \u001b[0mKerasSaveable\u001b[0m\u001b[0;34m)\u001b[0m\u001b[0;34m:\u001b[0m\u001b[0;34m\u001b[0m\u001b[0;34m\u001b[0m\u001b[0m\n\u001b[0;32m--> 623\u001b[0;31m         raise ValueError(\n\u001b[0m\u001b[1;32m    624\u001b[0m             \u001b[0;34m\"Expected object to be an \"\u001b[0m\u001b[0;34m\u001b[0m\u001b[0;34m\u001b[0m\u001b[0m\n\u001b[1;32m    625\u001b[0m             \u001b[0;34m\"instance of `KerasSaveable`, but \"\u001b[0m\u001b[0;34m\u001b[0m\u001b[0;34m\u001b[0m\u001b[0m\n",
            "\u001b[0;31mValueError\u001b[0m: Expected object to be an instance of `KerasSaveable`, but got <tf_keras.src.engine.functional.Functional object at 0x7fab018e7040> of type <class 'tf_keras.src.engine.functional.Functional'>"
          ]
        }
      ]
    },
    {
      "cell_type": "code",
      "source": [
        "models_k3_data =  {\n",
        "    'COVID19_Pneumonia_Normal_Chest_Xray_PA_Dataset': model_root + '01_07_02_best_model_val_acc.keras',\\\n",
        "    'Osteoporosis Knee X-ray Dataset': model_root + '02_08_03_best_model_val_acc.keras',\\\n",
        "    'Chest CT-Scan images Dataset': model_root + '03_03_01_best_model_val_acc.keras',\\\n",
        "    'Brain Stroke CT Image Dataset': model_root + '09_07_05_best_model_val_acc.keras',\\\n",
        "    'Brain Tumor MRI Dataset': model_root + '04_07_01_best_model_val_acc.keras',\\\n",
        "    'Breast Cancer Patients MRI': model_root + '07_08_05_best_model_val_acc.keras',\\\n",
        "    'Ultrasound Breast Images for Breast Cancer': model_root + '05_08_01_best_model_val_acc.keras',\\\n",
        "    'MT_Small_Dataset': model_root + '08_08_01_best_model_val_acc.keras'\n",
        "}\n",
        "\n",
        "# test_model = tf.keras.models.load_model(models_k3_data['COVID19_Pneumonia_Normal_Chest_Xray_PA_Dataset'])\n",
        "test_model = tf.keras.models.load_model('/content/drive/MyDrive/Colab Notebooks/Thesis/Analysis/model/01_07_02_best_model_val_acc.keras')\n",
        "print(test_model)"
      ],
      "metadata": {
        "colab": {
          "base_uri": "https://localhost:8080/",
          "height": 356
        },
        "id": "irX1m6IuVhft",
        "outputId": "4364f1bf-f243-491d-d554-84ba593b063b"
      },
      "execution_count": null,
      "outputs": [
        {
          "output_type": "error",
          "ename": "ValueError",
          "evalue": "Expected object to be an instance of `KerasSaveable`, but got <tf_keras.src.engine.functional.Functional object at 0x7faa50a879a0> of type <class 'tf_keras.src.engine.functional.Functional'>",
          "traceback": [
            "\u001b[0;31m---------------------------------------------------------------------------\u001b[0m",
            "\u001b[0;31mValueError\u001b[0m                                Traceback (most recent call last)",
            "\u001b[0;32m<ipython-input-39-0ab14ba9db4b>\u001b[0m in \u001b[0;36m<cell line: 13>\u001b[0;34m()\u001b[0m\n\u001b[1;32m     11\u001b[0m \u001b[0;34m\u001b[0m\u001b[0m\n\u001b[1;32m     12\u001b[0m \u001b[0;31m# test_model = tf.keras.models.load_model(models_k3_data['COVID19_Pneumonia_Normal_Chest_Xray_PA_Dataset'])\u001b[0m\u001b[0;34m\u001b[0m\u001b[0;34m\u001b[0m\u001b[0m\n\u001b[0;32m---> 13\u001b[0;31m \u001b[0mtest_model\u001b[0m \u001b[0;34m=\u001b[0m \u001b[0mtf\u001b[0m\u001b[0;34m.\u001b[0m\u001b[0mkeras\u001b[0m\u001b[0;34m.\u001b[0m\u001b[0mmodels\u001b[0m\u001b[0;34m.\u001b[0m\u001b[0mload_model\u001b[0m\u001b[0;34m(\u001b[0m\u001b[0;34m'/content/drive/MyDrive/Colab Notebooks/Thesis/Analysis/model/01_07_02_best_model_val_acc.keras'\u001b[0m\u001b[0;34m)\u001b[0m\u001b[0;34m\u001b[0m\u001b[0;34m\u001b[0m\u001b[0m\n\u001b[0m\u001b[1;32m     14\u001b[0m \u001b[0mprint\u001b[0m\u001b[0;34m(\u001b[0m\u001b[0mtest_model\u001b[0m\u001b[0;34m)\u001b[0m\u001b[0;34m\u001b[0m\u001b[0;34m\u001b[0m\u001b[0m\n",
            "\u001b[0;32m/usr/local/lib/python3.10/dist-packages/keras/src/saving/saving_api.py\u001b[0m in \u001b[0;36mload_model\u001b[0;34m(filepath, custom_objects, compile, safe_mode)\u001b[0m\n\u001b[1;32m    185\u001b[0m \u001b[0;34m\u001b[0m\u001b[0m\n\u001b[1;32m    186\u001b[0m     \u001b[0;32mif\u001b[0m \u001b[0mis_keras_zip\u001b[0m \u001b[0;32mor\u001b[0m \u001b[0mis_keras_dir\u001b[0m\u001b[0;34m:\u001b[0m\u001b[0;34m\u001b[0m\u001b[0;34m\u001b[0m\u001b[0m\n\u001b[0;32m--> 187\u001b[0;31m         return saving_lib.load_model(\n\u001b[0m\u001b[1;32m    188\u001b[0m             \u001b[0mfilepath\u001b[0m\u001b[0;34m,\u001b[0m\u001b[0;34m\u001b[0m\u001b[0;34m\u001b[0m\u001b[0m\n\u001b[1;32m    189\u001b[0m             \u001b[0mcustom_objects\u001b[0m\u001b[0;34m=\u001b[0m\u001b[0mcustom_objects\u001b[0m\u001b[0;34m,\u001b[0m\u001b[0;34m\u001b[0m\u001b[0;34m\u001b[0m\u001b[0m\n",
            "\u001b[0;32m/usr/local/lib/python3.10/dist-packages/keras/src/saving/saving_lib.py\u001b[0m in \u001b[0;36mload_model\u001b[0;34m(filepath, custom_objects, compile, safe_mode)\u001b[0m\n\u001b[1;32m    363\u001b[0m             )\n\u001b[1;32m    364\u001b[0m         \u001b[0;32mwith\u001b[0m \u001b[0mopen\u001b[0m\u001b[0;34m(\u001b[0m\u001b[0mfilepath\u001b[0m\u001b[0;34m,\u001b[0m \u001b[0;34m\"rb\"\u001b[0m\u001b[0;34m)\u001b[0m \u001b[0;32mas\u001b[0m \u001b[0mf\u001b[0m\u001b[0;34m:\u001b[0m\u001b[0;34m\u001b[0m\u001b[0;34m\u001b[0m\u001b[0m\n\u001b[0;32m--> 365\u001b[0;31m             return _load_model_from_fileobj(\n\u001b[0m\u001b[1;32m    366\u001b[0m                 \u001b[0mf\u001b[0m\u001b[0;34m,\u001b[0m \u001b[0mcustom_objects\u001b[0m\u001b[0;34m,\u001b[0m \u001b[0mcompile\u001b[0m\u001b[0;34m,\u001b[0m \u001b[0msafe_mode\u001b[0m\u001b[0;34m\u001b[0m\u001b[0;34m\u001b[0m\u001b[0m\n\u001b[1;32m    367\u001b[0m             )\n",
            "\u001b[0;32m/usr/local/lib/python3.10/dist-packages/keras/src/saving/saving_lib.py\u001b[0m in \u001b[0;36m_load_model_from_fileobj\u001b[0;34m(fileobj, custom_objects, compile, safe_mode)\u001b[0m\n\u001b[1;32m    487\u001b[0m             \u001b[0mfailed_saveables\u001b[0m \u001b[0;34m=\u001b[0m \u001b[0mset\u001b[0m\u001b[0;34m(\u001b[0m\u001b[0;34m)\u001b[0m\u001b[0;34m\u001b[0m\u001b[0;34m\u001b[0m\u001b[0m\n\u001b[1;32m    488\u001b[0m             \u001b[0merror_msgs\u001b[0m \u001b[0;34m=\u001b[0m \u001b[0;34m{\u001b[0m\u001b[0;34m}\u001b[0m\u001b[0;34m\u001b[0m\u001b[0;34m\u001b[0m\u001b[0m\n\u001b[0;32m--> 489\u001b[0;31m             _load_state(\n\u001b[0m\u001b[1;32m    490\u001b[0m                 \u001b[0mmodel\u001b[0m\u001b[0;34m,\u001b[0m\u001b[0;34m\u001b[0m\u001b[0;34m\u001b[0m\u001b[0m\n\u001b[1;32m    491\u001b[0m                 \u001b[0mweights_store\u001b[0m\u001b[0;34m=\u001b[0m\u001b[0mweights_store\u001b[0m\u001b[0;34m,\u001b[0m\u001b[0;34m\u001b[0m\u001b[0;34m\u001b[0m\u001b[0m\n",
            "\u001b[0;32m/usr/local/lib/python3.10/dist-packages/keras/src/saving/saving_lib.py\u001b[0m in \u001b[0;36m_load_state\u001b[0;34m(saveable, weights_store, assets_store, inner_path, skip_mismatch, visited_saveables, failed_saveables, error_msgs)\u001b[0m\n\u001b[1;32m    736\u001b[0m \u001b[0;34m\u001b[0m\u001b[0m\n\u001b[1;32m    737\u001b[0m     \u001b[0;31m# Recursively load states for Keras saveables such as layers/optimizers.\u001b[0m\u001b[0;34m\u001b[0m\u001b[0;34m\u001b[0m\u001b[0m\n\u001b[0;32m--> 738\u001b[0;31m     \u001b[0;32mfor\u001b[0m \u001b[0mchild_attr\u001b[0m\u001b[0;34m,\u001b[0m \u001b[0mchild_obj\u001b[0m \u001b[0;32min\u001b[0m \u001b[0m_walk_saveable\u001b[0m\u001b[0;34m(\u001b[0m\u001b[0msaveable\u001b[0m\u001b[0;34m)\u001b[0m\u001b[0;34m:\u001b[0m\u001b[0;34m\u001b[0m\u001b[0;34m\u001b[0m\u001b[0m\n\u001b[0m\u001b[1;32m    739\u001b[0m         \u001b[0;32mif\u001b[0m \u001b[0misinstance\u001b[0m\u001b[0;34m(\u001b[0m\u001b[0mchild_obj\u001b[0m\u001b[0;34m,\u001b[0m \u001b[0mKerasSaveable\u001b[0m\u001b[0;34m)\u001b[0m\u001b[0;34m:\u001b[0m\u001b[0;34m\u001b[0m\u001b[0;34m\u001b[0m\u001b[0m\n\u001b[1;32m    740\u001b[0m             _load_state(\n",
            "\u001b[0;32m/usr/local/lib/python3.10/dist-packages/keras/src/saving/saving_lib.py\u001b[0m in \u001b[0;36m_walk_saveable\u001b[0;34m(saveable)\u001b[0m\n\u001b[1;32m    621\u001b[0m \u001b[0;34m\u001b[0m\u001b[0m\n\u001b[1;32m    622\u001b[0m     \u001b[0;32mif\u001b[0m \u001b[0;32mnot\u001b[0m \u001b[0misinstance\u001b[0m\u001b[0;34m(\u001b[0m\u001b[0msaveable\u001b[0m\u001b[0;34m,\u001b[0m \u001b[0mKerasSaveable\u001b[0m\u001b[0;34m)\u001b[0m\u001b[0;34m:\u001b[0m\u001b[0;34m\u001b[0m\u001b[0;34m\u001b[0m\u001b[0m\n\u001b[0;32m--> 623\u001b[0;31m         raise ValueError(\n\u001b[0m\u001b[1;32m    624\u001b[0m             \u001b[0;34m\"Expected object to be an \"\u001b[0m\u001b[0;34m\u001b[0m\u001b[0;34m\u001b[0m\u001b[0m\n\u001b[1;32m    625\u001b[0m             \u001b[0;34m\"instance of `KerasSaveable`, but \"\u001b[0m\u001b[0;34m\u001b[0m\u001b[0;34m\u001b[0m\u001b[0m\n",
            "\u001b[0;31mValueError\u001b[0m: Expected object to be an instance of `KerasSaveable`, but got <tf_keras.src.engine.functional.Functional object at 0x7faa50a879a0> of type <class 'tf_keras.src.engine.functional.Functional'>"
          ]
        }
      ]
    },
    {
      "cell_type": "markdown",
      "metadata": {
        "id": "66ScT8Uf4C6a"
      },
      "source": [
        "## Prediction v2"
      ]
    },
    {
      "cell_type": "code",
      "execution_count": null,
      "metadata": {
        "id": "lDBCQ-0C4C6i"
      },
      "outputs": [],
      "source": [
        "import os\n",
        "import pandas as pd\n",
        "import numpy as np\n",
        "import tensorflow as tf\n",
        "from tensorflow.keras.models import load_model\n",
        "from tensorflow.keras.preprocessing import image_dataset_from_directory"
      ]
    },
    {
      "cell_type": "code",
      "source": [
        "global testsets_data\n",
        "testsets_data = {\n",
        "    '01_00': '/content/drive/MyDrive/Colab Notebooks/Thesis/Analysis/test_dataset/01_00',\n",
        "    '01_02': '/content/drive/MyDrive/Colab Notebooks/Thesis/Analysis/test_dataset/01_02',\n",
        "    '01_03': '/content/drive/MyDrive/Colab Notebooks/Thesis/Analysis/test_dataset/01_03',\n",
        "    '01_04': '/content/drive/MyDrive/Colab Notebooks/Thesis/Analysis/test_dataset/01_04',\n",
        "    '01_07': '/content/drive/MyDrive/Colab Notebooks/Thesis/Analysis/test_dataset/01_07',\n",
        "    '01_08': '/content/drive/MyDrive/Colab Notebooks/Thesis/Analysis/test_dataset/01_08',\n",
        "    '02_00': '/content/drive/MyDrive/Colab Notebooks/Thesis/Analysis/test_dataset/02_00',\n",
        "    '02_02': '/content/drive/MyDrive/Colab Notebooks/Thesis/Analysis/test_dataset/02_02',\n",
        "    '02_03': '/content/drive/MyDrive/Colab Notebooks/Thesis/Analysis/test_dataset/02_03',\n",
        "    '02_04': '/content/drive/MyDrive/Colab Notebooks/Thesis/Analysis/test_dataset/02_04',\n",
        "    '02_07': '/content/drive/MyDrive/Colab Notebooks/Thesis/Analysis/test_dataset/02_07',\n",
        "    '02_08': '/content/drive/MyDrive/Colab Notebooks/Thesis/Analysis/test_dataset/02_08',\n",
        "    '03_00': '/content/drive/MyDrive/Colab Notebooks/Thesis/Analysis/test_dataset/03_00',\n",
        "    '03_02': '/content/drive/MyDrive/Colab Notebooks/Thesis/Analysis/test_dataset/03_02',\n",
        "    '03_03': '/content/drive/MyDrive/Colab Notebooks/Thesis/Analysis/test_dataset/03_03',\n",
        "    '03_04': '/content/drive/MyDrive/Colab Notebooks/Thesis/Analysis/test_dataset/03_04',\n",
        "    '03_07': '/content/drive/MyDrive/Colab Notebooks/Thesis/Analysis/test_dataset/03_07',\n",
        "    '03_08': '/content/drive/MyDrive/Colab Notebooks/Thesis/Analysis/test_dataset/03_08',\n",
        "    '04_00': '/content/drive/MyDrive/Colab Notebooks/Thesis/Analysis/test_dataset/04_00',\n",
        "    '04_02': '/content/drive/MyDrive/Colab Notebooks/Thesis/Analysis/test_dataset/04_02',\n",
        "    '04_03': '/content/drive/MyDrive/Colab Notebooks/Thesis/Analysis/test_dataset/04_03',\n",
        "    '04_04': '/content/drive/MyDrive/Colab Notebooks/Thesis/Analysis/test_dataset/04_04',\n",
        "    '04_07': '/content/drive/MyDrive/Colab Notebooks/Thesis/Analysis/test_dataset/04_07',\n",
        "    '04_08': '/content/drive/MyDrive/Colab Notebooks/Thesis/Analysis/test_dataset/04_08',\n",
        "    '05_00': '/content/drive/MyDrive/Colab Notebooks/Thesis/Analysis/test_dataset/05_00',\n",
        "    '05_02': '/content/drive/MyDrive/Colab Notebooks/Thesis/Analysis/test_dataset/05_02',\n",
        "    '05_03': '/content/drive/MyDrive/Colab Notebooks/Thesis/Analysis/test_dataset/05_03',\n",
        "    '05_04': '/content/drive/MyDrive/Colab Notebooks/Thesis/Analysis/test_dataset/05_04',\n",
        "    '05_07': '/content/drive/MyDrive/Colab Notebooks/Thesis/Analysis/test_dataset/05_07',\n",
        "    '05_08': '/content/drive/MyDrive/Colab Notebooks/Thesis/Analysis/test_dataset/05_08',\n",
        "    '07_00': '/content/drive/MyDrive/Colab Notebooks/Thesis/Analysis/test_dataset/07_00',\n",
        "    '07_02': '/content/drive/MyDrive/Colab Notebooks/Thesis/Analysis/test_dataset/07_02',\n",
        "    '07_03': '/content/drive/MyDrive/Colab Notebooks/Thesis/Analysis/test_dataset/07_03',\n",
        "    '07_04': '/content/drive/MyDrive/Colab Notebooks/Thesis/Analysis/test_dataset/07_04',\n",
        "    '07_07': '/content/drive/MyDrive/Colab Notebooks/Thesis/Analysis/test_dataset/07_07',\n",
        "    '07_08': '/content/drive/MyDrive/Colab Notebooks/Thesis/Analysis/test_dataset/07_08',\n",
        "    '08_00': '/content/drive/MyDrive/Colab Notebooks/Thesis/Analysis/test_dataset/08_00',\n",
        "    '08_02': '/content/drive/MyDrive/Colab Notebooks/Thesis/Analysis/test_dataset/08_02',\n",
        "    '08_03': '/content/drive/MyDrive/Colab Notebooks/Thesis/Analysis/test_dataset/08_03',\n",
        "    '08_04': '/content/drive/MyDrive/Colab Notebooks/Thesis/Analysis/test_dataset/08_04',\n",
        "    '08_07': '/content/drive/MyDrive/Colab Notebooks/Thesis/Analysis/test_dataset/08_07',\n",
        "    '08_08': '/content/drive/MyDrive/Colab Notebooks/Thesis/Analysis/test_dataset/08_08',\n",
        "    '09_00': '/content/drive/MyDrive/Colab Notebooks/Thesis/Analysis/test_dataset/09_00',\n",
        "    '09_02': '/content/drive/MyDrive/Colab Notebooks/Thesis/Analysis/test_dataset/09_02',\n",
        "    '09_03': '/content/drive/MyDrive/Colab Notebooks/Thesis/Analysis/test_dataset/09_03',\n",
        "    '09_04': '/content/drive/MyDrive/Colab Notebooks/Thesis/Analysis/test_dataset/09_04',\n",
        "    '09_07': '/content/drive/MyDrive/Colab Notebooks/Thesis/Analysis/test_dataset/09_07',\n",
        "    '09_08': '/content/drive/MyDrive/Colab Notebooks/Thesis/Analysis/test_dataset/09_08',\n",
        "}\n",
        "\n",
        "count = 0\n",
        "for dataset_path in testsets_data:\n",
        "    if not os.path.exists(testsets_data[dataset_path]):\n",
        "        count += 1\n",
        "        print(f\"The path '{path}' does not exist.\")\n",
        "if count == 0:\n",
        "    print('All paths are available')\n"
      ],
      "metadata": {
        "colab": {
          "base_uri": "https://localhost:8080/"
        },
        "id": "ZI4L0VwFI2_K",
        "outputId": "dacd3d4a-a8f5-46c8-939f-4d82fa448897"
      },
      "execution_count": null,
      "outputs": [
        {
          "output_type": "stream",
          "name": "stdout",
          "text": [
            "All paths are available\n"
          ]
        }
      ]
    },
    {
      "cell_type": "code",
      "execution_count": null,
      "metadata": {
        "id": "4T7Xu8WH4C6i"
      },
      "outputs": [],
      "source": [
        "# datasets_info = [\n",
        "#     {'name': '01', 'dataset_path': '/content/drive/MyDrive/Colab Notebooks/Thesis/Analysis/test_dataset/COVID19_Pneumonia_Normal_Chest_Xray_PA_Median'},\n",
        "#     {'name': '02', 'dataset_path':'/content/drive/MyDrive/Colab Notebooks/Thesis/Analysis/test_dataset/Osteoporosis-Knee-Xray_unsharpMasking'},\n",
        "#     {'name': '03', 'dataset_path':'/content/drive/MyDrive/Colab Notebooks/Thesis/Analysis/test_dataset/Chest-CT-Scan-images_DWT'},\n",
        "#     {'name': '04', 'dataset_path':'/content/drive/MyDrive/Colab Notebooks/Thesis/Analysis/test_dataset/Brain-Tumor-MRI_Median-Mean-Hybrid_Filter'},\n",
        "#     {'name': '05', 'dataset_path':'/content/drive/MyDrive/Colab Notebooks/Thesis/Analysis/test_dataset/Ultrasound-Breast-Images-for-Breast-Cancer_unsharpMasking_bilateralfilter'},\n",
        "#     {'name': '07', 'dataset_path':'/content/drive/MyDrive/Colab Notebooks/Thesis/Analysis/test_dataset/Breast-Cancer-Patients-MRI_unsharpMasking_bilateralfilter'},\n",
        "#     {'name': '08', 'dataset_path':'/content/drive/MyDrive/Colab Notebooks/Thesis/Analysis/test_dataset/MT-Small-Dataset_Unsharp-Masking_Bilateral_Filter'}\n",
        "#     {'name': '09', 'dataset_path':'/content/drive/MyDrive/Colab Notebooks/Thesis/Analysis/test_dataset/Brain-Stroke-CT-Image-Dataset_Median-Mean-Hybrid-Filter'},\n",
        "#     ]"
      ]
    },
    {
      "cell_type": "code",
      "source": [
        "global models_data\n",
        "models_data = {\n",
        "    '01_00_01': '/content/drive/MyDrive/Colab Notebooks/Thesis/Model/01_00/01_00_01/best_model_val_acc.h5',\n",
        "    '01_02_01': '/content/drive/MyDrive/Colab Notebooks/Thesis/Model/01_02/01_02_01/best_model_val_acc.h5',\n",
        "    '01_03_01': '/content/drive/MyDrive/Colab Notebooks/Thesis/Model/01_03/01_03_01/best_model_val_acc.h5',\n",
        "    '01_04_01': '/content/drive/MyDrive/Colab Notebooks/Thesis/Model/01_04/01_04_01/best_model_val_acc.h5',\n",
        "    '01_07_02': '/content/drive/MyDrive/Colab Notebooks/Thesis/Model/01_07/01_07_02/best_model_val_acc.h5',\n",
        "    '01_08_01': '/content/drive/MyDrive/Colab Notebooks/Thesis/Model/01_08/01_08_01/best_model_val_acc.h5',\n",
        "    '02_00_03': '/content/drive/MyDrive/Colab Notebooks/Thesis/Model/02_00/02_00_03/best_model_val_acc.h5',\n",
        "    '02_02_03': '/content/drive/MyDrive/Colab Notebooks/Thesis/Model/02_02/02_02_03/best_model_val_acc.h5',\n",
        "    '02_03_04': '/content/drive/MyDrive/Colab Notebooks/Thesis/Model/02_03/02_03_04/best_model_val_acc.h5',\n",
        "    '02_04_03': '/content/drive/MyDrive/Colab Notebooks/Thesis/Model/02_04/02_04_03/best_model_val_acc.h5',\n",
        "    '02_07_03': '/content/drive/MyDrive/Colab Notebooks/Thesis/Model/02_07/02_07_03/best_model_val_acc.h5',\n",
        "    '02_08_03': '/content/drive/MyDrive/Colab Notebooks/Thesis/Model/02_08/02_08_03/best_model_val_acc.h5',\n",
        "    '03_00_01': '/content/drive/MyDrive/Colab Notebooks/Thesis/Model/03_00/03_00_01/best_model_val_acc.h5',\n",
        "    '03_02_01': '/content/drive/MyDrive/Colab Notebooks/Thesis/Model/03_02/03_02_01/best_model_val_acc.h5',\n",
        "    '03_03_01': '/content/drive/MyDrive/Colab Notebooks/Thesis/Model/03_03/03_03_01/best_model_val_acc.h5',\n",
        "    '03_04_01': '/content/drive/MyDrive/Colab Notebooks/Thesis/Model/03_04/03_04_01/best_model_val_acc.h5',\n",
        "    '03_07_04': '/content/drive/MyDrive/Colab Notebooks/Thesis/Model/03_07/03_07_04/best_model_val_acc.h5',\n",
        "    '03_08_01': '/content/drive/MyDrive/Colab Notebooks/Thesis/Model/03_08/03_08_01/best_model_val_acc.h5',\n",
        "    '04_00_01': '/content/drive/MyDrive/Colab Notebooks/Thesis/Model/04_00/04_00_01/best_model_val_acc.h5',\n",
        "    '04_02_01': '/content/drive/MyDrive/Colab Notebooks/Thesis/Model/04_02/04_02_01/best_model_val_acc.h5',\n",
        "    '04_03_01': '/content/drive/MyDrive/Colab Notebooks/Thesis/Model/04_03/04_03_01/best_model_val_acc.h5',\n",
        "    '04_04_01': '/content/drive/MyDrive/Colab Notebooks/Thesis/Model/04_04/04_04_01/best_model_val_acc.h5',\n",
        "    '04_07_01': '/content/drive/MyDrive/Colab Notebooks/Thesis/Model/04_07/04_07_01/best_model_val_acc.h5',\n",
        "    '04_08_02': '/content/drive/MyDrive/Colab Notebooks/Thesis/Model/04_08/04_08_02/best_model_val_acc.h5',\n",
        "    '05_00_01': '/content/drive/MyDrive/Colab Notebooks/Thesis/Model/05_00/05_00_01/best_model_val_acc.h5',\n",
        "    '05_02_01': '/content/drive/MyDrive/Colab Notebooks/Thesis/Model/05_02/05_02_01/best_model_val_acc.h5',\n",
        "    '05_03_01': '/content/drive/MyDrive/Colab Notebooks/Thesis/Model/05_03/05_03_01/best_model_val_acc.h5',\n",
        "    '05_04_01': '/content/drive/MyDrive/Colab Notebooks/Thesis/Model/05_04/05_04_01/best_model_val_acc.h5',\n",
        "    '05_07_01': '/content/drive/MyDrive/Colab Notebooks/Thesis/Model/05_07/05_07_01/best_model_val_acc.h5',\n",
        "    '05_08_01': '/content/drive/MyDrive/Colab Notebooks/Thesis/Model/05_08/05_08_01/best_model_val_acc.h5',\n",
        "    '07_00_02': '/content/drive/MyDrive/Colab Notebooks/Thesis/Model/07_00/07_00_02/best_model_val_acc.h5',\n",
        "    '07_02_05': '/content/drive/MyDrive/Colab Notebooks/Thesis/Model/07_02/07_02_05/best_model_val_acc.h5',\n",
        "    '07_03_05': '/content/drive/MyDrive/Colab Notebooks/Thesis/Model/07_03/07_03_05/best_model_val_acc.h5',\n",
        "    '07_04_01': '/content/drive/MyDrive/Colab Notebooks/Thesis/Model/07_04/07_04_01/best_model_val_acc.h5',\n",
        "    '07_07_01': '/content/drive/MyDrive/Colab Notebooks/Thesis/Model/07_07/07_07_01/best_model_val_acc.h5',\n",
        "    '07_08_05': '/content/drive/MyDrive/Colab Notebooks/Thesis/Model/07_08/07_08_05/best_model_val_acc.h5',\n",
        "    '08_00_01': '/content/drive/MyDrive/Colab Notebooks/Thesis/Model/08_00/08_00_01/best_model_val_acc.h5',\n",
        "    '08_02_01': '/content/drive/MyDrive/Colab Notebooks/Thesis/Model/08_02/08_02_01/best_model_val_acc.h5',\n",
        "    '08_03_01': '/content/drive/MyDrive/Colab Notebooks/Thesis/Model/08_03/08_03_01/best_model_val_acc.h5',\n",
        "    '08_04_01': '/content/drive/MyDrive/Colab Notebooks/Thesis/Model/08_04/08_04_01/best_model_val_acc.h5',\n",
        "    '08_07_04': '/content/drive/MyDrive/Colab Notebooks/Thesis/Model/08_07/08_07_04/best_model_val_acc.h5',\n",
        "    '08_08_01': '/content/drive/MyDrive/Colab Notebooks/Thesis/Model/08_08/08_08_01/best_model_val_acc.h5',\n",
        "    '09_00_05': '/content/drive/MyDrive/Colab Notebooks/Thesis/Model/09_00/09_00_05/best_model_val_acc.h5',\n",
        "    '09_02_05': '/content/drive/MyDrive/Colab Notebooks/Thesis/Model/09_02/09_02_05/best_model_val_acc.h5',\n",
        "    '09_03_05': '/content/drive/MyDrive/Colab Notebooks/Thesis/Model/09_03/09_03_05/best_model_val_acc.h5',\n",
        "    '09_04_01': '/content/drive/MyDrive/Colab Notebooks/Thesis/Model/09_04/09_04_01/best_model_val_acc.h5',\n",
        "    '09_07_05': '/content/drive/MyDrive/Colab Notebooks/Thesis/Model/09_07/09_07_05/best_model_val_acc.h5',\n",
        "    '09_08_05': '/content/drive/MyDrive/Colab Notebooks/Thesis/Model/09_08/09_08_05/best_model_val_acc.h5',\n",
        "}\n",
        "\n",
        "count = 0\n",
        "for key in models_data:\n",
        "    if not os.path.exists(models_data[key]):\n",
        "        count += 1\n",
        "        print(f\"The path '{models_data[key]}' does not exist.\")\n",
        "if count == 0:\n",
        "        print('All paths are available')"
      ],
      "metadata": {
        "colab": {
          "base_uri": "https://localhost:8080/"
        },
        "id": "XGzLuGPc7OJX",
        "outputId": "298159a4-1d17-42d9-fa14-ab93d062d2c4"
      },
      "execution_count": null,
      "outputs": [
        {
          "output_type": "stream",
          "name": "stdout",
          "text": [
            "All paths are available\n"
          ]
        }
      ]
    },
    {
      "cell_type": "code",
      "execution_count": null,
      "metadata": {
        "id": "SWkjH-nk4C6i"
      },
      "outputs": [],
      "source": [
        "global main_path, testsets, preprocessing, models, class_names_list\n",
        "main_path = \"/content/drive/MyDrive/Colab Notebooks/Thesis/Analysis\"\n",
        "testsets = ['03', '04', '05', '07', '08', '09'] # '01', '02', '03', '04', '05', '07', '08', '09'\n",
        "preprocessings = ['00', '02', '03', '04', '07', '08']\n",
        "models = ['01', '02', '03', '04', '05']\n",
        "\n",
        "# # Sample\n",
        "testsets = ['09']\n",
        "preprocessings = ['03','08']\n",
        "models = ['05']\n",
        "\n",
        "\n",
        "class_names_list = {\n",
        "    '01': ['covid', 'normal', 'pneumonia'],\n",
        "    '02': ['normal', 'osteoporosis'],\n",
        "    '03': ['adenocarcinoma', 'large.cell.carcinoma', 'normal', 'squamous.cell.carcinoma'], # 'adenocar-\\ncinoma', 'large.cell.\\ncarcinoma', 'normal', 'squamous.cell.\\ncarcinoma'\n",
        "    '04': ['glioma', 'meningioma', 'notumor', 'pituitary'],\n",
        "    '05': ['benign', 'malignant'],\n",
        "    '07': ['Healthy', 'Sick'],\n",
        "    '08': ['Benign', 'Malignant'],\n",
        "    '09': ['Normal', 'Stroke']\n",
        "}"
      ]
    },
    {
      "cell_type": "markdown",
      "source": [
        "### CM"
      ],
      "metadata": {
        "id": "7ll428HVdmoE"
      }
    },
    {
      "cell_type": "code",
      "source": [
        "import matplotlib.pyplot as plt\n",
        "from sklearn.metrics import confusion_matrix\n",
        "import seaborn as sns\n",
        "import pickle\n",
        "import textwrap\n",
        "\n",
        "def wrap_labels(labels, width):\n",
        "    return [textwrap.fill(label, width) for label in labels]\n",
        "\n",
        "def calCM(y_true, y_pred, class_names, savefig_name):\n",
        "    global main_path\n",
        "    savepath = main_path + '/figures/'\n",
        "\n",
        "    # Calculate the confusion matrix\n",
        "    cm = confusion_matrix(y_true, y_pred)\n",
        "    num_classes = len(class_names)\n",
        "    with open(savepath + f'cm_{savefig_name}.pkl', 'wb') as f:\n",
        "        pickle.dump({'cm': cm, 'class_names': class_names}, f)\n",
        "\n",
        "    # Set default fontsize\n",
        "    default_number_fontsize = 14\n",
        "    default_label_fontsize = 9 # 12\n",
        "    default_tick_fontsize = 9 # 10\n",
        "\n",
        "    # Wrap class names to fit within the cell width\n",
        "    wrapped_class_names = wrap_labels(class_names, width=10)\n",
        "\n",
        "    # Adjust fontsize based on the number of classes\n",
        "    if num_classes == 2:\n",
        "        number_fontsize = default_number_fontsize + 8 # 16\n",
        "        label_fontsize = default_label_fontsize # 6\n",
        "        tick_fontsize = default_tick_fontsize # 4\n",
        "    elif num_classes == 3:\n",
        "        number_fontsize = default_number_fontsize + 4 # 12\n",
        "        label_fontsize = default_label_fontsize # 4\n",
        "        tick_fontsize = default_tick_fontsize # 2\n",
        "    elif num_classes == 4:\n",
        "        number_fontsize = default_number_fontsize + 2 # 8\n",
        "        label_fontsize = default_label_fontsize # 2\n",
        "        tick_fontsize = default_tick_fontsize # 1\n",
        "    elif num_classes == 5:\n",
        "        number_fontsize = default_number_fontsize + 0 # 4\n",
        "        label_fontsize = default_label_fontsize # 1\n",
        "        tick_fontsize = default_tick_fontsize # 0\n",
        "    else:\n",
        "        number_fontsize = default_number_fontsize\n",
        "        label_fontsize = default_label_fontsize\n",
        "        tick_fontsize = default_tick_fontsize\n",
        "\n",
        "    isLong = False\n",
        "    for i in range(len(class_names)):\n",
        "        print(len(class_names[i]))\n",
        "        if len(class_names[i]) > 15:\n",
        "            isLong = True\n",
        "            break\n",
        "\n",
        "    # Draw the confusion matrix\n",
        "    plt.figure(figsize=(4.8, 4))\n",
        "    sns.heatmap(cm, annot=True, fmt='d', cmap='Greens', xticklabels=class_names, yticklabels=class_names, annot_kws={\"size\": number_fontsize})\n",
        "    plt.xlabel('Predicted') # fontsize=label_fontsize\n",
        "    plt.ylabel('Truth') # fontsize=label_fontsize\n",
        "    plt.xticks(rotation = 0, fontsize = 8 if isLong else tick_fontsize) # rotation = 90 if isLong else 0\n",
        "    plt.yticks(fontsize = 8 if isLong else tick_fontsize)\n",
        "\n",
        "    plt.tight_layout()\n",
        "    plt.savefig(f'{savepath}cm_{savefig_name}.png', format='png', dpi=400)\n",
        "    plt.savefig(f'{savepath}cm_{savefig_name}.svg', format='svg')\n",
        "    plt.show()"
      ],
      "metadata": {
        "id": "LSg-Bli25xI1"
      },
      "execution_count": null,
      "outputs": []
    },
    {
      "cell_type": "code",
      "source": [
        "# Draw single CM\n",
        "import os\n",
        "import matplotlib.pyplot as plt\n",
        "from sklearn.metrics import confusion_matrix\n",
        "import seaborn as sns\n",
        "\n",
        "\n",
        "savepath = '/content/drive/MyDrive/Colab Notebooks/temp/'\n",
        "\n",
        "# Calculate the confusion matrix\n",
        "cm = [[5624, 791],\n",
        "      [675, 5749]]\n",
        "class_names = ['Dyslexia', 'Normal']\n",
        "num_classes = len(class_names)\n",
        "with open(savepath + f'cm_temp.pkl', 'wb') as f:\n",
        "    pickle.dump({'cm': cm, 'class_names': class_names}, f)\n",
        "\n",
        "# Set default fontsize\n",
        "default_number_fontsize = 14\n",
        "default_label_fontsize = 9 # 12\n",
        "default_tick_fontsize = 9 # 10\n",
        "\n",
        "# Wrap class names to fit within the cell width\n",
        "wrapped_class_names = wrap_labels(class_names, width=10)\n",
        "\n",
        "# Adjust fontsize based on the number of classes\n",
        "if num_classes == 2:\n",
        "    number_fontsize = default_number_fontsize + 8 # 16\n",
        "    label_fontsize = default_label_fontsize # 6\n",
        "    tick_fontsize = default_tick_fontsize # 4\n",
        "elif num_classes == 3:\n",
        "    number_fontsize = default_number_fontsize + 4 # 12\n",
        "    label_fontsize = default_label_fontsize # 4\n",
        "    tick_fontsize = default_tick_fontsize # 2\n",
        "elif num_classes == 4:\n",
        "    number_fontsize = default_number_fontsize + 2 # 8\n",
        "    label_fontsize = default_label_fontsize # 2\n",
        "    tick_fontsize = default_tick_fontsize # 1\n",
        "elif num_classes == 5:\n",
        "    number_fontsize = default_number_fontsize + 0 # 4\n",
        "    label_fontsize = default_label_fontsize # 1\n",
        "    tick_fontsize = default_tick_fontsize # 0\n",
        "else:\n",
        "    number_fontsize = default_number_fontsize\n",
        "    label_fontsize = default_label_fontsize\n",
        "    tick_fontsize = default_tick_fontsize\n",
        "\n",
        "isLong = False\n",
        "for i in range(len(class_names)):\n",
        "    print(f'class_name {i} length:', len(class_names[i]))\n",
        "    if len(class_names[i]) > 15:\n",
        "        isLong = True\n",
        "        break\n",
        "\n",
        "# Draw the confusion matrix\n",
        "plt.figure(figsize=(4.8, 4))\n",
        "sns.heatmap(cm, annot=True, fmt='d', cmap='Greens', xticklabels=class_names, yticklabels=class_names, annot_kws={\"size\": number_fontsize})\n",
        "plt.xlabel('Predicted') # fontsize=label_fontsize\n",
        "plt.ylabel('Truth') # fontsize=label_fontsize\n",
        "plt.xticks(rotation = 0, fontsize = 8 if isLong else tick_fontsize) # rotation = 90 if isLong else 0\n",
        "plt.yticks(fontsize = 8 if isLong else tick_fontsize)\n",
        "\n",
        "plt.tight_layout()\n",
        "plt.savefig(f'{savepath}cm_temp.png', format='png', dpi=400)\n",
        "plt.savefig(f'{savepath}cm_temp.svg', format='svg')\n",
        "plt.show()"
      ],
      "metadata": {
        "colab": {
          "base_uri": "https://localhost:8080/",
          "height": 442
        },
        "id": "UyTMcHSA2QnX",
        "outputId": "347cdc04-1dbf-42be-f27d-a780ac6a0b5d"
      },
      "execution_count": null,
      "outputs": [
        {
          "output_type": "stream",
          "name": "stdout",
          "text": [
            "class_name 0 length: 8\n",
            "class_name 1 length: 6\n"
          ]
        },
        {
          "output_type": "display_data",
          "data": {
            "text/plain": [
              "<Figure size 480x400 with 2 Axes>"
            ],
            "image/png": "[encoded data removed]"
          },
          "metadata": {}
        }
      ]
    },
    {
      "cell_type": "code",
      "source": [
        "# Draw multiple CMs\n",
        "import os\n",
        "\n",
        "label_path = '/content/drive/MyDrive/Colab Notebooks/Thesis/Analysis/prediction'\n",
        "labels = [\n",
        "    '01_07_02.pkl',\n",
        "    '02_08_03.pkl',\n",
        "    '03_03_01.pkl',\n",
        "    '04_07_01.pkl',\n",
        "    '05_08_01.pkl',\n",
        "    '07_08_05.pkl',\n",
        "    '08_08_01.pkl',\n",
        "    '09_07_05.pkl'\n",
        "]\n",
        "\n",
        "for label in labels:\n",
        "    with open(os.path.join(label_path, label), 'rb') as f:\n",
        "        data = pickle.load(f)\n",
        "        y_true = data['actual']\n",
        "        y_pred = data['pred']\n",
        "        savefig_name, _ = os.path.splitext(label)\n",
        "        class_names = class_names_list[savefig_name.split('_')[0]]\n",
        "        if class_names[0] == 'adenocarcinoma':\n",
        "            class_names = ['adenocar-\\ncinoma', 'large.cell.\\ncarcinoma', 'normal', 'squamous.cell.\\ncarcinoma']\n",
        "    calCM(y_true, y_pred, class_names, savefig_name)"
      ],
      "metadata": {
        "colab": {
          "base_uri": "https://localhost:8080/",
          "height": 1000
        },
        "id": "VpLFGy_mcVYU",
        "outputId": "095d7d77-487c-4a13-c90c-e421db426db8"
      },
      "execution_count": null,
      "outputs": [
        {
          "output_type": "stream",
          "name": "stdout",
          "text": [
            "5\n",
            "6\n",
            "9\n"
          ]
        },
        {
          "output_type": "display_data",
          "data": {
            "text/plain": [
              "<Figure size 480x400 with 2 Axes>"
            ],
            "image/png": "[encoded data removed]"
          },
          "metadata": {}
        },
        {
          "output_type": "stream",
          "name": "stdout",
          "text": [
            "6\n",
            "12\n"
          ]
        },
        {
          "output_type": "display_data",
          "data": {
            "text/plain": [
              "<Figure size 480x400 with 2 Axes>"
            ],
            "image/png": "[encoded data removed]"
          },
          "metadata": {}
        },
        {
          "output_type": "stream",
          "name": "stdout",
          "text": [
            "16\n"
          ]
        },
        {
          "output_type": "display_data",
          "data": {
            "text/plain": [
              "<Figure size 480x400 with 2 Axes>"
            ],
            "image/png": "[encoded data removed]"
          },
          "metadata": {}
        },
        {
          "output_type": "stream",
          "name": "stdout",
          "text": [
            "6\n",
            "10\n",
            "7\n",
            "9\n"
          ]
        },
        {
          "output_type": "display_data",
          "data": {
            "text/plain": [
              "<Figure size 480x400 with 2 Axes>"
            ],
            "image/png": "[encoded data removed]"
          },
          "metadata": {}
        },
        {
          "output_type": "stream",
          "name": "stdout",
          "text": [
            "6\n",
            "9\n"
          ]
        },
        {
          "output_type": "display_data",
          "data": {
            "text/plain": [
              "<Figure size 480x400 with 2 Axes>"
            ],
            "image/png": "[encoded data removed]"
          },
          "metadata": {}
        },
        {
          "output_type": "stream",
          "name": "stdout",
          "text": [
            "7\n",
            "4\n"
          ]
        },
        {
          "output_type": "display_data",
          "data": {
            "text/plain": [
              "<Figure size 480x400 with 2 Axes>"
            ],
            "image/png": "[encoded data removed]"
          },
          "metadata": {}
        },
        {
          "output_type": "stream",
          "name": "stdout",
          "text": [
            "6\n",
            "9\n"
          ]
        },
        {
          "output_type": "display_data",
          "data": {
            "text/plain": [
              "<Figure size 480x400 with 2 Axes>"
            ],
            "image/png": "[encoded data removed]"
          },
          "metadata": {}
        },
        {
          "output_type": "stream",
          "name": "stdout",
          "text": [
            "6\n",
            "6\n"
          ]
        },
        {
          "output_type": "display_data",
          "data": {
            "text/plain": [
              "<Figure size 480x400 with 2 Axes>"
            ],
            "image/png": "[encoded data removed]"
          },
          "metadata": {}
        }
      ]
    },
    {
      "cell_type": "code",
      "source": [],
      "metadata": {
        "id": "LKdzU5Id0Zch"
      },
      "execution_count": null,
      "outputs": []
    },
    {
      "cell_type": "code",
      "source": [
        "import matplotlib.pyplot as plt\n",
        "from sklearn.metrics import confusion_matrix\n",
        "import seaborn as sns\n",
        "import pickle\n",
        "import textwrap\n",
        "\n",
        "def wrap_labels(labels, width):\n",
        "    return [textwrap.fill(label, width) for label in labels]\n",
        "\n",
        "def drawCM(cm, class_names):\n",
        "    # savepath = path + '/figures/'\n",
        "\n",
        "    # Calculate the confusion matrix\n",
        "    # cm = confusion_matrix(y_true, y_pred)\n",
        "    num_classes = len(class_names)\n",
        "    # with open(savepath + f'cm_{savefig_name}.pkl', 'wb') as f:\n",
        "    #     pickle.dump({'cm': cm, 'class_names': class_names}, f)\n",
        "\n",
        "    # Set default fontsize\n",
        "    default_number_fontsize = 16\n",
        "    default_label_fontsize = 10 # 12\n",
        "    default_tick_fontsize = 9 # 10\n",
        "\n",
        "    # Wrap class names to fit within the cell width\n",
        "    wrapped_class_names = wrap_labels(class_names, width=10)\n",
        "\n",
        "    # Adjust fontsize based on the number of classes\n",
        "    if num_classes == 2:\n",
        "        number_fontsize = default_number_fontsize + 8 # 16\n",
        "        label_fontsize = default_label_fontsize # 6\n",
        "        tick_fontsize = default_tick_fontsize # 4\n",
        "    elif num_classes == 3:\n",
        "        number_fontsize = default_number_fontsize + 4 # 12\n",
        "        label_fontsize = default_label_fontsize # 4\n",
        "        tick_fontsize = default_tick_fontsize # 2\n",
        "    elif num_classes == 4:\n",
        "        number_fontsize = default_number_fontsize + 2 # 8\n",
        "        label_fontsize = default_label_fontsize # 2\n",
        "        tick_fontsize = default_tick_fontsize # 1\n",
        "    elif num_classes == 5:\n",
        "        number_fontsize = default_number_fontsize # 4\n",
        "        label_fontsize = default_label_fontsize # 1\n",
        "        tick_fontsize = default_tick_fontsize # 0\n",
        "    else:\n",
        "        number_fontsize = default_number_fontsize\n",
        "        label_fontsize = default_label_fontsize\n",
        "        tick_fontsize = default_tick_fontsize\n",
        "\n",
        "    isLong = False\n",
        "    for i in range(len(class_names)):\n",
        "        print(len(class_names[i]))\n",
        "        if len(class_names[i]) > 15:\n",
        "            isLong = True\n",
        "            break\n",
        "\n",
        "    # Draw the confusion matrix\n",
        "    plt.figure(figsize=(4.8, 4))\n",
        "    sns.heatmap(cm, annot=True, fmt='d', cmap='Greens', xticklabels=class_names, yticklabels=class_names, annot_kws={\"size\": number_fontsize})\n",
        "    plt.xlabel('Predicted') # fontsize=label_fontsize\n",
        "    plt.ylabel('Truth') # fontsize=label_fontsize\n",
        "    plt.xticks(rotation = 0, fontsize = 8 if isLong else tick_fontsize) # rotation = 90 if isLong else 0\n",
        "    plt.yticks(fontsize = 8 if isLong else tick_fontsize)\n",
        "\n",
        "    plt.tight_layout()\n",
        "    # plt.savefig(f'{savepath}cm_{savefig_name}.png', format='png', dpi=400)\n",
        "    # plt.savefig(f'{savepath}cm_{savefig_name}.svg', format='svg')\n",
        "    plt.show()"
      ],
      "metadata": {
        "id": "IYwFnOeq8mmu"
      },
      "execution_count": null,
      "outputs": []
    },
    {
      "cell_type": "code",
      "source": [
        "import pickle\n",
        "\n",
        "with open('/content/drive/MyDrive/Colab Notebooks/Thesis/Analysis/figures/cm_Chest CT-Scan images Dataset.pkl', 'rb') as f:\n",
        "# with open('/content/drive/MyDrive/Colab Notebooks/Thesis/Analysis/figures/cm_Brain Tumor MRI Dataset.pkl', 'rb') as f:\n",
        "# with open('/content/drive/MyDrive/Colab Notebooks/Thesis/Analysis/figures/cm_Brain Stroke CT Image Dataset.pkl', 'rb') as f:\n",
        "# with open('/content/drive/MyDrive/Colab Notebooks/Thesis/Analysis/figures/cm_COVID19_Pneumonia_Normal_Chest_Xray_PA_Dataset.pkl', 'rb') as f:\n",
        "    data = pickle.load(f)\n",
        "\n",
        "cm, class_names = data['cm'], data['class_names']\n",
        "class_names = ['adenocar-\\ncinoma', 'large.cell.\\ncarcinoma', 'normal', 'squamous.cell.\\ncarcinoma']\n",
        "print(cm)\n",
        "print(class_names)\n",
        "drawCM(cm, class_names)"
      ],
      "metadata": {
        "colab": {
          "base_uri": "https://localhost:8080/",
          "height": 511
        },
        "id": "D_9FmOoN6EV7",
        "outputId": "d7eaee2c-7e3c-41e1-de98-21f70482dfdd"
      },
      "execution_count": null,
      "outputs": [
        {
          "output_type": "stream",
          "name": "stdout",
          "text": [
            "[[96 11  0 13]\n",
            " [ 5 46  0  0]\n",
            " [ 0  1 53  0]\n",
            " [ 9  0  0 81]]\n",
            "['adenocar-\\ncinoma', 'large.cell.\\ncarcinoma', 'normal', 'squamous.cell.\\ncarcinoma']\n",
            "16\n"
          ]
        },
        {
          "output_type": "display_data",
          "data": {
            "text/plain": [
              "<Figure size 480x400 with 2 Axes>"
            ],
            "image/png": "[encoded data removed]"
          },
          "metadata": {}
        }
      ]
    },
    {
      "cell_type": "markdown",
      "source": [
        "### Prediction"
      ],
      "metadata": {
        "id": "ul9v_HFodtIq"
      }
    },
    {
      "cell_type": "code",
      "source": [
        "# Function to rename layers\n",
        "def rename_layers(model):\n",
        "    for layer in model.layers:\n",
        "        if '/' in layer.name:\n",
        "            layer._name = layer.name.replace('/', '_')\n",
        "    return model"
      ],
      "metadata": {
        "id": "sU5yMzcY50dK"
      },
      "execution_count": null,
      "outputs": []
    },
    {
      "cell_type": "code",
      "execution_count": null,
      "metadata": {
        "colab": {
          "base_uri": "https://localhost:8080/",
          "height": 1000
        },
        "outputId": "79aa5572-23d7-438e-c74d-13d577f38f55",
        "id": "4udDBoK74C6j"
      },
      "outputs": [
        {
          "output_type": "stream",
          "name": "stdout",
          "text": [
            "dataset: 09_03, path: /content/drive/MyDrive/Colab Notebooks/Thesis/Analysis/test_dataset/09_03, model path: /content/drive/MyDrive/Colab Notebooks/Thesis/Model/09_03/09_03_05/best_model_val_acc.h5, class_names: ['Normal', 'Stroke']\n",
            "Found 500 files belonging to 2 classes.\n",
            "Class names: ['Normal', 'Stroke']\n",
            "Number of classes:  2\n",
            "1/1 [==============================] - 3s 3s/step\n",
            "1/1 [==============================] - 0s 274ms/step\n",
            "1/1 [==============================] - 0s 47ms/step\n",
            "1/1 [==============================] - 0s 130ms/step\n",
            "1/1 [==============================] - 0s 57ms/step\n",
            "1/1 [==============================] - 0s 104ms/step\n",
            "1/1 [==============================] - 0s 105ms/step\n",
            "1/1 [==============================] - 0s 112ms/step\n",
            "1/1 [==============================] - 0s 123ms/step\n",
            "1/1 [==============================] - 0s 325ms/step\n",
            "1/1 [==============================] - 0s 78ms/step\n",
            "1/1 [==============================] - 0s 77ms/step\n",
            "1/1 [==============================] - 0s 83ms/step\n",
            "1/1 [==============================] - 0s 36ms/step\n",
            "1/1 [==============================] - 0s 40ms/step\n",
            "1/1 [==============================] - 1s 1s/step\n",
            "combination: 09_03_05, filepath: 500, actual: 500, pred: 500\n",
            "accuracy: 0.952, precision: 0.9552083333333333, recall: 0.9433847402597403, f1_score: 0.9486336552290939, kappa: 0.8973305954825462\n",
            "dataset: 09_08, path: /content/drive/MyDrive/Colab Notebooks/Thesis/Analysis/test_dataset/09_08, model path: /content/drive/MyDrive/Colab Notebooks/Thesis/Model/09_08/09_08_05/best_model_val_acc.h5, class_names: ['Normal', 'Stroke']\n",
            "Found 500 files belonging to 2 classes.\n",
            "Class names: ['Normal', 'Stroke']\n",
            "Number of classes:  2\n",
            "1/1 [==============================] - 1s 1s/step\n",
            "1/1 [==============================] - 0s 116ms/step\n",
            "1/1 [==============================] - 0s 49ms/step\n",
            "1/1 [==============================] - 0s 45ms/step\n",
            "1/1 [==============================] - 0s 121ms/step\n",
            "1/1 [==============================] - 0s 59ms/step\n",
            "1/1 [==============================] - 0s 62ms/step\n",
            "1/1 [==============================] - 0s 152ms/step\n",
            "1/1 [==============================] - 0s 108ms/step\n",
            "1/1 [==============================] - 0s 67ms/step\n",
            "1/1 [==============================] - 0s 79ms/step\n",
            "1/1 [==============================] - 0s 150ms/step\n",
            "1/1 [==============================] - 0s 70ms/step\n",
            "1/1 [==============================] - 0s 46ms/step\n",
            "1/1 [==============================] - 0s 39ms/step\n",
            "1/1 [==============================] - 1s 1s/step\n",
            "combination: 09_08_05, filepath: 500, actual: 500, pred: 500\n",
            "accuracy: 0.944, precision: 0.9400983761202075, recall: 0.9417951839826839, f1_score: 0.9409292670165903, kappa: 0.8818605279146695\n"
          ]
        },
        {
          "output_type": "display_data",
          "data": {
            "text/plain": [
              "   combination  accuracy  precision    recall  f1_score     kappa\n",
              "0     01_00_01  0.963230   0.965934  0.963980  0.964126  0.944787\n",
              "1     01_02_01  0.957462   0.961267  0.958114  0.958508  0.936115\n",
              "2     01_03_01  0.963951   0.966983  0.964686  0.964798  0.945870\n",
              "3     01_04_01  0.959625   0.962635  0.960348  0.960561  0.939370\n",
              "4     01_07_02  0.964672   0.967523  0.965598  0.965516  0.946959\n",
              "5     01_08_01  0.963230   0.965744  0.964052  0.964040  0.944792\n",
              "6     02_00_03  0.878378   0.877344  0.874256  0.875630  0.751307\n",
              "7     02_02_03  0.891892   0.889881  0.889881  0.889881  0.779762\n",
              "8     02_03_04  0.864865   0.862351  0.862351  0.862351  0.724702\n",
              "9     02_04_03  0.864865   0.865152  0.858631  0.861215  0.722639\n",
              "10    02_07_03  0.878378   0.877344  0.874256  0.875630  0.751307\n",
              "11    02_08_03  0.905405   0.909962  0.898065  0.902393  0.805117\n",
              "12    03_00_01  0.822222   0.846591  0.859913  0.836253  0.757356\n",
              "13    03_02_01  0.857143   0.858894  0.881277  0.863872  0.804356\n",
              "14    03_03_01  0.876190   0.881883  0.895861  0.887477  0.828769\n",
              "15    03_04_01  0.847619   0.857106  0.885607  0.858133  0.793137\n",
              "16    03_07_04  0.844444   0.862930  0.870330  0.848233  0.786550\n",
              "17    03_08_01  0.860317   0.865009  0.893900  0.869380  0.809743\n",
              "18    04_00_01  0.987796   0.987410  0.986683  0.986804  0.983625\n",
              "19    04_02_01  0.980168   0.979493  0.978480  0.978842  0.973385\n",
              "20    04_03_01  0.983219   0.982775  0.981716  0.981947  0.977482\n",
              "21    04_04_01  0.979405   0.978861  0.977565  0.977710  0.972367\n",
              "22    04_07_01  0.985507   0.985188  0.984183  0.984325  0.980554\n",
              "23    04_08_02  0.984744   0.984123  0.983399  0.983600  0.979530\n",
              "24    05_00_01  0.970000   0.968830  0.970750  0.969690  0.939386\n",
              "25    05_02_01  0.963333   0.961888  0.964500  0.962987  0.925991\n",
              "26    05_03_01  0.974444   0.974015  0.974250  0.974131  0.948263\n",
              "27    05_04_01  0.964444   0.964224  0.963750  0.963982  0.927964\n",
              "28    05_07_01  0.974444   0.973459  0.975000  0.974169  0.948340\n",
              "29    05_08_01  0.987778   0.986915  0.988500  0.987646  0.975293\n",
              "30    07_00_02  0.787500   0.834545  0.787500  0.779757  0.575000\n",
              "31    07_02_05  0.762500   0.793501  0.762500  0.756058  0.525000\n",
              "32    07_03_05  0.812500   0.822373  0.812500  0.811053  0.625000\n",
              "33    07_04_01  0.762500   0.776498  0.762500  0.759456  0.525000\n",
              "34    07_07_01  0.787500   0.802831  0.787500  0.784776  0.575000\n",
              "35    07_08_05  0.837500   0.837711  0.837500  0.837475  0.675000\n",
              "36    08_00_01  0.937500   0.936717  0.938089  0.937255  0.874529\n",
              "37    08_02_01  0.900000   0.901587  0.897549  0.898990  0.798107\n",
              "38    08_03_01  0.900000   0.899434  0.899434  0.899434  0.798869\n",
              "39    08_04_01  0.900000   0.901587  0.897549  0.898990  0.798107\n",
              "40    08_07_04  0.912500   0.912500  0.914833  0.912377  0.825000\n",
              "41    08_08_01  0.962500   0.961779  0.963231  0.962353  0.924718\n",
              "42    09_00_05  0.960000   0.961544  0.953801  0.957379  0.914780\n",
              "43    09_02_05  0.956000   0.952034  0.955459  0.953676  0.907357\n",
              "44    09_03_05  0.944000   0.945401  0.935910  0.940203  0.880456\n",
              "45    09_04_01  0.926000   0.926471  0.916396  0.920897  0.841875\n",
              "46    09_07_05  0.962000   0.961151  0.958367  0.959718  0.919440\n",
              "47    09_08_05  0.944000   0.940098  0.941795  0.940929  0.881861\n",
              "48    09_08_05  0.950000   0.950279  0.943723  0.946779  0.893581\n",
              "49    09_03_05  0.952000   0.955208  0.943385  0.948634  0.897331\n",
              "50    09_08_05  0.944000   0.940098  0.941795  0.940929  0.881861"
            ],
            "text/html": [
              "\n",
              "  <div id=\"df-20fde9a9-aee6-4af8-9bfc-0a9e71d20974\" class=\"colab-df-container\">\n",
              "    <div>\n",
              "<style scoped>\n",
              "    .dataframe tbody tr th:only-of-type {\n",
              "        vertical-align: middle;\n",
              "    }\n",
              "\n",
              "    .dataframe tbody tr th {\n",
              "        vertical-align: top;\n",
              "    }\n",
              "\n",
              "    .dataframe thead th {\n",
              "        text-align: right;\n",
              "    }\n",
              "</style>\n",
              "<table border=\"1\" class=\"dataframe\">\n",
              "  <thead>\n",
              "    <tr style=\"text-align: right;\">\n",
              "      <th></th>\n",
              "      <th>combination</th>\n",
              "      <th>accuracy</th>\n",
              "      <th>precision</th>\n",
              "      <th>recall</th>\n",
              "      <th>f1_score</th>\n",
              "      <th>kappa</th>\n",
              "    </tr>\n",
              "  </thead>\n",
              "  <tbody>\n",
              "    <tr>\n",
              "      <th>0</th>\n",
              "      <td>01_00_01</td>\n",
              "      <td>0.963230</td>\n",
              "      <td>0.965934</td>\n",
              "      <td>0.963980</td>\n",
              "      <td>0.964126</td>\n",
              "      <td>0.944787</td>\n",
              "    </tr>\n",
              "    <tr>\n",
              "      <th>1</th>\n",
              "      <td>01_02_01</td>\n",
              "      <td>0.957462</td>\n",
              "      <td>0.961267</td>\n",
              "      <td>0.958114</td>\n",
              "      <td>0.958508</td>\n",
              "      <td>0.936115</td>\n",
              "    </tr>\n",
              "    <tr>\n",
              "      <th>2</th>\n",
              "      <td>01_03_01</td>\n",
              "      <td>0.963951</td>\n",
              "      <td>0.966983</td>\n",
              "      <td>0.964686</td>\n",
              "      <td>0.964798</td>\n",
              "      <td>0.945870</td>\n",
              "    </tr>\n",
              "    <tr>\n",
              "      <th>3</th>\n",
              "      <td>01_04_01</td>\n",
              "      <td>0.959625</td>\n",
              "      <td>0.962635</td>\n",
              "      <td>0.960348</td>\n",
              "      <td>0.960561</td>\n",
              "      <td>0.939370</td>\n",
              "    </tr>\n",
              "    <tr>\n",
              "      <th>4</th>\n",
              "      <td>01_07_02</td>\n",
              "      <td>0.964672</td>\n",
              "      <td>0.967523</td>\n",
              "      <td>0.965598</td>\n",
              "      <td>0.965516</td>\n",
              "      <td>0.946959</td>\n",
              "    </tr>\n",
              "    <tr>\n",
              "      <th>5</th>\n",
              "      <td>01_08_01</td>\n",
              "      <td>0.963230</td>\n",
              "      <td>0.965744</td>\n",
              "      <td>0.964052</td>\n",
              "      <td>0.964040</td>\n",
              "      <td>0.944792</td>\n",
              "    </tr>\n",
              "    <tr>\n",
              "      <th>6</th>\n",
              "      <td>02_00_03</td>\n",
              "      <td>0.878378</td>\n",
              "      <td>0.877344</td>\n",
              "      <td>0.874256</td>\n",
              "      <td>0.875630</td>\n",
              "      <td>0.751307</td>\n",
              "    </tr>\n",
              "    <tr>\n",
              "      <th>7</th>\n",
              "      <td>02_02_03</td>\n",
              "      <td>0.891892</td>\n",
              "      <td>0.889881</td>\n",
              "      <td>0.889881</td>\n",
              "      <td>0.889881</td>\n",
              "      <td>0.779762</td>\n",
              "    </tr>\n",
              "    <tr>\n",
              "      <th>8</th>\n",
              "      <td>02_03_04</td>\n",
              "      <td>0.864865</td>\n",
              "      <td>0.862351</td>\n",
              "      <td>0.862351</td>\n",
              "      <td>0.862351</td>\n",
              "      <td>0.724702</td>\n",
              "    </tr>\n",
              "    <tr>\n",
              "      <th>9</th>\n",
              "      <td>02_04_03</td>\n",
              "      <td>0.864865</td>\n",
              "      <td>0.865152</td>\n",
              "      <td>0.858631</td>\n",
              "      <td>0.861215</td>\n",
              "      <td>0.722639</td>\n",
              "    </tr>\n",
              "    <tr>\n",
              "      <th>10</th>\n",
              "      <td>02_07_03</td>\n",
              "      <td>0.878378</td>\n",
              "      <td>0.877344</td>\n",
              "      <td>0.874256</td>\n",
              "      <td>0.875630</td>\n",
              "      <td>0.751307</td>\n",
              "    </tr>\n",
              "    <tr>\n",
              "      <th>11</th>\n",
              "      <td>02_08_03</td>\n",
              "      <td>0.905405</td>\n",
              "      <td>0.909962</td>\n",
              "      <td>0.898065</td>\n",
              "      <td>0.902393</td>\n",
              "      <td>0.805117</td>\n",
              "    </tr>\n",
              "    <tr>\n",
              "      <th>12</th>\n",
              "      <td>03_00_01</td>\n",
              "      <td>0.822222</td>\n",
              "      <td>0.846591</td>\n",
              "      <td>0.859913</td>\n",
              "      <td>0.836253</td>\n",
              "      <td>0.757356</td>\n",
              "    </tr>\n",
              "    <tr>\n",
              "      <th>13</th>\n",
              "      <td>03_02_01</td>\n",
              "      <td>0.857143</td>\n",
              "      <td>0.858894</td>\n",
              "      <td>0.881277</td>\n",
              "      <td>0.863872</td>\n",
              "      <td>0.804356</td>\n",
              "    </tr>\n",
              "    <tr>\n",
              "      <th>14</th>\n",
              "      <td>03_03_01</td>\n",
              "      <td>0.876190</td>\n",
              "      <td>0.881883</td>\n",
              "      <td>0.895861</td>\n",
              "      <td>0.887477</td>\n",
              "      <td>0.828769</td>\n",
              "    </tr>\n",
              "    <tr>\n",
              "      <th>15</th>\n",
              "      <td>03_04_01</td>\n",
              "      <td>0.847619</td>\n",
              "      <td>0.857106</td>\n",
              "      <td>0.885607</td>\n",
              "      <td>0.858133</td>\n",
              "      <td>0.793137</td>\n",
              "    </tr>\n",
              "    <tr>\n",
              "      <th>16</th>\n",
              "      <td>03_07_04</td>\n",
              "      <td>0.844444</td>\n",
              "      <td>0.862930</td>\n",
              "      <td>0.870330</td>\n",
              "      <td>0.848233</td>\n",
              "      <td>0.786550</td>\n",
              "    </tr>\n",
              "    <tr>\n",
              "      <th>17</th>\n",
              "      <td>03_08_01</td>\n",
              "      <td>0.860317</td>\n",
              "      <td>0.865009</td>\n",
              "      <td>0.893900</td>\n",
              "      <td>0.869380</td>\n",
              "      <td>0.809743</td>\n",
              "    </tr>\n",
              "    <tr>\n",
              "      <th>18</th>\n",
              "      <td>04_00_01</td>\n",
              "      <td>0.987796</td>\n",
              "      <td>0.987410</td>\n",
              "      <td>0.986683</td>\n",
              "      <td>0.986804</td>\n",
              "      <td>0.983625</td>\n",
              "    </tr>\n",
              "    <tr>\n",
              "      <th>19</th>\n",
              "      <td>04_02_01</td>\n",
              "      <td>0.980168</td>\n",
              "      <td>0.979493</td>\n",
              "      <td>0.978480</td>\n",
              "      <td>0.978842</td>\n",
              "      <td>0.973385</td>\n",
              "    </tr>\n",
              "    <tr>\n",
              "      <th>20</th>\n",
              "      <td>04_03_01</td>\n",
              "      <td>0.983219</td>\n",
              "      <td>0.982775</td>\n",
              "      <td>0.981716</td>\n",
              "      <td>0.981947</td>\n",
              "      <td>0.977482</td>\n",
              "    </tr>\n",
              "    <tr>\n",
              "      <th>21</th>\n",
              "      <td>04_04_01</td>\n",
              "      <td>0.979405</td>\n",
              "      <td>0.978861</td>\n",
              "      <td>0.977565</td>\n",
              "      <td>0.977710</td>\n",
              "      <td>0.972367</td>\n",
              "    </tr>\n",
              "    <tr>\n",
              "      <th>22</th>\n",
              "      <td>04_07_01</td>\n",
              "      <td>0.985507</td>\n",
              "      <td>0.985188</td>\n",
              "      <td>0.984183</td>\n",
              "      <td>0.984325</td>\n",
              "      <td>0.980554</td>\n",
              "    </tr>\n",
              "    <tr>\n",
              "      <th>23</th>\n",
              "      <td>04_08_02</td>\n",
              "      <td>0.984744</td>\n",
              "      <td>0.984123</td>\n",
              "      <td>0.983399</td>\n",
              "      <td>0.983600</td>\n",
              "      <td>0.979530</td>\n",
              "    </tr>\n",
              "    <tr>\n",
              "      <th>24</th>\n",
              "      <td>05_00_01</td>\n",
              "      <td>0.970000</td>\n",
              "      <td>0.968830</td>\n",
              "      <td>0.970750</td>\n",
              "      <td>0.969690</td>\n",
              "      <td>0.939386</td>\n",
              "    </tr>\n",
              "    <tr>\n",
              "      <th>25</th>\n",
              "      <td>05_02_01</td>\n",
              "      <td>0.963333</td>\n",
              "      <td>0.961888</td>\n",
              "      <td>0.964500</td>\n",
              "      <td>0.962987</td>\n",
              "      <td>0.925991</td>\n",
              "    </tr>\n",
              "    <tr>\n",
              "      <th>26</th>\n",
              "      <td>05_03_01</td>\n",
              "      <td>0.974444</td>\n",
              "      <td>0.974015</td>\n",
              "      <td>0.974250</td>\n",
              "      <td>0.974131</td>\n",
              "      <td>0.948263</td>\n",
              "    </tr>\n",
              "    <tr>\n",
              "      <th>27</th>\n",
              "      <td>05_04_01</td>\n",
              "      <td>0.964444</td>\n",
              "      <td>0.964224</td>\n",
              "      <td>0.963750</td>\n",
              "      <td>0.963982</td>\n",
              "      <td>0.927964</td>\n",
              "    </tr>\n",
              "    <tr>\n",
              "      <th>28</th>\n",
              "      <td>05_07_01</td>\n",
              "      <td>0.974444</td>\n",
              "      <td>0.973459</td>\n",
              "      <td>0.975000</td>\n",
              "      <td>0.974169</td>\n",
              "      <td>0.948340</td>\n",
              "    </tr>\n",
              "    <tr>\n",
              "      <th>29</th>\n",
              "      <td>05_08_01</td>\n",
              "      <td>0.987778</td>\n",
              "      <td>0.986915</td>\n",
              "      <td>0.988500</td>\n",
              "      <td>0.987646</td>\n",
              "      <td>0.975293</td>\n",
              "    </tr>\n",
              "    <tr>\n",
              "      <th>30</th>\n",
              "      <td>07_00_02</td>\n",
              "      <td>0.787500</td>\n",
              "      <td>0.834545</td>\n",
              "      <td>0.787500</td>\n",
              "      <td>0.779757</td>\n",
              "      <td>0.575000</td>\n",
              "    </tr>\n",
              "    <tr>\n",
              "      <th>31</th>\n",
              "      <td>07_02_05</td>\n",
              "      <td>0.762500</td>\n",
              "      <td>0.793501</td>\n",
              "      <td>0.762500</td>\n",
              "      <td>0.756058</td>\n",
              "      <td>0.525000</td>\n",
              "    </tr>\n",
              "    <tr>\n",
              "      <th>32</th>\n",
              "      <td>07_03_05</td>\n",
              "      <td>0.812500</td>\n",
              "      <td>0.822373</td>\n",
              "      <td>0.812500</td>\n",
              "      <td>0.811053</td>\n",
              "      <td>0.625000</td>\n",
              "    </tr>\n",
              "    <tr>\n",
              "      <th>33</th>\n",
              "      <td>07_04_01</td>\n",
              "      <td>0.762500</td>\n",
              "      <td>0.776498</td>\n",
              "      <td>0.762500</td>\n",
              "      <td>0.759456</td>\n",
              "      <td>0.525000</td>\n",
              "    </tr>\n",
              "    <tr>\n",
              "      <th>34</th>\n",
              "      <td>07_07_01</td>\n",
              "      <td>0.787500</td>\n",
              "      <td>0.802831</td>\n",
              "      <td>0.787500</td>\n",
              "      <td>0.784776</td>\n",
              "      <td>0.575000</td>\n",
              "    </tr>\n",
              "    <tr>\n",
              "      <th>35</th>\n",
              "      <td>07_08_05</td>\n",
              "      <td>0.837500</td>\n",
              "      <td>0.837711</td>\n",
              "      <td>0.837500</td>\n",
              "      <td>0.837475</td>\n",
              "      <td>0.675000</td>\n",
              "    </tr>\n",
              "    <tr>\n",
              "      <th>36</th>\n",
              "      <td>08_00_01</td>\n",
              "      <td>0.937500</td>\n",
              "      <td>0.936717</td>\n",
              "      <td>0.938089</td>\n",
              "      <td>0.937255</td>\n",
              "      <td>0.874529</td>\n",
              "    </tr>\n",
              "    <tr>\n",
              "      <th>37</th>\n",
              "      <td>08_02_01</td>\n",
              "      <td>0.900000</td>\n",
              "      <td>0.901587</td>\n",
              "      <td>0.897549</td>\n",
              "      <td>0.898990</td>\n",
              "      <td>0.798107</td>\n",
              "    </tr>\n",
              "    <tr>\n",
              "      <th>38</th>\n",
              "      <td>08_03_01</td>\n",
              "      <td>0.900000</td>\n",
              "      <td>0.899434</td>\n",
              "      <td>0.899434</td>\n",
              "      <td>0.899434</td>\n",
              "      <td>0.798869</td>\n",
              "    </tr>\n",
              "    <tr>\n",
              "      <th>39</th>\n",
              "      <td>08_04_01</td>\n",
              "      <td>0.900000</td>\n",
              "      <td>0.901587</td>\n",
              "      <td>0.897549</td>\n",
              "      <td>0.898990</td>\n",
              "      <td>0.798107</td>\n",
              "    </tr>\n",
              "    <tr>\n",
              "      <th>40</th>\n",
              "      <td>08_07_04</td>\n",
              "      <td>0.912500</td>\n",
              "      <td>0.912500</td>\n",
              "      <td>0.914833</td>\n",
              "      <td>0.912377</td>\n",
              "      <td>0.825000</td>\n",
              "    </tr>\n",
              "    <tr>\n",
              "      <th>41</th>\n",
              "      <td>08_08_01</td>\n",
              "      <td>0.962500</td>\n",
              "      <td>0.961779</td>\n",
              "      <td>0.963231</td>\n",
              "      <td>0.962353</td>\n",
              "      <td>0.924718</td>\n",
              "    </tr>\n",
              "    <tr>\n",
              "      <th>42</th>\n",
              "      <td>09_00_05</td>\n",
              "      <td>0.960000</td>\n",
              "      <td>0.961544</td>\n",
              "      <td>0.953801</td>\n",
              "      <td>0.957379</td>\n",
              "      <td>0.914780</td>\n",
              "    </tr>\n",
              "    <tr>\n",
              "      <th>43</th>\n",
              "      <td>09_02_05</td>\n",
              "      <td>0.956000</td>\n",
              "      <td>0.952034</td>\n",
              "      <td>0.955459</td>\n",
              "      <td>0.953676</td>\n",
              "      <td>0.907357</td>\n",
              "    </tr>\n",
              "    <tr>\n",
              "      <th>44</th>\n",
              "      <td>09_03_05</td>\n",
              "      <td>0.944000</td>\n",
              "      <td>0.945401</td>\n",
              "      <td>0.935910</td>\n",
              "      <td>0.940203</td>\n",
              "      <td>0.880456</td>\n",
              "    </tr>\n",
              "    <tr>\n",
              "      <th>45</th>\n",
              "      <td>09_04_01</td>\n",
              "      <td>0.926000</td>\n",
              "      <td>0.926471</td>\n",
              "      <td>0.916396</td>\n",
              "      <td>0.920897</td>\n",
              "      <td>0.841875</td>\n",
              "    </tr>\n",
              "    <tr>\n",
              "      <th>46</th>\n",
              "      <td>09_07_05</td>\n",
              "      <td>0.962000</td>\n",
              "      <td>0.961151</td>\n",
              "      <td>0.958367</td>\n",
              "      <td>0.959718</td>\n",
              "      <td>0.919440</td>\n",
              "    </tr>\n",
              "    <tr>\n",
              "      <th>47</th>\n",
              "      <td>09_08_05</td>\n",
              "      <td>0.944000</td>\n",
              "      <td>0.940098</td>\n",
              "      <td>0.941795</td>\n",
              "      <td>0.940929</td>\n",
              "      <td>0.881861</td>\n",
              "    </tr>\n",
              "    <tr>\n",
              "      <th>48</th>\n",
              "      <td>09_08_05</td>\n",
              "      <td>0.950000</td>\n",
              "      <td>0.950279</td>\n",
              "      <td>0.943723</td>\n",
              "      <td>0.946779</td>\n",
              "      <td>0.893581</td>\n",
              "    </tr>\n",
              "    <tr>\n",
              "      <th>49</th>\n",
              "      <td>09_03_05</td>\n",
              "      <td>0.952000</td>\n",
              "      <td>0.955208</td>\n",
              "      <td>0.943385</td>\n",
              "      <td>0.948634</td>\n",
              "      <td>0.897331</td>\n",
              "    </tr>\n",
              "    <tr>\n",
              "      <th>50</th>\n",
              "      <td>09_08_05</td>\n",
              "      <td>0.944000</td>\n",
              "      <td>0.940098</td>\n",
              "      <td>0.941795</td>\n",
              "      <td>0.940929</td>\n",
              "      <td>0.881861</td>\n",
              "    </tr>\n",
              "  </tbody>\n",
              "</table>\n",
              "</div>\n",
              "    <div class=\"colab-df-buttons\">\n",
              "\n",
              "  <div class=\"colab-df-container\">\n",
              "    <button class=\"colab-df-convert\" onclick=\"convertToInteractive('df-20fde9a9-aee6-4af8-9bfc-0a9e71d20974')\"\n",
              "            title=\"Convert this dataframe to an interactive table.\"\n",
              "            style=\"display:none;\">\n",
              "\n",
              "  <svg xmlns=\"http://www.w3.org/2000/svg\" height=\"24px\" viewBox=\"0 -960 960 960\">\n",
              "    <path d=\"M120-120v-720h720v720H120Zm60-500h600v-160H180v160Zm220 220h160v-160H400v160Zm0 220h160v-160H400v160ZM180-400h160v-160H180v160Zm440 0h160v-160H620v160ZM180-180h160v-160H180v160Zm440 0h160v-160H620v160Z\"/>\n",
              "  </svg>\n",
              "    </button>\n",
              "\n",
              "  <style>\n",
              "    .colab-df-container {\n",
              "      display:flex;\n",
              "      gap: 12px;\n",
              "    }\n",
              "\n",
              "    .colab-df-convert {\n",
              "      background-color: #E8F0FE;\n",
              "      border: none;\n",
              "      border-radius: 50%;\n",
              "      cursor: pointer;\n",
              "      display: none;\n",
              "      fill: #1967D2;\n",
              "      height: 32px;\n",
              "      padding: 0 0 0 0;\n",
              "      width: 32px;\n",
              "    }\n",
              "\n",
              "    .colab-df-convert:hover {\n",
              "      background-color: #E2EBFA;\n",
              "      box-shadow: 0px 1px 2px rgba(60, 64, 67, 0.3), 0px 1px 3px 1px rgba(60, 64, 67, 0.15);\n",
              "      fill: #174EA6;\n",
              "    }\n",
              "\n",
              "    .colab-df-buttons div {\n",
              "      margin-bottom: 4px;\n",
              "    }\n",
              "\n",
              "    [theme=dark] .colab-df-convert {\n",
              "      background-color: #3B4455;\n",
              "      fill: #D2E3FC;\n",
              "    }\n",
              "\n",
              "    [theme=dark] .colab-df-convert:hover {\n",
              "      background-color: #434B5C;\n",
              "      box-shadow: 0px 1px 3px 1px rgba(0, 0, 0, 0.15);\n",
              "      filter: drop-shadow(0px 1px 2px rgba(0, 0, 0, 0.3));\n",
              "      fill: #FFFFFF;\n",
              "    }\n",
              "  </style>\n",
              "\n",
              "    <script>\n",
              "      const buttonEl =\n",
              "        document.querySelector('#df-20fde9a9-aee6-4af8-9bfc-0a9e71d20974 button.colab-df-convert');\n",
              "      buttonEl.style.display =\n",
              "        google.colab.kernel.accessAllowed ? 'block' : 'none';\n",
              "\n",
              "      async function convertToInteractive(key) {\n",
              "        const element = document.querySelector('#df-20fde9a9-aee6-4af8-9bfc-0a9e71d20974');\n",
              "        const dataTable =\n",
              "          await google.colab.kernel.invokeFunction('convertToInteractive',\n",
              "                                                    [key], {});\n",
              "        if (!dataTable) return;\n",
              "\n",
              "        const docLinkHtml = 'Like what you see? Visit the ' +\n",
              "          '<a target=\"_blank\" href=https://colab.research.google.com/notebooks/data_table.ipynb>data table notebook</a>'\n",
              "          + ' to learn more about interactive tables.';\n",
              "        element.innerHTML = '';\n",
              "        dataTable['output_type'] = 'display_data';\n",
              "        await google.colab.output.renderOutput(dataTable, element);\n",
              "        const docLink = document.createElement('div');\n",
              "        docLink.innerHTML = docLinkHtml;\n",
              "        element.appendChild(docLink);\n",
              "      }\n",
              "    </script>\n",
              "  </div>\n",
              "\n",
              "\n",
              "<div id=\"df-27311b12-5020-441c-9d9a-57a230ea81d7\">\n",
              "  <button class=\"colab-df-quickchart\" onclick=\"quickchart('df-27311b12-5020-441c-9d9a-57a230ea81d7')\"\n",
              "            title=\"Suggest charts\"\n",
              "            style=\"display:none;\">\n",
              "\n",
              "<svg xmlns=\"http://www.w3.org/2000/svg\" height=\"24px\"viewBox=\"0 0 24 24\"\n",
              "     width=\"24px\">\n",
              "    <g>\n",
              "        <path d=\"M19 3H5c-1.1 0-2 .9-2 2v14c0 1.1.9 2 2 2h14c1.1 0 2-.9 2-2V5c0-1.1-.9-2-2-2zM9 17H7v-7h2v7zm4 0h-2V7h2v10zm4 0h-2v-4h2v4z\"/>\n",
              "    </g>\n",
              "</svg>\n",
              "  </button>\n",
              "\n",
              "<style>\n",
              "  .colab-df-quickchart {\n",
              "      --bg-color: #E8F0FE;\n",
              "      --fill-color: #1967D2;\n",
              "      --hover-bg-color: #E2EBFA;\n",
              "      --hover-fill-color: #174EA6;\n",
              "      --disabled-fill-color: #AAA;\n",
              "      --disabled-bg-color: #DDD;\n",
              "  }\n",
              "\n",
              "  [theme=dark] .colab-df-quickchart {\n",
              "      --bg-color: #3B4455;\n",
              "      --fill-color: #D2E3FC;\n",
              "      --hover-bg-color: #434B5C;\n",
              "      --hover-fill-color: #FFFFFF;\n",
              "      --disabled-bg-color: #3B4455;\n",
              "      --disabled-fill-color: #666;\n",
              "  }\n",
              "\n",
              "  .colab-df-quickchart {\n",
              "    background-color: var(--bg-color);\n",
              "    border: none;\n",
              "    border-radius: 50%;\n",
              "    cursor: pointer;\n",
              "    display: none;\n",
              "    fill: var(--fill-color);\n",
              "    height: 32px;\n",
              "    padding: 0;\n",
              "    width: 32px;\n",
              "  }\n",
              "\n",
              "  .colab-df-quickchart:hover {\n",
              "    background-color: var(--hover-bg-color);\n",
              "    box-shadow: 0 1px 2px rgba(60, 64, 67, 0.3), 0 1px 3px 1px rgba(60, 64, 67, 0.15);\n",
              "    fill: var(--button-hover-fill-color);\n",
              "  }\n",
              "\n",
              "  .colab-df-quickchart-complete:disabled,\n",
              "  .colab-df-quickchart-complete:disabled:hover {\n",
              "    background-color: var(--disabled-bg-color);\n",
              "    fill: var(--disabled-fill-color);\n",
              "    box-shadow: none;\n",
              "  }\n",
              "\n",
              "  .colab-df-spinner {\n",
              "    border: 2px solid var(--fill-color);\n",
              "    border-color: transparent;\n",
              "    border-bottom-color: var(--fill-color);\n",
              "    animation:\n",
              "      spin 1s steps(1) infinite;\n",
              "  }\n",
              "\n",
              "  @keyframes spin {\n",
              "    0% {\n",
              "      border-color: transparent;\n",
              "      border-bottom-color: var(--fill-color);\n",
              "      border-left-color: var(--fill-color);\n",
              "    }\n",
              "    20% {\n",
              "      border-color: transparent;\n",
              "      border-left-color: var(--fill-color);\n",
              "      border-top-color: var(--fill-color);\n",
              "    }\n",
              "    30% {\n",
              "      border-color: transparent;\n",
              "      border-left-color: var(--fill-color);\n",
              "      border-top-color: var(--fill-color);\n",
              "      border-right-color: var(--fill-color);\n",
              "    }\n",
              "    40% {\n",
              "      border-color: transparent;\n",
              "      border-right-color: var(--fill-color);\n",
              "      border-top-color: var(--fill-color);\n",
              "    }\n",
              "    60% {\n",
              "      border-color: transparent;\n",
              "      border-right-color: var(--fill-color);\n",
              "    }\n",
              "    80% {\n",
              "      border-color: transparent;\n",
              "      border-right-color: var(--fill-color);\n",
              "      border-bottom-color: var(--fill-color);\n",
              "    }\n",
              "    90% {\n",
              "      border-color: transparent;\n",
              "      border-bottom-color: var(--fill-color);\n",
              "    }\n",
              "  }\n",
              "</style>\n",
              "\n",
              "  <script>\n",
              "    async function quickchart(key) {\n",
              "      const quickchartButtonEl =\n",
              "        document.querySelector('#' + key + ' button');\n",
              "      quickchartButtonEl.disabled = true;  // To prevent multiple clicks.\n",
              "      quickchartButtonEl.classList.add('colab-df-spinner');\n",
              "      try {\n",
              "        const charts = await google.colab.kernel.invokeFunction(\n",
              "            'suggestCharts', [key], {});\n",
              "      } catch (error) {\n",
              "        console.error('Error during call to suggestCharts:', error);\n",
              "      }\n",
              "      quickchartButtonEl.classList.remove('colab-df-spinner');\n",
              "      quickchartButtonEl.classList.add('colab-df-quickchart-complete');\n",
              "    }\n",
              "    (() => {\n",
              "      let quickchartButtonEl =\n",
              "        document.querySelector('#df-27311b12-5020-441c-9d9a-57a230ea81d7 button');\n",
              "      quickchartButtonEl.style.display =\n",
              "        google.colab.kernel.accessAllowed ? 'block' : 'none';\n",
              "    })();\n",
              "  </script>\n",
              "</div>\n",
              "\n",
              "  <div id=\"id_ad9d4be4-08e5-4ce5-88b4-e05f415eb309\">\n",
              "    <style>\n",
              "      .colab-df-generate {\n",
              "        background-color: #E8F0FE;\n",
              "        border: none;\n",
              "        border-radius: 50%;\n",
              "        cursor: pointer;\n",
              "        display: none;\n",
              "        fill: #1967D2;\n",
              "        height: 32px;\n",
              "        padding: 0 0 0 0;\n",
              "        width: 32px;\n",
              "      }\n",
              "\n",
              "      .colab-df-generate:hover {\n",
              "        background-color: #E2EBFA;\n",
              "        box-shadow: 0px 1px 2px rgba(60, 64, 67, 0.3), 0px 1px 3px 1px rgba(60, 64, 67, 0.15);\n",
              "        fill: #174EA6;\n",
              "      }\n",
              "\n",
              "      [theme=dark] .colab-df-generate {\n",
              "        background-color: #3B4455;\n",
              "        fill: #D2E3FC;\n",
              "      }\n",
              "\n",
              "      [theme=dark] .colab-df-generate:hover {\n",
              "        background-color: #434B5C;\n",
              "        box-shadow: 0px 1px 3px 1px rgba(0, 0, 0, 0.15);\n",
              "        filter: drop-shadow(0px 1px 2px rgba(0, 0, 0, 0.3));\n",
              "        fill: #FFFFFF;\n",
              "      }\n",
              "    </style>\n",
              "    <button class=\"colab-df-generate\" onclick=\"generateWithVariable('results_df')\"\n",
              "            title=\"Generate code using this dataframe.\"\n",
              "            style=\"display:none;\">\n",
              "\n",
              "  <svg xmlns=\"http://www.w3.org/2000/svg\" height=\"24px\"viewBox=\"0 0 24 24\"\n",
              "       width=\"24px\">\n",
              "    <path d=\"M7,19H8.4L18.45,9,17,7.55,7,17.6ZM5,21V16.75L18.45,3.32a2,2,0,0,1,2.83,0l1.4,1.43a1.91,1.91,0,0,1,.58,1.4,1.91,1.91,0,0,1-.58,1.4L9.25,21ZM18.45,9,17,7.55Zm-12,3A5.31,5.31,0,0,0,4.9,8.1,5.31,5.31,0,0,0,1,6.5,5.31,5.31,0,0,0,4.9,4.9,5.31,5.31,0,0,0,6.5,1,5.31,5.31,0,0,0,8.1,4.9,5.31,5.31,0,0,0,12,6.5,5.46,5.46,0,0,0,6.5,12Z\"/>\n",
              "  </svg>\n",
              "    </button>\n",
              "    <script>\n",
              "      (() => {\n",
              "      const buttonEl =\n",
              "        document.querySelector('#id_ad9d4be4-08e5-4ce5-88b4-e05f415eb309 button.colab-df-generate');\n",
              "      buttonEl.style.display =\n",
              "        google.colab.kernel.accessAllowed ? 'block' : 'none';\n",
              "\n",
              "      buttonEl.onclick = () => {\n",
              "        google.colab.notebook.generateWithVariable('results_df');\n",
              "      }\n",
              "      })();\n",
              "    </script>\n",
              "  </div>\n",
              "\n",
              "    </div>\n",
              "  </div>\n"
            ],
            "application/vnd.google.colaboratory.intrinsic+json": {
              "type": "dataframe",
              "variable_name": "results_df",
              "summary": "{\n  \"name\": \"results_df\",\n  \"rows\": 51,\n  \"fields\": [\n    {\n      \"column\": \"combination\",\n      \"properties\": {\n        \"dtype\": \"string\",\n        \"num_unique_values\": 48,\n        \"samples\": [\n          \"05_04_01\",\n          \"08_07_04\",\n          \"05_03_01\"\n        ],\n        \"semantic_type\": \"\",\n        \"description\": \"\"\n      }\n    },\n    {\n      \"column\": \"accuracy\",\n      \"properties\": {\n        \"dtype\": \"number\",\n        \"std\": 0.06419957204368776,\n        \"min\": 0.7625,\n        \"max\": 0.987795576,\n        \"num_unique_values\": 41,\n        \"samples\": [\n          0.964444444,\n          0.844444444,\n          0.905405405\n        ],\n        \"semantic_type\": \"\",\n        \"description\": \"\"\n      }\n    },\n    {\n      \"column\": \"precision\",\n      \"properties\": {\n        \"dtype\": \"number\",\n        \"std\": 0.05819999017596252,\n        \"min\": 0.776497696,\n        \"max\": 0.98741017,\n        \"num_unique_values\": 49,\n        \"samples\": [\n          0.881883212,\n          0.940098376,\n          0.9552083333333333\n        ],\n        \"semantic_type\": \"\",\n        \"description\": \"\"\n      }\n    },\n    {\n      \"column\": \"recall\",\n      \"properties\": {\n        \"dtype\": \"number\",\n        \"std\": 0.0610964389718553,\n        \"min\": 0.7625,\n        \"max\": 0.9885,\n        \"num_unique_values\": 47,\n        \"samples\": [\n          0.975,\n          0.955458604,\n          0.96375\n        ],\n        \"semantic_type\": \"\",\n        \"description\": \"\"\n      }\n    },\n    {\n      \"column\": \"f1_score\",\n      \"properties\": {\n        \"dtype\": \"number\",\n        \"std\": 0.06392289798533739,\n        \"min\": 0.756058418,\n        \"max\": 0.987645863,\n        \"num_unique_values\": 49,\n        \"samples\": [\n          0.887477074,\n          0.940929267,\n          0.9486336552290939\n        ],\n        \"semantic_type\": \"\",\n        \"description\": \"\"\n      }\n    },\n    {\n      \"column\": \"kappa\",\n      \"properties\": {\n        \"dtype\": \"number\",\n        \"std\": 0.12324651239780954,\n        \"min\": 0.525,\n        \"max\": 0.983624986,\n        \"num_unique_values\": 47,\n        \"samples\": [\n          0.948340404,\n          0.907357499,\n          0.927963982\n        ],\n        \"semantic_type\": \"\",\n        \"description\": \"\"\n      }\n    }\n  ]\n}"
            }
          },
          "metadata": {}
        }
      ],
      "source": [
        "import tensorflow as tf\n",
        "import tf_keras # Keras 2\n",
        "from tf_keras.optimizers import Adam\n",
        "import pickle\n",
        "from sklearn.metrics import precision_recall_fscore_support, cohen_kappa_score, accuracy_score\n",
        "\n",
        "\n",
        "global color_mode, label_mode, batch_size\n",
        "batch_size = 32\n",
        "color_mode = 'rgb'\n",
        "label_mode = \"categorical\"\n",
        "\n",
        "def buildTestset(testset_no, preprocessing_no, model_no):\n",
        "    # global main_path, testsets_data, models_data, class_names_list, batch_size, color_mode, label_mode\n",
        "    dat_mtd = testset_no + '_' + preprocessing_no\n",
        "    dat_mtd_model = dat_mtd + '_' + model_no\n",
        "    testset_path = testsets_data[dat_mtd]\n",
        "\n",
        "    try:\n",
        "        model_path = models_data[dat_mtd_model]\n",
        "    except:\n",
        "        print(f'Model {dat_mtd_model} does not exist')\n",
        "        return\n",
        "\n",
        "    class_names = class_names_list[testset_no]\n",
        "    print(f'dataset: {dat_mtd}, path: {testset_path}, model path: {model_path}, class_names: {class_names}')\n",
        "    if model_no == '01':\n",
        "        image_size = (380, 380)\n",
        "    else:\n",
        "        image_size = (224, 224)\n",
        "    testset = image_dataset_from_directory(\n",
        "        directory= testset_path,\n",
        "        labels=\"inferred\",\n",
        "        label_mode=label_mode,\n",
        "        class_names=class_names,\n",
        "        color_mode=color_mode,\n",
        "        batch_size=batch_size,\n",
        "        image_size=image_size,\n",
        "        shuffle=False,\n",
        "        # seed=42,\n",
        "        # validation_split=0.2,\n",
        "        # subset=\"validation\",\n",
        "        interpolation=\"bilinear\",\n",
        "        # follow_links=False,\n",
        "        # crop_to_aspect_ratio=False,\n",
        "        # data_format=None,\n",
        "    )\n",
        "\n",
        "    num_classes = len(class_names)\n",
        "    print(\"Class names:\", testset.class_names)\n",
        "    print(\"Number of classes: \", num_classes)\n",
        "\n",
        "    return testset, model_path, dat_mtd_model\n",
        "\n",
        "def predict(testset, model_path, dat_mtd_model):\n",
        "    filepaths = testset.file_paths\n",
        "    # df_results['filepath'] = filepath\n",
        "\n",
        "    # Take actual label. Với argmax tìm giá trị lớn nhất dọc trục cuối cung2 (trục lớp) của mỗi mẫu.\n",
        "    # actuals = []\n",
        "    # for img, label in testset:\n",
        "    #     # actuals += np.array(np.argmax(label, axis=-1)).flatten().tolist()\n",
        "    #     actuals.extend(np.argmax(label, axis=-1).tolist())\n",
        "    actuals = np.concatenate([np.argmax(label, axis=-1).flatten() for img, label in testset]).tolist()\n",
        "    # df_results['actual'] = actual\n",
        "\n",
        "    # Load the model\n",
        "    _, extension = os.path.splitext(model_path)\n",
        "    if extension == '.h5':\n",
        "        model = tf_keras.models.load_model(model_path, custom_objects={'Adam': Adam}) # keras 2\n",
        "    elif extension == '.keras':\n",
        "        model = load_model(model_path) # keras 3\n",
        "\n",
        "\n",
        "    # Make prediction\n",
        "    preds = []\n",
        "    for img, label in testset:\n",
        "        prediction = model.predict(img)\n",
        "        if len(testset.class_names) == 2:\n",
        "            preds += [1 if i > 0.5 else 0 for i in prediction]\n",
        "        else:\n",
        "            preds += np.argmax(prediction, axis=-1).tolist()\n",
        "\n",
        "    # Calculate accuracy\n",
        "    accuracy = accuracy_score(actuals, preds)\n",
        "    # Calculate precision, recall, and F1 score in macro average\n",
        "    precision, recall, f1_score, _ = precision_recall_fscore_support(actuals, preds, average='macro')\n",
        "    # Calculate Cohen's Kappa. Weight: 'linear' khi khác biệt giữa các lớp là tuyến tính; 'quadratic' nếu khác biệt các lớp là phi tuyến tính.\n",
        "    kappa = cohen_kappa_score(actuals, preds)\n",
        "\n",
        "    with open(f'{main_path}/prediction/{dat_mtd_model}.pkl', 'wb') as f:\n",
        "        pickle.dump({'filepath': filepaths, 'actual': actuals, 'pred': preds}, f)\n",
        "\n",
        "    print(f'combination: {dat_mtd_model}, filepath: {len(filepaths)}, actual: {len(actuals)}, pred: {len(preds)}')\n",
        "    print(f'accuracy: {accuracy}, precision: {precision}, recall: {recall}, f1_score: {f1_score}, kappa: {kappa}')\n",
        "\n",
        "    # calCM(actuals, preds, class_names, dat_mtd_model)\n",
        "\n",
        "    return dat_mtd_model, accuracy, precision, recall, f1_score, kappa\n",
        "\n",
        "# results_df = pd.DataFrame(columns=['combination', 'accuracy', 'precision', 'recall', 'f1_score', 'kappa'])\n",
        "# recover\n",
        "results_df = pd.read_csv(f'{main_path}/results.csv')\n",
        "\n",
        "for testset_no in testsets:\n",
        "    for preprocessing_no in preprocessings:\n",
        "        for model_no in models:\n",
        "            result = buildTestset(testset_no, preprocessing_no, model_no)\n",
        "            if result is not None:\n",
        "                testset, model_path, dat_mtd_model = result\n",
        "            else:\n",
        "                continue\n",
        "\n",
        "            result = predict(testset, model_path, dat_mtd_model)\n",
        "            if result is not None:\n",
        "                dat_mtd_model, accuracy, precision, recall, f1_score, kappa = result\n",
        "                result_df = pd.DataFrame([{\n",
        "                    'combination': dat_mtd_model,\n",
        "                    'accuracy': accuracy,\n",
        "                    'precision': precision,\n",
        "                    'recall': recall,\n",
        "                    'f1_score': f1_score,\n",
        "                    'kappa': kappa\n",
        "                }])\n",
        "\n",
        "                results_df = pd.concat([results_df, result_df], ignore_index=True)\n",
        "                results_df.to_csv(f'{main_path}/results.csv', index=False)\n",
        "\n",
        "\n",
        "display(results_df)\n",
        "# results_df.to_csv(f'{main_path}/results.csv', index=False)\n"
      ]
    },
    {
      "cell_type": "code",
      "source": [
        "with open(f'{main_path}/prediction/08_07_04.pkl', 'rb') as f:\n",
        "    result = pickle.load(f)\n",
        "    print(result)"
      ],
      "metadata": {
        "colab": {
          "base_uri": "https://localhost:8080/"
        },
        "id": "OJ1C3Ei7crSp",
        "outputId": "c25d1b8f-290e-4693-ccdb-f469be00ed8d"
      },
      "execution_count": null,
      "outputs": [
        {
          "output_type": "stream",
          "name": "stdout",
          "text": [
            "{'filepath': ['/content/drive/MyDrive/Colab Notebooks/Thesis/Analysis/test_dataset/08_07/Benign/benign_Adjusted (10).jpg', '/content/drive/MyDrive/Colab Notebooks/Thesis/Analysis/test_dataset/08_07/Benign/benign_Adjusted (110).jpg', '/content/drive/MyDrive/Colab Notebooks/Thesis/Analysis/test_dataset/08_07/Benign/benign_Adjusted (117).jpg', '/content/drive/MyDrive/Colab Notebooks/Thesis/Analysis/test_dataset/08_07/Benign/benign_Adjusted (118).jpg', '/content/drive/MyDrive/Colab Notebooks/Thesis/Analysis/test_dataset/08_07/Benign/benign_Adjusted (13).jpg', '/content/drive/MyDrive/Colab Notebooks/Thesis/Analysis/test_dataset/08_07/Benign/benign_Adjusted (138).jpg', '/content/drive/MyDrive/Colab Notebooks/Thesis/Analysis/test_dataset/08_07/Benign/benign_Adjusted (142).jpg', '/content/drive/MyDrive/Colab Notebooks/Thesis/Analysis/test_dataset/08_07/Benign/benign_Adjusted (143).jpg', '/content/drive/MyDrive/Colab Notebooks/Thesis/Analysis/test_dataset/08_07/Benign/benign_Adjusted (144).jpg', '/content/drive/MyDrive/Colab Notebooks/Thesis/Analysis/test_dataset/08_07/Benign/benign_Adjusted (146).jpg', '/content/drive/MyDrive/Colab Notebooks/Thesis/Analysis/test_dataset/08_07/Benign/benign_Adjusted (147).jpg', '/content/drive/MyDrive/Colab Notebooks/Thesis/Analysis/test_dataset/08_07/Benign/benign_Adjusted (148).jpg', '/content/drive/MyDrive/Colab Notebooks/Thesis/Analysis/test_dataset/08_07/Benign/benign_Adjusted (151).jpg', '/content/drive/MyDrive/Colab Notebooks/Thesis/Analysis/test_dataset/08_07/Benign/benign_Adjusted (163).jpg', '/content/drive/MyDrive/Colab Notebooks/Thesis/Analysis/test_dataset/08_07/Benign/benign_Adjusted (171).jpg', '/content/drive/MyDrive/Colab Notebooks/Thesis/Analysis/test_dataset/08_07/Benign/benign_Adjusted (178).jpg', '/content/drive/MyDrive/Colab Notebooks/Thesis/Analysis/test_dataset/08_07/Benign/benign_Adjusted (179).jpg', '/content/drive/MyDrive/Colab Notebooks/Thesis/Analysis/test_dataset/08_07/Benign/benign_Adjusted (181).jpg', '/content/drive/MyDrive/Colab Notebooks/Thesis/Analysis/test_dataset/08_07/Benign/benign_Adjusted (189).jpg', '/content/drive/MyDrive/Colab Notebooks/Thesis/Analysis/test_dataset/08_07/Benign/benign_Adjusted (191).jpg', '/content/drive/MyDrive/Colab Notebooks/Thesis/Analysis/test_dataset/08_07/Benign/benign_Adjusted (194).jpg', '/content/drive/MyDrive/Colab Notebooks/Thesis/Analysis/test_dataset/08_07/Benign/benign_Adjusted (195).jpg', '/content/drive/MyDrive/Colab Notebooks/Thesis/Analysis/test_dataset/08_07/Benign/benign_Adjusted (28).jpg', '/content/drive/MyDrive/Colab Notebooks/Thesis/Analysis/test_dataset/08_07/Benign/benign_Adjusted (36).jpg', '/content/drive/MyDrive/Colab Notebooks/Thesis/Analysis/test_dataset/08_07/Benign/benign_Adjusted (4).jpg', '/content/drive/MyDrive/Colab Notebooks/Thesis/Analysis/test_dataset/08_07/Benign/benign_Adjusted (53).jpg', '/content/drive/MyDrive/Colab Notebooks/Thesis/Analysis/test_dataset/08_07/Benign/benign_Adjusted (55).jpg', '/content/drive/MyDrive/Colab Notebooks/Thesis/Analysis/test_dataset/08_07/Benign/benign_Adjusted (63).jpg', '/content/drive/MyDrive/Colab Notebooks/Thesis/Analysis/test_dataset/08_07/Benign/benign_Adjusted (64).jpg', '/content/drive/MyDrive/Colab Notebooks/Thesis/Analysis/test_dataset/08_07/Benign/benign_Adjusted (69).jpg', '/content/drive/MyDrive/Colab Notebooks/Thesis/Analysis/test_dataset/08_07/Benign/benign_Adjusted (71).jpg', '/content/drive/MyDrive/Colab Notebooks/Thesis/Analysis/test_dataset/08_07/Benign/benign_Adjusted (76).jpg', '/content/drive/MyDrive/Colab Notebooks/Thesis/Analysis/test_dataset/08_07/Benign/benign_Adjusted (88).jpg', '/content/drive/MyDrive/Colab Notebooks/Thesis/Analysis/test_dataset/08_07/Benign/benign_Adjusted (89).jpg', '/content/drive/MyDrive/Colab Notebooks/Thesis/Analysis/test_dataset/08_07/Benign/benign_Adjusted (9).jpg', '/content/drive/MyDrive/Colab Notebooks/Thesis/Analysis/test_dataset/08_07/Benign/benign_Adjusted (90).jpg', '/content/drive/MyDrive/Colab Notebooks/Thesis/Analysis/test_dataset/08_07/Benign/benign_Adjusted (91).jpg', '/content/drive/MyDrive/Colab Notebooks/Thesis/Analysis/test_dataset/08_07/Malignant/malignant_Adjusted (10).jpg', '/content/drive/MyDrive/Colab Notebooks/Thesis/Analysis/test_dataset/08_07/Malignant/malignant_Adjusted (103).jpg', '/content/drive/MyDrive/Colab Notebooks/Thesis/Analysis/test_dataset/08_07/Malignant/malignant_Adjusted (11).jpg', '/content/drive/MyDrive/Colab Notebooks/Thesis/Analysis/test_dataset/08_07/Malignant/malignant_Adjusted (111).jpg', '/content/drive/MyDrive/Colab Notebooks/Thesis/Analysis/test_dataset/08_07/Malignant/malignant_Adjusted (114).jpg', '/content/drive/MyDrive/Colab Notebooks/Thesis/Analysis/test_dataset/08_07/Malignant/malignant_Adjusted (130).jpg', '/content/drive/MyDrive/Colab Notebooks/Thesis/Analysis/test_dataset/08_07/Malignant/malignant_Adjusted (136).jpg', '/content/drive/MyDrive/Colab Notebooks/Thesis/Analysis/test_dataset/08_07/Malignant/malignant_Adjusted (138).jpg', '/content/drive/MyDrive/Colab Notebooks/Thesis/Analysis/test_dataset/08_07/Malignant/malignant_Adjusted (145).jpg', '/content/drive/MyDrive/Colab Notebooks/Thesis/Analysis/test_dataset/08_07/Malignant/malignant_Adjusted (146).jpg', '/content/drive/MyDrive/Colab Notebooks/Thesis/Analysis/test_dataset/08_07/Malignant/malignant_Adjusted (150).jpg', '/content/drive/MyDrive/Colab Notebooks/Thesis/Analysis/test_dataset/08_07/Malignant/malignant_Adjusted (152).jpg', '/content/drive/MyDrive/Colab Notebooks/Thesis/Analysis/test_dataset/08_07/Malignant/malignant_Adjusted (156).jpg', '/content/drive/MyDrive/Colab Notebooks/Thesis/Analysis/test_dataset/08_07/Malignant/malignant_Adjusted (157).jpg', '/content/drive/MyDrive/Colab Notebooks/Thesis/Analysis/test_dataset/08_07/Malignant/malignant_Adjusted (161).jpg', '/content/drive/MyDrive/Colab Notebooks/Thesis/Analysis/test_dataset/08_07/Malignant/malignant_Adjusted (162).jpg', '/content/drive/MyDrive/Colab Notebooks/Thesis/Analysis/test_dataset/08_07/Malignant/malignant_Adjusted (165).jpg', '/content/drive/MyDrive/Colab Notebooks/Thesis/Analysis/test_dataset/08_07/Malignant/malignant_Adjusted (168).jpg', '/content/drive/MyDrive/Colab Notebooks/Thesis/Analysis/test_dataset/08_07/Malignant/malignant_Adjusted (183).jpg', '/content/drive/MyDrive/Colab Notebooks/Thesis/Analysis/test_dataset/08_07/Malignant/malignant_Adjusted (185).jpg', '/content/drive/MyDrive/Colab Notebooks/Thesis/Analysis/test_dataset/08_07/Malignant/malignant_Adjusted (192).jpg', '/content/drive/MyDrive/Colab Notebooks/Thesis/Analysis/test_dataset/08_07/Malignant/malignant_Adjusted (195).jpg', '/content/drive/MyDrive/Colab Notebooks/Thesis/Analysis/test_dataset/08_07/Malignant/malignant_Adjusted (197).jpg', '/content/drive/MyDrive/Colab Notebooks/Thesis/Analysis/test_dataset/08_07/Malignant/malignant_Adjusted (198).jpg', '/content/drive/MyDrive/Colab Notebooks/Thesis/Analysis/test_dataset/08_07/Malignant/malignant_Adjusted (200).jpg', '/content/drive/MyDrive/Colab Notebooks/Thesis/Analysis/test_dataset/08_07/Malignant/malignant_Adjusted (22).jpg', '/content/drive/MyDrive/Colab Notebooks/Thesis/Analysis/test_dataset/08_07/Malignant/malignant_Adjusted (26).jpg', '/content/drive/MyDrive/Colab Notebooks/Thesis/Analysis/test_dataset/08_07/Malignant/malignant_Adjusted (34).jpg', '/content/drive/MyDrive/Colab Notebooks/Thesis/Analysis/test_dataset/08_07/Malignant/malignant_Adjusted (36).jpg', '/content/drive/MyDrive/Colab Notebooks/Thesis/Analysis/test_dataset/08_07/Malignant/malignant_Adjusted (44).jpg', '/content/drive/MyDrive/Colab Notebooks/Thesis/Analysis/test_dataset/08_07/Malignant/malignant_Adjusted (48).jpg', '/content/drive/MyDrive/Colab Notebooks/Thesis/Analysis/test_dataset/08_07/Malignant/malignant_Adjusted (49).jpg', '/content/drive/MyDrive/Colab Notebooks/Thesis/Analysis/test_dataset/08_07/Malignant/malignant_Adjusted (5).jpg', '/content/drive/MyDrive/Colab Notebooks/Thesis/Analysis/test_dataset/08_07/Malignant/malignant_Adjusted (52).jpg', '/content/drive/MyDrive/Colab Notebooks/Thesis/Analysis/test_dataset/08_07/Malignant/malignant_Adjusted (62).jpg', '/content/drive/MyDrive/Colab Notebooks/Thesis/Analysis/test_dataset/08_07/Malignant/malignant_Adjusted (67).jpg', '/content/drive/MyDrive/Colab Notebooks/Thesis/Analysis/test_dataset/08_07/Malignant/malignant_Adjusted (68).jpg', '/content/drive/MyDrive/Colab Notebooks/Thesis/Analysis/test_dataset/08_07/Malignant/malignant_Adjusted (74).jpg', '/content/drive/MyDrive/Colab Notebooks/Thesis/Analysis/test_dataset/08_07/Malignant/malignant_Adjusted (84).jpg', '/content/drive/MyDrive/Colab Notebooks/Thesis/Analysis/test_dataset/08_07/Malignant/malignant_Adjusted (90).jpg', '/content/drive/MyDrive/Colab Notebooks/Thesis/Analysis/test_dataset/08_07/Malignant/malignant_Adjusted (93).jpg', '/content/drive/MyDrive/Colab Notebooks/Thesis/Analysis/test_dataset/08_07/Malignant/malignant_Adjusted (97).jpg', '/content/drive/MyDrive/Colab Notebooks/Thesis/Analysis/test_dataset/08_07/Malignant/malignant_Adjusted (99).jpg'], 'actual': [0, 0, 0, 0, 0, 0, 0, 0, 0, 0, 0, 0, 0, 0, 0, 0, 0, 0, 0, 0, 0, 0, 0, 0, 0, 0, 0, 0, 0, 0, 0, 0, 0, 0, 0, 0, 0, 1, 1, 1, 1, 1, 1, 1, 1, 1, 1, 1, 1, 1, 1, 1, 1, 1, 1, 1, 1, 1, 1, 1, 1, 1, 1, 1, 1, 1, 1, 1, 1, 1, 1, 1, 1, 1, 1, 1, 1, 1, 1, 1], 'pred': [0, 0, 0, 0, 0, 0, 0, 0, 0, 0, 0, 0, 0, 0, 0, 0, 1, 0, 0, 0, 0, 0, 0, 0, 0, 0, 0, 0, 0, 0, 0, 0, 1, 0, 0, 0, 0, 1, 1, 1, 1, 1, 1, 1, 1, 0, 1, 1, 1, 1, 0, 1, 1, 1, 1, 1, 1, 1, 1, 1, 1, 0, 1, 1, 1, 1, 1, 1, 1, 1, 0, 1, 1, 0, 1, 1, 1, 1, 1, 1]}\n"
          ]
        }
      ]
    },
    {
      "cell_type": "markdown",
      "source": [
        "## **An image prediction**"
      ],
      "metadata": {
        "id": "Oh-I-cPlpF4J"
      }
    },
    {
      "cell_type": "code",
      "source": [
        "import os\n",
        "import pandas as pd\n",
        "import numpy as np\n",
        "import tensorflow as tf\n",
        "from tensorflow.keras.models import load_model\n",
        "from tensorflow.keras.preprocessing import image_dataset_from_directory\n",
        "from tensorflow.keras.utils import img_to_array, load_img\n",
        "import tf_keras # keras 2\n"
      ],
      "metadata": {
        "id": "f27YTr_3pFWT"
      },
      "execution_count": 6,
      "outputs": []
    },
    {
      "cell_type": "code",
      "source": [
        "model = tf_keras.models.load_model('/content/drive/MyDrive/Colab Notebooks/Thesis/Model/09_07/09_07_05/best_model_val_acc.h5') # brain-ct - mobilenet\n",
        "img = load_img(\n",
        "            '/content/drive/MyDrive/Colab Notebooks/Thesis/Analysis/test_dataset/Brain-Stroke-CT-Image-Dataset_Median-Mean-Hybrid-Filter/Stroke/88 (16).jpg',\n",
        "            target_size = (224, 224),\n",
        "            # target_size = (380, 380),\n",
        "            color_mode = 'rgb',\n",
        "            interpolation = 'bilinear'\n",
        "        )\n",
        "img = np.expand_dims(img, axis=0)\n",
        "prediction = model.predict(img)\n",
        "print(prediction)\n"
      ],
      "metadata": {
        "colab": {
          "base_uri": "https://localhost:8080/"
        },
        "id": "ricVSaC_pRwv",
        "outputId": "b248b153-bbd7-4c9d-eae1-89a637f41a98"
      },
      "execution_count": 8,
      "outputs": [
        {
          "output_type": "stream",
          "name": "stdout",
          "text": [
            "1/1 [==============================] - 2s 2s/step\n",
            "[[0.27553144]]\n"
          ]
        }
      ]
    }
  ],
  "metadata": {
    "colab": {
      "provenance": []
    },
    "kernelspec": {
      "display_name": "Python 3",
      "name": "python3"
    },
    "language_info": {
      "name": "python"
    }
  },
  "nbformat": 4,
  "nbformat_minor": 0
}